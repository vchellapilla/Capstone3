{
 "cells": [
  {
   "cell_type": "markdown",
   "id": "e88d2bb9",
   "metadata": {},
   "source": [
    "# Capstone 3: Data Wrangling"
   ]
  },
  {
   "cell_type": "markdown",
   "id": "a52aff0f",
   "metadata": {},
   "source": [
    "# Imports"
   ]
  },
  {
   "cell_type": "code",
   "execution_count": 1,
   "id": "af6a2b5c",
   "metadata": {},
   "outputs": [],
   "source": [
    "#Import necessary packages/libraries\n",
    "\n",
    "import pandas as pd\n",
    "import numpy as np\n",
    "import missingno as msno\n",
    "import matplotlib.pyplot as plt\n",
    "import datetime\n",
    "import os\n",
    "import seaborn as sns"
   ]
  },
  {
   "cell_type": "markdown",
   "id": "c70c9416",
   "metadata": {},
   "source": [
    "This project will be employing three datasets."
   ]
  },
  {
   "cell_type": "markdown",
   "id": "6feeea9e",
   "metadata": {},
   "source": [
    "# Initial Look at the Datasets"
   ]
  },
  {
   "cell_type": "markdown",
   "id": "22cd2bba",
   "metadata": {},
   "source": [
    "The datasets were taken from <a href=\"https://github.com/sdl60660/letterboxd_recommendations\">GitHub</a> and <a href=\"https://www.kaggle.com/datasets/samlearner/letterboxd-movie-ratings-data\">Kaggle</a>."
   ]
  },
  {
   "cell_type": "code",
   "execution_count": 2,
   "id": "2403d0d6",
   "metadata": {},
   "outputs": [],
   "source": [
    "pd.set_option('display.max_columns', None)"
   ]
  },
  {
   "cell_type": "markdown",
   "id": "755834cd",
   "metadata": {},
   "source": [
    "## Dataset 1: Ratings"
   ]
  },
  {
   "cell_type": "markdown",
   "id": "a5c562ae",
   "metadata": {},
   "source": [
    "Load the dataset."
   ]
  },
  {
   "cell_type": "code",
   "execution_count": 3,
   "id": "9c8d14d0",
   "metadata": {},
   "outputs": [
    {
     "data": {
      "text/html": [
       "<div>\n",
       "<style scoped>\n",
       "    .dataframe tbody tr th:only-of-type {\n",
       "        vertical-align: middle;\n",
       "    }\n",
       "\n",
       "    .dataframe tbody tr th {\n",
       "        vertical-align: top;\n",
       "    }\n",
       "\n",
       "    .dataframe thead th {\n",
       "        text-align: right;\n",
       "    }\n",
       "</style>\n",
       "<table border=\"1\" class=\"dataframe\">\n",
       "  <thead>\n",
       "    <tr style=\"text-align: right;\">\n",
       "      <th></th>\n",
       "      <th>_id</th>\n",
       "      <th>movie_id</th>\n",
       "      <th>rating_val</th>\n",
       "      <th>user_id</th>\n",
       "    </tr>\n",
       "  </thead>\n",
       "  <tbody>\n",
       "    <tr>\n",
       "      <th>0</th>\n",
       "      <td>5fc57c5d6758f6963451a07f</td>\n",
       "      <td>feast-2014</td>\n",
       "      <td>7</td>\n",
       "      <td>deathproof</td>\n",
       "    </tr>\n",
       "    <tr>\n",
       "      <th>1</th>\n",
       "      <td>5fc57c5d6758f6963451a063</td>\n",
       "      <td>loving-2016</td>\n",
       "      <td>7</td>\n",
       "      <td>deathproof</td>\n",
       "    </tr>\n",
       "    <tr>\n",
       "      <th>2</th>\n",
       "      <td>5fc57c5d6758f6963451a0ef</td>\n",
       "      <td>scripted-content</td>\n",
       "      <td>7</td>\n",
       "      <td>deathproof</td>\n",
       "    </tr>\n",
       "    <tr>\n",
       "      <th>3</th>\n",
       "      <td>5fc57c5d6758f6963451a060</td>\n",
       "      <td>the-future</td>\n",
       "      <td>4</td>\n",
       "      <td>deathproof</td>\n",
       "    </tr>\n",
       "    <tr>\n",
       "      <th>4</th>\n",
       "      <td>5fc57c5c6758f69634519398</td>\n",
       "      <td>mank</td>\n",
       "      <td>5</td>\n",
       "      <td>deathproof</td>\n",
       "    </tr>\n",
       "  </tbody>\n",
       "</table>\n",
       "</div>"
      ],
      "text/plain": [
       "                        _id          movie_id  rating_val     user_id\n",
       "0  5fc57c5d6758f6963451a07f        feast-2014           7  deathproof\n",
       "1  5fc57c5d6758f6963451a063       loving-2016           7  deathproof\n",
       "2  5fc57c5d6758f6963451a0ef  scripted-content           7  deathproof\n",
       "3  5fc57c5d6758f6963451a060        the-future           4  deathproof\n",
       "4  5fc57c5c6758f69634519398              mank           5  deathproof"
      ]
     },
     "execution_count": 3,
     "metadata": {},
     "output_type": "execute_result"
    }
   ],
   "source": [
    "dfratings = pd.read_csv('ratings_export.csv')\n",
    "dfratings.head()"
   ]
  },
  {
   "cell_type": "code",
   "execution_count": 4,
   "id": "911b4958",
   "metadata": {},
   "outputs": [
    {
     "name": "stdout",
     "output_type": "stream",
     "text": [
      "<class 'pandas.core.frame.DataFrame'>\n",
      "RangeIndex: 11078167 entries, 0 to 11078166\n",
      "Data columns (total 4 columns):\n",
      " #   Column      Dtype \n",
      "---  ------      ----- \n",
      " 0   _id         object\n",
      " 1   movie_id    object\n",
      " 2   rating_val  int64 \n",
      " 3   user_id     object\n",
      "dtypes: int64(1), object(3)\n",
      "memory usage: 338.1+ MB\n"
     ]
    }
   ],
   "source": [
    "dfratings.info()"
   ]
  },
  {
   "cell_type": "markdown",
   "id": "d2467cee",
   "metadata": {},
   "source": [
    "From Kaggle, this first dataset is a set of \"movie ratings from top 4000 users at the time of the data crawl by the Kaggle user.\" The ratings are based on the number of stars given, \"with each half-star increment mapped to a 1 to 10 value.\" "
   ]
  },
  {
   "cell_type": "code",
   "execution_count": 5,
   "id": "d6998e19",
   "metadata": {},
   "outputs": [
    {
     "data": {
      "text/plain": [
       "11078167"
      ]
     },
     "execution_count": 5,
     "metadata": {},
     "output_type": "execute_result"
    }
   ],
   "source": [
    "len(dfratings)"
   ]
  },
  {
   "cell_type": "markdown",
   "id": "3f594062",
   "metadata": {},
   "source": [
    "The dataset has a total of 11,078,167 rows. Note the data type of each column. "
   ]
  },
  {
   "cell_type": "markdown",
   "id": "5a90716a",
   "metadata": {},
   "source": [
    "**_ id** is the global unique ID.\n",
    "<br>\n",
    "**movie_id** is the unique Letterboxd ID assigned to a movie.\n",
    "<br>\n",
    "**rating_val** is the rating value given by a user to a movie on a scale of half-star increments. A half-star is 1. 5 stars is 10.\n",
    "<br>\n",
    "**user_id** is the unqiue Letterboxd ID assigned to a user."
   ]
  },
  {
   "cell_type": "code",
   "execution_count": 6,
   "id": "aec126f5",
   "metadata": {},
   "outputs": [
    {
     "data": {
      "text/plain": [
       "_id           11078167\n",
       "movie_id        286070\n",
       "rating_val          10\n",
       "user_id           7477\n",
       "dtype: int64"
      ]
     },
     "execution_count": 6,
     "metadata": {},
     "output_type": "execute_result"
    }
   ],
   "source": [
    "dfratings.nunique()"
   ]
  },
  {
   "cell_type": "markdown",
   "id": "534b66c6",
   "metadata": {},
   "source": [
    "This shows us that 7,477 unique users reviewed 286,070 movies."
   ]
  },
  {
   "cell_type": "markdown",
   "id": "51d184dc",
   "metadata": {},
   "source": [
    "### Missing Values"
   ]
  },
  {
   "cell_type": "code",
   "execution_count": 7,
   "id": "a16bd7ae",
   "metadata": {},
   "outputs": [
    {
     "data": {
      "text/plain": [
       "_id           0\n",
       "movie_id      6\n",
       "rating_val    0\n",
       "user_id       0\n",
       "dtype: int64"
      ]
     },
     "execution_count": 7,
     "metadata": {},
     "output_type": "execute_result"
    }
   ],
   "source": [
    "dfratings.isna().sum()"
   ]
  },
  {
   "cell_type": "markdown",
   "id": "e8ae2373",
   "metadata": {},
   "source": [
    "There are 6 missing values in the **movie_id** columns."
   ]
  },
  {
   "cell_type": "code",
   "execution_count": 8,
   "id": "72ae5c8c",
   "metadata": {},
   "outputs": [
    {
     "data": {
      "text/html": [
       "<div>\n",
       "<style scoped>\n",
       "    .dataframe tbody tr th:only-of-type {\n",
       "        vertical-align: middle;\n",
       "    }\n",
       "\n",
       "    .dataframe tbody tr th {\n",
       "        vertical-align: top;\n",
       "    }\n",
       "\n",
       "    .dataframe thead th {\n",
       "        text-align: right;\n",
       "    }\n",
       "</style>\n",
       "<table border=\"1\" class=\"dataframe\">\n",
       "  <thead>\n",
       "    <tr style=\"text-align: right;\">\n",
       "      <th></th>\n",
       "      <th>_id</th>\n",
       "      <th>movie_id</th>\n",
       "      <th>rating_val</th>\n",
       "      <th>user_id</th>\n",
       "    </tr>\n",
       "  </thead>\n",
       "  <tbody>\n",
       "    <tr>\n",
       "      <th>6766340</th>\n",
       "      <td>5fd05e0ab89a841f5b224790</td>\n",
       "      <td>NaN</td>\n",
       "      <td>6</td>\n",
       "      <td>ghettominibar</td>\n",
       "    </tr>\n",
       "    <tr>\n",
       "      <th>6783993</th>\n",
       "      <td>5fd070c6b89a841f5b22a472</td>\n",
       "      <td>NaN</td>\n",
       "      <td>10</td>\n",
       "      <td>lancelubelski</td>\n",
       "    </tr>\n",
       "    <tr>\n",
       "      <th>6785171</th>\n",
       "      <td>5fd072a5b89a841f5b22acb6</td>\n",
       "      <td>NaN</td>\n",
       "      <td>6</td>\n",
       "      <td>deepbluefunk</td>\n",
       "    </tr>\n",
       "    <tr>\n",
       "      <th>7070391</th>\n",
       "      <td>600c858fba1595b3679dacd2</td>\n",
       "      <td>NaN</td>\n",
       "      <td>5</td>\n",
       "      <td>welovemovies</td>\n",
       "    </tr>\n",
       "    <tr>\n",
       "      <th>7306719</th>\n",
       "      <td>6088259e28f29d0115e0c920</td>\n",
       "      <td>NaN</td>\n",
       "      <td>7</td>\n",
       "      <td>ghettominibar</td>\n",
       "    </tr>\n",
       "    <tr>\n",
       "      <th>8492587</th>\n",
       "      <td>60fc5207d72bb4dd0a693e08</td>\n",
       "      <td>NaN</td>\n",
       "      <td>5</td>\n",
       "      <td>acervofilmico</td>\n",
       "    </tr>\n",
       "  </tbody>\n",
       "</table>\n",
       "</div>"
      ],
      "text/plain": [
       "                              _id movie_id  rating_val        user_id\n",
       "6766340  5fd05e0ab89a841f5b224790      NaN           6  ghettominibar\n",
       "6783993  5fd070c6b89a841f5b22a472      NaN          10  lancelubelski\n",
       "6785171  5fd072a5b89a841f5b22acb6      NaN           6   deepbluefunk\n",
       "7070391  600c858fba1595b3679dacd2      NaN           5   welovemovies\n",
       "7306719  6088259e28f29d0115e0c920      NaN           7  ghettominibar\n",
       "8492587  60fc5207d72bb4dd0a693e08      NaN           5  acervofilmico"
      ]
     },
     "execution_count": 8,
     "metadata": {},
     "output_type": "execute_result"
    }
   ],
   "source": [
    "dfratings[dfratings['movie_id'].isna()]"
   ]
  },
  {
   "cell_type": "markdown",
   "id": "b755bc87",
   "metadata": {},
   "source": [
    "We will remove these rows from the dataset"
   ]
  },
  {
   "cell_type": "code",
   "execution_count": 9,
   "id": "894f6e0b",
   "metadata": {},
   "outputs": [],
   "source": [
    "dfratings['movie_id']=dfratings['movie_id'].dropna()"
   ]
  },
  {
   "cell_type": "markdown",
   "id": "0d950589",
   "metadata": {},
   "source": [
    "### Duplicates"
   ]
  },
  {
   "cell_type": "code",
   "execution_count": 10,
   "id": "986bb3d8",
   "metadata": {},
   "outputs": [
    {
     "data": {
      "text/plain": [
       "0"
      ]
     },
     "execution_count": 10,
     "metadata": {},
     "output_type": "execute_result"
    }
   ],
   "source": [
    "dfratings.duplicated().sum()"
   ]
  },
  {
   "cell_type": "markdown",
   "id": "54f273f9",
   "metadata": {},
   "source": [
    "Thus, no duplicate values."
   ]
  },
  {
   "cell_type": "markdown",
   "id": "1c27fff2",
   "metadata": {},
   "source": [
    "## Dataset 2: Users"
   ]
  },
  {
   "cell_type": "markdown",
   "id": "d687da37",
   "metadata": {},
   "source": [
    "Load the dataset."
   ]
  },
  {
   "cell_type": "code",
   "execution_count": 11,
   "id": "819e8c60",
   "metadata": {},
   "outputs": [
    {
     "data": {
      "text/html": [
       "<div>\n",
       "<style scoped>\n",
       "    .dataframe tbody tr th:only-of-type {\n",
       "        vertical-align: middle;\n",
       "    }\n",
       "\n",
       "    .dataframe tbody tr th {\n",
       "        vertical-align: top;\n",
       "    }\n",
       "\n",
       "    .dataframe thead th {\n",
       "        text-align: right;\n",
       "    }\n",
       "</style>\n",
       "<table border=\"1\" class=\"dataframe\">\n",
       "  <thead>\n",
       "    <tr style=\"text-align: right;\">\n",
       "      <th></th>\n",
       "      <th>_id</th>\n",
       "      <th>display_name</th>\n",
       "      <th>num_ratings_pages</th>\n",
       "      <th>num_reviews</th>\n",
       "      <th>username</th>\n",
       "    </tr>\n",
       "  </thead>\n",
       "  <tbody>\n",
       "    <tr>\n",
       "      <th>0</th>\n",
       "      <td>5fc4172ec6cd28ebd99dd0e2</td>\n",
       "      <td>Lucy</td>\n",
       "      <td>32.0</td>\n",
       "      <td>1650</td>\n",
       "      <td>deathproof</td>\n",
       "    </tr>\n",
       "    <tr>\n",
       "      <th>1</th>\n",
       "      <td>5fc4172ec6cd28ebd99dd0ea</td>\n",
       "      <td>Matt Singer</td>\n",
       "      <td>52.0</td>\n",
       "      <td>1915</td>\n",
       "      <td>superpulse</td>\n",
       "    </tr>\n",
       "    <tr>\n",
       "      <th>2</th>\n",
       "      <td>5fc4172ec6cd28ebd99dd0ed</td>\n",
       "      <td>Sean Baker</td>\n",
       "      <td>21.0</td>\n",
       "      <td>1283</td>\n",
       "      <td>lilfilm</td>\n",
       "    </tr>\n",
       "    <tr>\n",
       "      <th>3</th>\n",
       "      <td>5fc4172ec6cd28ebd99dd0ee</td>\n",
       "      <td>iana</td>\n",
       "      <td>37.0</td>\n",
       "      <td>1177</td>\n",
       "      <td>ianamurray</td>\n",
       "    </tr>\n",
       "    <tr>\n",
       "      <th>4</th>\n",
       "      <td>5fc419171ebf67b9fbe48615</td>\n",
       "      <td>Lizzy</td>\n",
       "      <td>57.0</td>\n",
       "      <td>1810</td>\n",
       "      <td>punchdrunklizzy</td>\n",
       "    </tr>\n",
       "  </tbody>\n",
       "</table>\n",
       "</div>"
      ],
      "text/plain": [
       "                        _id display_name  num_ratings_pages  num_reviews  \\\n",
       "0  5fc4172ec6cd28ebd99dd0e2         Lucy               32.0         1650   \n",
       "1  5fc4172ec6cd28ebd99dd0ea  Matt Singer               52.0         1915   \n",
       "2  5fc4172ec6cd28ebd99dd0ed   Sean Baker               21.0         1283   \n",
       "3  5fc4172ec6cd28ebd99dd0ee         iana               37.0         1177   \n",
       "4  5fc419171ebf67b9fbe48615        Lizzy               57.0         1810   \n",
       "\n",
       "          username  \n",
       "0       deathproof  \n",
       "1       superpulse  \n",
       "2          lilfilm  \n",
       "3       ianamurray  \n",
       "4  punchdrunklizzy  "
      ]
     },
     "execution_count": 11,
     "metadata": {},
     "output_type": "execute_result"
    }
   ],
   "source": [
    "dfusers = pd.read_csv('users_export.csv')\n",
    "dfusers.head()"
   ]
  },
  {
   "cell_type": "code",
   "execution_count": 12,
   "id": "44207863",
   "metadata": {},
   "outputs": [
    {
     "name": "stdout",
     "output_type": "stream",
     "text": [
      "<class 'pandas.core.frame.DataFrame'>\n",
      "RangeIndex: 8139 entries, 0 to 8138\n",
      "Data columns (total 5 columns):\n",
      " #   Column             Non-Null Count  Dtype  \n",
      "---  ------             --------------  -----  \n",
      " 0   _id                8139 non-null   object \n",
      " 1   display_name       7832 non-null   object \n",
      " 2   num_ratings_pages  4747 non-null   float64\n",
      " 3   num_reviews        8139 non-null   int64  \n",
      " 4   username           8139 non-null   object \n",
      "dtypes: float64(1), int64(1), object(3)\n",
      "memory usage: 318.1+ KB\n"
     ]
    }
   ],
   "source": [
    "dfusers.info()"
   ]
  },
  {
   "cell_type": "markdown",
   "id": "94001640",
   "metadata": {},
   "source": [
    "The second dataset is described by the Kaggle user as a \"[v]ery basic data on all users represented in the ratings data. At the time that their ratings data was crawled, they were one of the top users on Letterboxd (though technically is an ever-fluctuating group).\""
   ]
  },
  {
   "cell_type": "code",
   "execution_count": 13,
   "id": "edfd4e80",
   "metadata": {},
   "outputs": [
    {
     "data": {
      "text/plain": [
       "8139"
      ]
     },
     "execution_count": 13,
     "metadata": {},
     "output_type": "execute_result"
    }
   ],
   "source": [
    "len(dfusers)"
   ]
  },
  {
   "cell_type": "markdown",
   "id": "f7d06816",
   "metadata": {},
   "source": [
    "The dataset has a total of 8,139 rows."
   ]
  },
  {
   "cell_type": "markdown",
   "id": "9657a349",
   "metadata": {},
   "source": [
    "**_ id** is the global unique ID.\n",
    "<br>\n",
    "**display_name** is the unique Letterboxd ID/username. It is used to form a Letterboxd URL.\n",
    "<br>\n",
    "**num_ratings_pages** is the number of pages of ratings\n",
    "<br>\n",
    "**num_reviews** is the total number of reviews given by a user.\n",
    "<br>\n",
    "**username** is the display name on Letterboxd at the time of the last crawl."
   ]
  },
  {
   "cell_type": "markdown",
   "id": "ea3d14d0",
   "metadata": {},
   "source": [
    "### Missing Values"
   ]
  },
  {
   "cell_type": "code",
   "execution_count": 14,
   "id": "cdfcf495",
   "metadata": {},
   "outputs": [
    {
     "data": {
      "text/plain": [
       "_id                     0\n",
       "display_name          307\n",
       "num_ratings_pages    3392\n",
       "num_reviews             0\n",
       "username                0\n",
       "dtype: int64"
      ]
     },
     "execution_count": 14,
     "metadata": {},
     "output_type": "execute_result"
    }
   ],
   "source": [
    "dfusers.isna().sum()"
   ]
  },
  {
   "cell_type": "markdown",
   "id": "f2950640",
   "metadata": {},
   "source": [
    "There are 3,392 users with missing pages of ratings they've given."
   ]
  },
  {
   "cell_type": "code",
   "execution_count": 15,
   "id": "d1c6798c",
   "metadata": {},
   "outputs": [
    {
     "data": {
      "text/html": [
       "<div>\n",
       "<style scoped>\n",
       "    .dataframe tbody tr th:only-of-type {\n",
       "        vertical-align: middle;\n",
       "    }\n",
       "\n",
       "    .dataframe tbody tr th {\n",
       "        vertical-align: top;\n",
       "    }\n",
       "\n",
       "    .dataframe thead th {\n",
       "        text-align: right;\n",
       "    }\n",
       "</style>\n",
       "<table border=\"1\" class=\"dataframe\">\n",
       "  <thead>\n",
       "    <tr style=\"text-align: right;\">\n",
       "      <th></th>\n",
       "      <th>_id</th>\n",
       "      <th>display_name</th>\n",
       "      <th>num_ratings_pages</th>\n",
       "      <th>num_reviews</th>\n",
       "      <th>username</th>\n",
       "    </tr>\n",
       "  </thead>\n",
       "  <tbody>\n",
       "    <tr>\n",
       "      <th>4747</th>\n",
       "      <td>6136136b4385873fc48ea127</td>\n",
       "      <td>Exorcism of Emily Reed</td>\n",
       "      <td>NaN</td>\n",
       "      <td>1889</td>\n",
       "      <td>exorcismemily</td>\n",
       "    </tr>\n",
       "    <tr>\n",
       "      <th>4748</th>\n",
       "      <td>613613844385873fc48eaf7c</td>\n",
       "      <td>Alicia Haddick</td>\n",
       "      <td>NaN</td>\n",
       "      <td>1223</td>\n",
       "      <td>socialanigirl</td>\n",
       "    </tr>\n",
       "    <tr>\n",
       "      <th>4749</th>\n",
       "      <td>613683a94385873fc4f8d763</td>\n",
       "      <td>rod !!</td>\n",
       "      <td>NaN</td>\n",
       "      <td>373</td>\n",
       "      <td>screeningsilver</td>\n",
       "    </tr>\n",
       "    <tr>\n",
       "      <th>4750</th>\n",
       "      <td>6136c28d4385873fc4499496</td>\n",
       "      <td>faycwalker</td>\n",
       "      <td>NaN</td>\n",
       "      <td>72</td>\n",
       "      <td>faycwalker</td>\n",
       "    </tr>\n",
       "    <tr>\n",
       "      <th>4751</th>\n",
       "      <td>6136c37c4385873fc44a8826</td>\n",
       "      <td>NaN</td>\n",
       "      <td>NaN</td>\n",
       "      <td>3</td>\n",
       "      <td>megveryser</td>\n",
       "    </tr>\n",
       "    <tr>\n",
       "      <th>...</th>\n",
       "      <td>...</td>\n",
       "      <td>...</td>\n",
       "      <td>...</td>\n",
       "      <td>...</td>\n",
       "      <td>...</td>\n",
       "    </tr>\n",
       "    <tr>\n",
       "      <th>8134</th>\n",
       "      <td>6239b430a936b956009c993c</td>\n",
       "      <td>Máté Turi-Mészáros</td>\n",
       "      <td>NaN</td>\n",
       "      <td>237</td>\n",
       "      <td>mateazember</td>\n",
       "    </tr>\n",
       "    <tr>\n",
       "      <th>8135</th>\n",
       "      <td>6239cbf7a936b95600a2d24c</td>\n",
       "      <td>Finn</td>\n",
       "      <td>NaN</td>\n",
       "      <td>297</td>\n",
       "      <td>finnvor1</td>\n",
       "    </tr>\n",
       "    <tr>\n",
       "      <th>8136</th>\n",
       "      <td>6239d254a936b95600a4472f</td>\n",
       "      <td>Daniel</td>\n",
       "      <td>NaN</td>\n",
       "      <td>1231</td>\n",
       "      <td>daniel</td>\n",
       "    </tr>\n",
       "    <tr>\n",
       "      <th>8137</th>\n",
       "      <td>6239df37a936b95600aa7aa5</td>\n",
       "      <td>ButterflyFilms</td>\n",
       "      <td>NaN</td>\n",
       "      <td>800</td>\n",
       "      <td>butterflyfilms</td>\n",
       "    </tr>\n",
       "    <tr>\n",
       "      <th>8138</th>\n",
       "      <td>6239e55ba936b95600ae2012</td>\n",
       "      <td>Flo</td>\n",
       "      <td>NaN</td>\n",
       "      <td>1901</td>\n",
       "      <td>poellnerson</td>\n",
       "    </tr>\n",
       "  </tbody>\n",
       "</table>\n",
       "<p>3392 rows × 5 columns</p>\n",
       "</div>"
      ],
      "text/plain": [
       "                           _id            display_name  num_ratings_pages  \\\n",
       "4747  6136136b4385873fc48ea127  Exorcism of Emily Reed                NaN   \n",
       "4748  613613844385873fc48eaf7c          Alicia Haddick                NaN   \n",
       "4749  613683a94385873fc4f8d763                  rod !!                NaN   \n",
       "4750  6136c28d4385873fc4499496              faycwalker                NaN   \n",
       "4751  6136c37c4385873fc44a8826                     NaN                NaN   \n",
       "...                        ...                     ...                ...   \n",
       "8134  6239b430a936b956009c993c      Máté Turi-Mészáros                NaN   \n",
       "8135  6239cbf7a936b95600a2d24c                    Finn                NaN   \n",
       "8136  6239d254a936b95600a4472f                  Daniel                NaN   \n",
       "8137  6239df37a936b95600aa7aa5          ButterflyFilms                NaN   \n",
       "8138  6239e55ba936b95600ae2012                     Flo                NaN   \n",
       "\n",
       "      num_reviews         username  \n",
       "4747         1889    exorcismemily  \n",
       "4748         1223    socialanigirl  \n",
       "4749          373  screeningsilver  \n",
       "4750           72       faycwalker  \n",
       "4751            3       megveryser  \n",
       "...           ...              ...  \n",
       "8134          237      mateazember  \n",
       "8135          297         finnvor1  \n",
       "8136         1231           daniel  \n",
       "8137          800   butterflyfilms  \n",
       "8138         1901      poellnerson  \n",
       "\n",
       "[3392 rows x 5 columns]"
      ]
     },
     "execution_count": 15,
     "metadata": {},
     "output_type": "execute_result"
    }
   ],
   "source": [
    "dfusers[dfusers['num_ratings_pages'].isna()]"
   ]
  },
  {
   "cell_type": "markdown",
   "id": "54819f44",
   "metadata": {},
   "source": [
    "The **num_ratings_pages** column displays the number of pages of ratings. It seems to contain missing values after a certain row in the dataset. However, these users seem to have given reivews. Thus, we will keep these values as is for now. "
   ]
  },
  {
   "cell_type": "code",
   "execution_count": 16,
   "id": "1c9c2d37",
   "metadata": {},
   "outputs": [
    {
     "data": {
      "text/plain": [
       "307"
      ]
     },
     "execution_count": 16,
     "metadata": {},
     "output_type": "execute_result"
    }
   ],
   "source": [
    "dfusers['display_name'].isna().sum()"
   ]
  },
  {
   "cell_type": "markdown",
   "id": "1603b34d",
   "metadata": {},
   "source": [
    "Above, this makes up nearly 3.8% of the dataset. However, this could just mean that some accounts/users chose not to use display names. Thus, we will leave this column as is. "
   ]
  },
  {
   "cell_type": "markdown",
   "id": "b34ac5e7",
   "metadata": {},
   "source": [
    "### Duplicates"
   ]
  },
  {
   "cell_type": "code",
   "execution_count": 17,
   "id": "c4ba56dd",
   "metadata": {},
   "outputs": [
    {
     "data": {
      "text/plain": [
       "0"
      ]
     },
     "execution_count": 17,
     "metadata": {},
     "output_type": "execute_result"
    }
   ],
   "source": [
    "dfusers.duplicated().sum()"
   ]
  },
  {
   "cell_type": "markdown",
   "id": "7281621a",
   "metadata": {},
   "source": [
    "Thus, no duplicate values."
   ]
  },
  {
   "cell_type": "markdown",
   "id": "5cc3f099",
   "metadata": {},
   "source": [
    "## Dataset 3: Movies"
   ]
  },
  {
   "cell_type": "markdown",
   "id": "bb381713",
   "metadata": {},
   "source": [
    "Load the dataset."
   ]
  },
  {
   "cell_type": "code",
   "execution_count": 18,
   "id": "007e196c",
   "metadata": {},
   "outputs": [
    {
     "data": {
      "text/html": [
       "<div>\n",
       "<style scoped>\n",
       "    .dataframe tbody tr th:only-of-type {\n",
       "        vertical-align: middle;\n",
       "    }\n",
       "\n",
       "    .dataframe tbody tr th {\n",
       "        vertical-align: top;\n",
       "    }\n",
       "\n",
       "    .dataframe thead th {\n",
       "        text-align: right;\n",
       "    }\n",
       "</style>\n",
       "<table border=\"1\" class=\"dataframe\">\n",
       "  <thead>\n",
       "    <tr style=\"text-align: right;\">\n",
       "      <th></th>\n",
       "      <th>_id</th>\n",
       "      <th>genres</th>\n",
       "      <th>image_url</th>\n",
       "      <th>imdb_id</th>\n",
       "      <th>imdb_link</th>\n",
       "      <th>movie_id</th>\n",
       "      <th>movie_title</th>\n",
       "      <th>original_language</th>\n",
       "      <th>overview</th>\n",
       "      <th>popularity</th>\n",
       "      <th>production_countries</th>\n",
       "      <th>release_date</th>\n",
       "      <th>runtime</th>\n",
       "      <th>spoken_languages</th>\n",
       "      <th>tmdb_id</th>\n",
       "      <th>tmdb_link</th>\n",
       "      <th>vote_average</th>\n",
       "      <th>vote_count</th>\n",
       "      <th>year_released</th>\n",
       "    </tr>\n",
       "  </thead>\n",
       "  <tbody>\n",
       "    <tr>\n",
       "      <th>0</th>\n",
       "      <td>5fc85f606758f69634496fd3</td>\n",
       "      <td>[\"Music\",\"Animation\"]</td>\n",
       "      <td>film-poster/4/6/4/4/4/0/464440-football-freaks...</td>\n",
       "      <td>NaN</td>\n",
       "      <td>NaN</td>\n",
       "      <td>football-freaks</td>\n",
       "      <td>Football Freaks</td>\n",
       "      <td>en</td>\n",
       "      <td>Football crazy, football mad. Don’t watch this...</td>\n",
       "      <td>0.600</td>\n",
       "      <td>[\"United Kingdom\"]</td>\n",
       "      <td>1971-12-05</td>\n",
       "      <td>0.0</td>\n",
       "      <td>[]</td>\n",
       "      <td>535272.0</td>\n",
       "      <td>https://www.themoviedb.org/movie/535272/</td>\n",
       "      <td>0.0</td>\n",
       "      <td>0.0</td>\n",
       "      <td>1971.0</td>\n",
       "    </tr>\n",
       "    <tr>\n",
       "      <th>1</th>\n",
       "      <td>5fc85ff26758f696344ace0c</td>\n",
       "      <td>[]</td>\n",
       "      <td>film-poster/2/4/5/5/0/0/245500-aftermath-0-230...</td>\n",
       "      <td>tt0586129</td>\n",
       "      <td>http://www.imdb.com/title/tt0586129/maindetails</td>\n",
       "      <td>aftermath-1960</td>\n",
       "      <td>Aftermath</td>\n",
       "      <td>en</td>\n",
       "      <td>Aftermath was the pilot for an unsold TV serie...</td>\n",
       "      <td>0.600</td>\n",
       "      <td>[]</td>\n",
       "      <td>1960-04-17</td>\n",
       "      <td>22.0</td>\n",
       "      <td>[]</td>\n",
       "      <td>318331.0</td>\n",
       "      <td>https://www.themoviedb.org/movie/318331/</td>\n",
       "      <td>8.0</td>\n",
       "      <td>1.0</td>\n",
       "      <td>1960.0</td>\n",
       "    </tr>\n",
       "    <tr>\n",
       "      <th>2</th>\n",
       "      <td>5fc85f606758f69634496fcd</td>\n",
       "      <td>[\"Drama\"]</td>\n",
       "      <td>film-poster/9/3/3/1/8/93318-where-chimneys-are...</td>\n",
       "      <td>tt0045731</td>\n",
       "      <td>http://www.imdb.com/title/tt0045731/maindetails</td>\n",
       "      <td>where-chimneys-are-seen</td>\n",
       "      <td>Where Chimneys Are Seen</td>\n",
       "      <td>ja</td>\n",
       "      <td>Gosho’s most celebrated film both in Japan and...</td>\n",
       "      <td>1.568</td>\n",
       "      <td>[\"Japan\"]</td>\n",
       "      <td>1953-03-05</td>\n",
       "      <td>108.0</td>\n",
       "      <td>[\"日本語\"]</td>\n",
       "      <td>117779.0</td>\n",
       "      <td>https://www.themoviedb.org/movie/117779/</td>\n",
       "      <td>6.6</td>\n",
       "      <td>10.0</td>\n",
       "      <td>1953.0</td>\n",
       "    </tr>\n",
       "    <tr>\n",
       "      <th>3</th>\n",
       "      <td>5fc85f606758f69634496fd1</td>\n",
       "      <td>[\"Drama\"]</td>\n",
       "      <td>NaN</td>\n",
       "      <td>tt0187327</td>\n",
       "      <td>http://www.imdb.com/title/tt0187327/maindetails</td>\n",
       "      <td>the-musicians-daughter</td>\n",
       "      <td>The Musician's Daughter</td>\n",
       "      <td>en</td>\n",
       "      <td>Carl Wagner's good wife was dying. His heart b...</td>\n",
       "      <td>0.600</td>\n",
       "      <td>[\"United States of America\"]</td>\n",
       "      <td>1911-12-12</td>\n",
       "      <td>15.0</td>\n",
       "      <td>[]</td>\n",
       "      <td>560377.0</td>\n",
       "      <td>https://www.themoviedb.org/movie/560377/</td>\n",
       "      <td>0.0</td>\n",
       "      <td>0.0</td>\n",
       "      <td>1911.0</td>\n",
       "    </tr>\n",
       "    <tr>\n",
       "      <th>4</th>\n",
       "      <td>5fc85f606758f69634496fd4</td>\n",
       "      <td>[\"Documentary\"]</td>\n",
       "      <td>film-poster/4/5/4/6/0/3/454603-50-years-of-fab...</td>\n",
       "      <td>tt4769914</td>\n",
       "      <td>http://www.imdb.com/title/tt4769914/maindetails</td>\n",
       "      <td>50-years-of-fabulous</td>\n",
       "      <td>50 Years of Fabulous</td>\n",
       "      <td>en</td>\n",
       "      <td>50 Years of Fabulous recounts the rich history...</td>\n",
       "      <td>0.600</td>\n",
       "      <td>[]</td>\n",
       "      <td>2018-05-17</td>\n",
       "      <td>75.0</td>\n",
       "      <td>[]</td>\n",
       "      <td>525187.0</td>\n",
       "      <td>https://www.themoviedb.org/movie/525187/</td>\n",
       "      <td>0.0</td>\n",
       "      <td>0.0</td>\n",
       "      <td>2018.0</td>\n",
       "    </tr>\n",
       "  </tbody>\n",
       "</table>\n",
       "</div>"
      ],
      "text/plain": [
       "                        _id                 genres  \\\n",
       "0  5fc85f606758f69634496fd3  [\"Music\",\"Animation\"]   \n",
       "1  5fc85ff26758f696344ace0c                     []   \n",
       "2  5fc85f606758f69634496fcd              [\"Drama\"]   \n",
       "3  5fc85f606758f69634496fd1              [\"Drama\"]   \n",
       "4  5fc85f606758f69634496fd4        [\"Documentary\"]   \n",
       "\n",
       "                                           image_url    imdb_id  \\\n",
       "0  film-poster/4/6/4/4/4/0/464440-football-freaks...        NaN   \n",
       "1  film-poster/2/4/5/5/0/0/245500-aftermath-0-230...  tt0586129   \n",
       "2  film-poster/9/3/3/1/8/93318-where-chimneys-are...  tt0045731   \n",
       "3                                                NaN  tt0187327   \n",
       "4  film-poster/4/5/4/6/0/3/454603-50-years-of-fab...  tt4769914   \n",
       "\n",
       "                                         imdb_link                 movie_id  \\\n",
       "0                                              NaN          football-freaks   \n",
       "1  http://www.imdb.com/title/tt0586129/maindetails           aftermath-1960   \n",
       "2  http://www.imdb.com/title/tt0045731/maindetails  where-chimneys-are-seen   \n",
       "3  http://www.imdb.com/title/tt0187327/maindetails   the-musicians-daughter   \n",
       "4  http://www.imdb.com/title/tt4769914/maindetails     50-years-of-fabulous   \n",
       "\n",
       "               movie_title original_language  \\\n",
       "0          Football Freaks                en   \n",
       "1                Aftermath                en   \n",
       "2  Where Chimneys Are Seen                ja   \n",
       "3  The Musician's Daughter                en   \n",
       "4     50 Years of Fabulous                en   \n",
       "\n",
       "                                            overview  popularity  \\\n",
       "0  Football crazy, football mad. Don’t watch this...       0.600   \n",
       "1  Aftermath was the pilot for an unsold TV serie...       0.600   \n",
       "2  Gosho’s most celebrated film both in Japan and...       1.568   \n",
       "3  Carl Wagner's good wife was dying. His heart b...       0.600   \n",
       "4  50 Years of Fabulous recounts the rich history...       0.600   \n",
       "\n",
       "           production_countries release_date  runtime spoken_languages  \\\n",
       "0            [\"United Kingdom\"]   1971-12-05      0.0               []   \n",
       "1                            []   1960-04-17     22.0               []   \n",
       "2                     [\"Japan\"]   1953-03-05    108.0          [\"日本語\"]   \n",
       "3  [\"United States of America\"]   1911-12-12     15.0               []   \n",
       "4                            []   2018-05-17     75.0               []   \n",
       "\n",
       "    tmdb_id                                 tmdb_link  vote_average  \\\n",
       "0  535272.0  https://www.themoviedb.org/movie/535272/           0.0   \n",
       "1  318331.0  https://www.themoviedb.org/movie/318331/           8.0   \n",
       "2  117779.0  https://www.themoviedb.org/movie/117779/           6.6   \n",
       "3  560377.0  https://www.themoviedb.org/movie/560377/           0.0   \n",
       "4  525187.0  https://www.themoviedb.org/movie/525187/           0.0   \n",
       "\n",
       "   vote_count  year_released  \n",
       "0         0.0         1971.0  \n",
       "1         1.0         1960.0  \n",
       "2        10.0         1953.0  \n",
       "3         0.0         1911.0  \n",
       "4         0.0         2018.0  "
      ]
     },
     "execution_count": 18,
     "metadata": {},
     "output_type": "execute_result"
    }
   ],
   "source": [
    "dfmovies = pd.read_csv('movie_data.csv', lineterminator='\\n')\n",
    "#from: https://stackoverflow.com/questions/33998740/error-in-reading-a-csv-file-in-pandascparsererror-error-tokenizing-data-c-err\n",
    "dfmovies.head()"
   ]
  },
  {
   "cell_type": "code",
   "execution_count": 19,
   "id": "90e6f4c8",
   "metadata": {},
   "outputs": [
    {
     "name": "stdout",
     "output_type": "stream",
     "text": [
      "<class 'pandas.core.frame.DataFrame'>\n",
      "RangeIndex: 285504 entries, 0 to 285503\n",
      "Data columns (total 19 columns):\n",
      " #   Column                Non-Null Count   Dtype  \n",
      "---  ------                --------------   -----  \n",
      " 0   _id                   285504 non-null  object \n",
      " 1   genres                274872 non-null  object \n",
      " 2   image_url             264407 non-null  object \n",
      " 3   imdb_id               243802 non-null  object \n",
      " 4   imdb_link             243802 non-null  object \n",
      " 5   movie_id              285502 non-null  object \n",
      " 6   movie_title           283340 non-null  object \n",
      " 7   original_language     274872 non-null  object \n",
      " 8   overview              261248 non-null  object \n",
      " 9   popularity            274872 non-null  float64\n",
      " 10  production_countries  274872 non-null  object \n",
      " 11  release_date          271050 non-null  object \n",
      " 12  runtime               270055 non-null  float64\n",
      " 13  spoken_languages      274872 non-null  object \n",
      " 14  tmdb_id               279917 non-null  float64\n",
      " 15  tmdb_link             279917 non-null  object \n",
      " 16  vote_average          274872 non-null  float64\n",
      " 17  vote_count            274872 non-null  float64\n",
      " 18  year_released         277932 non-null  float64\n",
      "dtypes: float64(6), object(13)\n",
      "memory usage: 41.4+ MB\n"
     ]
    }
   ],
   "source": [
    "dfmovies.info()"
   ]
  },
  {
   "cell_type": "markdown",
   "id": "82427691",
   "metadata": {},
   "source": [
    "The third dataset consists of data \"on every movie represented in the ratings data, enriched with data from the TMDB API. This makes up a very large, but incomplete set of all movies on Letterboxd.\""
   ]
  },
  {
   "cell_type": "code",
   "execution_count": 20,
   "id": "1c665c27",
   "metadata": {},
   "outputs": [
    {
     "data": {
      "text/plain": [
       "285504"
      ]
     },
     "execution_count": 20,
     "metadata": {},
     "output_type": "execute_result"
    }
   ],
   "source": [
    "len(dfmovies)"
   ]
  },
  {
   "cell_type": "markdown",
   "id": "4c392b9f",
   "metadata": {},
   "source": [
    "The dataset has a total of 285,504 rows."
   ]
  },
  {
   "cell_type": "markdown",
   "id": "a3d947af",
   "metadata": {},
   "source": [
    "**_ id** is the global unique ID.\n",
    "<br>\n",
    "**genres** contains an array of associated movie genres.\n",
    "<br>\n",
    "**image_url** is the image used on the Letterboxd site for the movie (often a poster).\n",
    "<br>\n",
    "**imdb_id** is the ID for IMDB.\n",
    "<br>\n",
    "**imdb_link** is the link to the movie's IMDB page.\n",
    "<br>\n",
    "**movie_id** is the unique Letterboxd ID for the movie.\n",
    "<br>\n",
    "**movie_title** is the display title for the movie.\n",
    "<br>\n",
    "**original_language** is the original language of the movie.\n",
    "<br>\n",
    "**overview** is the description of the movie.\n",
    "<br>\n",
    "**popularity** is the numeric popularity.\n",
    "<br>\n",
    "**production_countries** contains an array of the countries the movie was produced in. \n",
    "<br>\n",
    "**release_date** is the release date of the movie.\n",
    "<br>\n",
    "**runtime** is the runtime of the movie in minutes.\n",
    "<br>\n",
    "**spoken_languages** contains an array of all the spoken languages in the movie.\n",
    "<br>\n",
    "**tmdb_id** is the ID for accessing data on TMDB API (used by the Kaggle dataset user)\n",
    "<br>\n",
    "**vote_average** is the vote average.\n",
    "<br>\n",
    "**vote_count** is the count of votes the movie received.\n",
    "<br>\n",
    "**year_released** is the year the movie was released."
   ]
  },
  {
   "cell_type": "markdown",
   "id": "b0c2ec28",
   "metadata": {},
   "source": [
    "### Missing Values"
   ]
  },
  {
   "cell_type": "markdown",
   "id": "1fbe2bbb",
   "metadata": {},
   "source": [
    "Total number of missing values per column in this dataset:"
   ]
  },
  {
   "cell_type": "code",
   "execution_count": 21,
   "id": "966a56ea",
   "metadata": {},
   "outputs": [
    {
     "data": {
      "text/plain": [
       "_id                         0\n",
       "genres                  10632\n",
       "image_url               21097\n",
       "imdb_id                 41702\n",
       "imdb_link               41702\n",
       "movie_id                    2\n",
       "movie_title              2164\n",
       "original_language       10632\n",
       "overview                24256\n",
       "popularity              10632\n",
       "production_countries    10632\n",
       "release_date            14454\n",
       "runtime                 15449\n",
       "spoken_languages        10632\n",
       "tmdb_id                  5587\n",
       "tmdb_link                5587\n",
       "vote_average            10632\n",
       "vote_count              10632\n",
       "year_released            7572\n",
       "dtype: int64"
      ]
     },
     "execution_count": 21,
     "metadata": {},
     "output_type": "execute_result"
    }
   ],
   "source": [
    "dfmovies.isna().sum()"
   ]
  },
  {
   "cell_type": "code",
   "execution_count": 22,
   "id": "293bf085",
   "metadata": {},
   "outputs": [
    {
     "data": {
      "image/png": "[encoded data removed]",
      "text/plain": [
       "<Figure size 1800x720 with 2 Axes>"
      ]
     },
     "metadata": {
      "needs_background": "light"
     },
     "output_type": "display_data"
    }
   ],
   "source": [
    "msno.matrix(dfmovies, labels = True)\n",
    "plt.show()"
   ]
  },
  {
   "cell_type": "code",
   "execution_count": 23,
   "id": "dac9573a",
   "metadata": {},
   "outputs": [
    {
     "data": {
      "image/png": "[encoded data removed]",
      "text/plain": [
       "<Figure size 1800x720 with 3 Axes>"
      ]
     },
     "metadata": {
      "needs_background": "light"
     },
     "output_type": "display_data"
    }
   ],
   "source": [
    "msno.bar(dfmovies, labels = True)\n",
    "plt.show()"
   ]
  },
  {
   "cell_type": "code",
   "execution_count": 24,
   "id": "a1605ccd",
   "metadata": {},
   "outputs": [
    {
     "data": {
      "text/plain": [
       "<AxesSubplot:>"
      ]
     },
     "execution_count": 24,
     "metadata": {},
     "output_type": "execute_result"
    },
    {
     "data": {
      "image/png": "[encoded data removed]",
      "text/plain": [
       "<Figure size 1440x864 with 2 Axes>"
      ]
     },
     "metadata": {
      "needs_background": "light"
     },
     "output_type": "display_data"
    }
   ],
   "source": [
    "#to identify correlations of nullity between columns\n",
    "msno.heatmap(dfmovies, labels=True)"
   ]
  },
  {
   "cell_type": "markdown",
   "id": "4b687aaf",
   "metadata": {},
   "source": [
    "Rows that have missing IMDB IDs also have missing IMDB links, as shown by the \"1\" correlation in the above heat map. "
   ]
  },
  {
   "cell_type": "markdown",
   "id": "a7863bcf",
   "metadata": {},
   "source": [
    "### Duplicates"
   ]
  },
  {
   "cell_type": "code",
   "execution_count": 25,
   "id": "64d88155",
   "metadata": {},
   "outputs": [
    {
     "data": {
      "text/plain": [
       "0"
      ]
     },
     "execution_count": 25,
     "metadata": {},
     "output_type": "execute_result"
    }
   ],
   "source": [
    "dfmovies.duplicated().sum()"
   ]
  },
  {
   "cell_type": "markdown",
   "id": "be5eeb1d",
   "metadata": {},
   "source": [
    "Thus, no duplicate values in this dataset."
   ]
  },
  {
   "cell_type": "markdown",
   "id": "d0909adc",
   "metadata": {},
   "source": [
    "# Merging Datasets"
   ]
  },
  {
   "cell_type": "markdown",
   "id": "efd0bef4",
   "metadata": {},
   "source": [
    "## Users & Ratings"
   ]
  },
  {
   "cell_type": "markdown",
   "id": "07e290be",
   "metadata": {},
   "source": [
    "The **dfratings** dataframe has a column **user_id** that is the same as the **username** column in the **dfusers** dataframe. So, we will use a left join to merge these two datasets. "
   ]
  },
  {
   "cell_type": "code",
   "execution_count": 26,
   "id": "ce8d3fdb",
   "metadata": {},
   "outputs": [
    {
     "data": {
      "text/plain": [
       "8139"
      ]
     },
     "execution_count": 26,
     "metadata": {},
     "output_type": "execute_result"
    }
   ],
   "source": [
    "len(dfusers)"
   ]
  },
  {
   "cell_type": "code",
   "execution_count": 27,
   "id": "ee3aa4f6",
   "metadata": {},
   "outputs": [
    {
     "data": {
      "text/plain": [
       "11078167"
      ]
     },
     "execution_count": 27,
     "metadata": {},
     "output_type": "execute_result"
    }
   ],
   "source": [
    "len(dfratings)"
   ]
  },
  {
   "cell_type": "code",
   "execution_count": 28,
   "id": "225f5a19",
   "metadata": {},
   "outputs": [
    {
     "data": {
      "text/html": [
       "<div>\n",
       "<style scoped>\n",
       "    .dataframe tbody tr th:only-of-type {\n",
       "        vertical-align: middle;\n",
       "    }\n",
       "\n",
       "    .dataframe tbody tr th {\n",
       "        vertical-align: top;\n",
       "    }\n",
       "\n",
       "    .dataframe thead th {\n",
       "        text-align: right;\n",
       "    }\n",
       "</style>\n",
       "<table border=\"1\" class=\"dataframe\">\n",
       "  <thead>\n",
       "    <tr style=\"text-align: right;\">\n",
       "      <th></th>\n",
       "      <th>_id</th>\n",
       "      <th>display_name</th>\n",
       "      <th>num_ratings_pages</th>\n",
       "      <th>num_reviews</th>\n",
       "      <th>username</th>\n",
       "    </tr>\n",
       "  </thead>\n",
       "  <tbody>\n",
       "    <tr>\n",
       "      <th>0</th>\n",
       "      <td>5fc4172ec6cd28ebd99dd0e2</td>\n",
       "      <td>Lucy</td>\n",
       "      <td>32.0</td>\n",
       "      <td>1650</td>\n",
       "      <td>deathproof</td>\n",
       "    </tr>\n",
       "    <tr>\n",
       "      <th>1</th>\n",
       "      <td>5fc4172ec6cd28ebd99dd0ea</td>\n",
       "      <td>Matt Singer</td>\n",
       "      <td>52.0</td>\n",
       "      <td>1915</td>\n",
       "      <td>superpulse</td>\n",
       "    </tr>\n",
       "    <tr>\n",
       "      <th>2</th>\n",
       "      <td>5fc4172ec6cd28ebd99dd0ed</td>\n",
       "      <td>Sean Baker</td>\n",
       "      <td>21.0</td>\n",
       "      <td>1283</td>\n",
       "      <td>lilfilm</td>\n",
       "    </tr>\n",
       "    <tr>\n",
       "      <th>3</th>\n",
       "      <td>5fc4172ec6cd28ebd99dd0ee</td>\n",
       "      <td>iana</td>\n",
       "      <td>37.0</td>\n",
       "      <td>1177</td>\n",
       "      <td>ianamurray</td>\n",
       "    </tr>\n",
       "    <tr>\n",
       "      <th>4</th>\n",
       "      <td>5fc419171ebf67b9fbe48615</td>\n",
       "      <td>Lizzy</td>\n",
       "      <td>57.0</td>\n",
       "      <td>1810</td>\n",
       "      <td>punchdrunklizzy</td>\n",
       "    </tr>\n",
       "  </tbody>\n",
       "</table>\n",
       "</div>"
      ],
      "text/plain": [
       "                        _id display_name  num_ratings_pages  num_reviews  \\\n",
       "0  5fc4172ec6cd28ebd99dd0e2         Lucy               32.0         1650   \n",
       "1  5fc4172ec6cd28ebd99dd0ea  Matt Singer               52.0         1915   \n",
       "2  5fc4172ec6cd28ebd99dd0ed   Sean Baker               21.0         1283   \n",
       "3  5fc4172ec6cd28ebd99dd0ee         iana               37.0         1177   \n",
       "4  5fc419171ebf67b9fbe48615        Lizzy               57.0         1810   \n",
       "\n",
       "          username  \n",
       "0       deathproof  \n",
       "1       superpulse  \n",
       "2          lilfilm  \n",
       "3       ianamurray  \n",
       "4  punchdrunklizzy  "
      ]
     },
     "execution_count": 28,
     "metadata": {},
     "output_type": "execute_result"
    }
   ],
   "source": [
    "dfusers.head()"
   ]
  },
  {
   "cell_type": "code",
   "execution_count": 29,
   "id": "a7fb82cf",
   "metadata": {},
   "outputs": [
    {
     "data": {
      "text/html": [
       "<div>\n",
       "<style scoped>\n",
       "    .dataframe tbody tr th:only-of-type {\n",
       "        vertical-align: middle;\n",
       "    }\n",
       "\n",
       "    .dataframe tbody tr th {\n",
       "        vertical-align: top;\n",
       "    }\n",
       "\n",
       "    .dataframe thead th {\n",
       "        text-align: right;\n",
       "    }\n",
       "</style>\n",
       "<table border=\"1\" class=\"dataframe\">\n",
       "  <thead>\n",
       "    <tr style=\"text-align: right;\">\n",
       "      <th></th>\n",
       "      <th>_id</th>\n",
       "      <th>movie_id</th>\n",
       "      <th>rating_val</th>\n",
       "      <th>user_id</th>\n",
       "    </tr>\n",
       "  </thead>\n",
       "  <tbody>\n",
       "    <tr>\n",
       "      <th>0</th>\n",
       "      <td>5fc57c5d6758f6963451a07f</td>\n",
       "      <td>feast-2014</td>\n",
       "      <td>7</td>\n",
       "      <td>deathproof</td>\n",
       "    </tr>\n",
       "    <tr>\n",
       "      <th>1</th>\n",
       "      <td>5fc57c5d6758f6963451a063</td>\n",
       "      <td>loving-2016</td>\n",
       "      <td>7</td>\n",
       "      <td>deathproof</td>\n",
       "    </tr>\n",
       "    <tr>\n",
       "      <th>2</th>\n",
       "      <td>5fc57c5d6758f6963451a0ef</td>\n",
       "      <td>scripted-content</td>\n",
       "      <td>7</td>\n",
       "      <td>deathproof</td>\n",
       "    </tr>\n",
       "    <tr>\n",
       "      <th>3</th>\n",
       "      <td>5fc57c5d6758f6963451a060</td>\n",
       "      <td>the-future</td>\n",
       "      <td>4</td>\n",
       "      <td>deathproof</td>\n",
       "    </tr>\n",
       "    <tr>\n",
       "      <th>4</th>\n",
       "      <td>5fc57c5c6758f69634519398</td>\n",
       "      <td>mank</td>\n",
       "      <td>5</td>\n",
       "      <td>deathproof</td>\n",
       "    </tr>\n",
       "  </tbody>\n",
       "</table>\n",
       "</div>"
      ],
      "text/plain": [
       "                        _id          movie_id  rating_val     user_id\n",
       "0  5fc57c5d6758f6963451a07f        feast-2014           7  deathproof\n",
       "1  5fc57c5d6758f6963451a063       loving-2016           7  deathproof\n",
       "2  5fc57c5d6758f6963451a0ef  scripted-content           7  deathproof\n",
       "3  5fc57c5d6758f6963451a060        the-future           4  deathproof\n",
       "4  5fc57c5c6758f69634519398              mank           5  deathproof"
      ]
     },
     "execution_count": 29,
     "metadata": {},
     "output_type": "execute_result"
    }
   ],
   "source": [
    "dfratings.head()"
   ]
  },
  {
   "cell_type": "code",
   "execution_count": 30,
   "id": "de74ac4d",
   "metadata": {},
   "outputs": [],
   "source": [
    "ru = dfratings.merge(dfusers, how='left', left_on='user_id', right_on='username')"
   ]
  },
  {
   "cell_type": "code",
   "execution_count": 31,
   "id": "e66a6b26",
   "metadata": {},
   "outputs": [
    {
     "data": {
      "text/html": [
       "<div>\n",
       "<style scoped>\n",
       "    .dataframe tbody tr th:only-of-type {\n",
       "        vertical-align: middle;\n",
       "    }\n",
       "\n",
       "    .dataframe tbody tr th {\n",
       "        vertical-align: top;\n",
       "    }\n",
       "\n",
       "    .dataframe thead th {\n",
       "        text-align: right;\n",
       "    }\n",
       "</style>\n",
       "<table border=\"1\" class=\"dataframe\">\n",
       "  <thead>\n",
       "    <tr style=\"text-align: right;\">\n",
       "      <th></th>\n",
       "      <th>_id_x</th>\n",
       "      <th>movie_id</th>\n",
       "      <th>rating_val</th>\n",
       "      <th>user_id</th>\n",
       "      <th>_id_y</th>\n",
       "      <th>display_name</th>\n",
       "      <th>num_ratings_pages</th>\n",
       "      <th>num_reviews</th>\n",
       "      <th>username</th>\n",
       "    </tr>\n",
       "  </thead>\n",
       "  <tbody>\n",
       "    <tr>\n",
       "      <th>0</th>\n",
       "      <td>5fc57c5d6758f6963451a07f</td>\n",
       "      <td>feast-2014</td>\n",
       "      <td>7</td>\n",
       "      <td>deathproof</td>\n",
       "      <td>5fc4172ec6cd28ebd99dd0e2</td>\n",
       "      <td>Lucy</td>\n",
       "      <td>32.0</td>\n",
       "      <td>1650.0</td>\n",
       "      <td>deathproof</td>\n",
       "    </tr>\n",
       "    <tr>\n",
       "      <th>1</th>\n",
       "      <td>5fc57c5d6758f6963451a063</td>\n",
       "      <td>loving-2016</td>\n",
       "      <td>7</td>\n",
       "      <td>deathproof</td>\n",
       "      <td>5fc4172ec6cd28ebd99dd0e2</td>\n",
       "      <td>Lucy</td>\n",
       "      <td>32.0</td>\n",
       "      <td>1650.0</td>\n",
       "      <td>deathproof</td>\n",
       "    </tr>\n",
       "    <tr>\n",
       "      <th>2</th>\n",
       "      <td>5fc57c5d6758f6963451a0ef</td>\n",
       "      <td>scripted-content</td>\n",
       "      <td>7</td>\n",
       "      <td>deathproof</td>\n",
       "      <td>5fc4172ec6cd28ebd99dd0e2</td>\n",
       "      <td>Lucy</td>\n",
       "      <td>32.0</td>\n",
       "      <td>1650.0</td>\n",
       "      <td>deathproof</td>\n",
       "    </tr>\n",
       "    <tr>\n",
       "      <th>3</th>\n",
       "      <td>5fc57c5d6758f6963451a060</td>\n",
       "      <td>the-future</td>\n",
       "      <td>4</td>\n",
       "      <td>deathproof</td>\n",
       "      <td>5fc4172ec6cd28ebd99dd0e2</td>\n",
       "      <td>Lucy</td>\n",
       "      <td>32.0</td>\n",
       "      <td>1650.0</td>\n",
       "      <td>deathproof</td>\n",
       "    </tr>\n",
       "    <tr>\n",
       "      <th>4</th>\n",
       "      <td>5fc57c5c6758f69634519398</td>\n",
       "      <td>mank</td>\n",
       "      <td>5</td>\n",
       "      <td>deathproof</td>\n",
       "      <td>5fc4172ec6cd28ebd99dd0e2</td>\n",
       "      <td>Lucy</td>\n",
       "      <td>32.0</td>\n",
       "      <td>1650.0</td>\n",
       "      <td>deathproof</td>\n",
       "    </tr>\n",
       "  </tbody>\n",
       "</table>\n",
       "</div>"
      ],
      "text/plain": [
       "                      _id_x          movie_id  rating_val     user_id  \\\n",
       "0  5fc57c5d6758f6963451a07f        feast-2014           7  deathproof   \n",
       "1  5fc57c5d6758f6963451a063       loving-2016           7  deathproof   \n",
       "2  5fc57c5d6758f6963451a0ef  scripted-content           7  deathproof   \n",
       "3  5fc57c5d6758f6963451a060        the-future           4  deathproof   \n",
       "4  5fc57c5c6758f69634519398              mank           5  deathproof   \n",
       "\n",
       "                      _id_y display_name  num_ratings_pages  num_reviews  \\\n",
       "0  5fc4172ec6cd28ebd99dd0e2         Lucy               32.0       1650.0   \n",
       "1  5fc4172ec6cd28ebd99dd0e2         Lucy               32.0       1650.0   \n",
       "2  5fc4172ec6cd28ebd99dd0e2         Lucy               32.0       1650.0   \n",
       "3  5fc4172ec6cd28ebd99dd0e2         Lucy               32.0       1650.0   \n",
       "4  5fc4172ec6cd28ebd99dd0e2         Lucy               32.0       1650.0   \n",
       "\n",
       "     username  \n",
       "0  deathproof  \n",
       "1  deathproof  \n",
       "2  deathproof  \n",
       "3  deathproof  \n",
       "4  deathproof  "
      ]
     },
     "execution_count": 31,
     "metadata": {},
     "output_type": "execute_result"
    }
   ],
   "source": [
    "ru.head()"
   ]
  },
  {
   "cell_type": "code",
   "execution_count": 32,
   "id": "5d856abc",
   "metadata": {},
   "outputs": [
    {
     "data": {
      "text/plain": [
       "_id_x                      0\n",
       "movie_id                   6\n",
       "rating_val                 0\n",
       "user_id                    0\n",
       "_id_y                   1703\n",
       "display_name           10593\n",
       "num_ratings_pages    1563155\n",
       "num_reviews             1703\n",
       "username                1703\n",
       "dtype: int64"
      ]
     },
     "execution_count": 32,
     "metadata": {},
     "output_type": "execute_result"
    }
   ],
   "source": [
    "ru.isna().sum()"
   ]
  },
  {
   "cell_type": "code",
   "execution_count": 33,
   "id": "7f8079d6",
   "metadata": {},
   "outputs": [
    {
     "name": "stdout",
     "output_type": "stream",
     "text": [
      "<class 'pandas.core.frame.DataFrame'>\n",
      "Int64Index: 11078167 entries, 0 to 11078166\n",
      "Data columns (total 9 columns):\n",
      " #   Column             Dtype  \n",
      "---  ------             -----  \n",
      " 0   _id_x              object \n",
      " 1   movie_id           object \n",
      " 2   rating_val         int64  \n",
      " 3   user_id            object \n",
      " 4   _id_y              object \n",
      " 5   display_name       object \n",
      " 6   num_ratings_pages  float64\n",
      " 7   num_reviews        float64\n",
      " 8   username           object \n",
      "dtypes: float64(2), int64(1), object(6)\n",
      "memory usage: 845.2+ MB\n"
     ]
    }
   ],
   "source": [
    "ru.info()"
   ]
  },
  {
   "cell_type": "markdown",
   "id": "9ffae1fe",
   "metadata": {},
   "source": [
    "Let's now clean up this dataframe.\n",
    "<br>\n",
    "We can remove the two **id** columns."
   ]
  },
  {
   "cell_type": "code",
   "execution_count": 34,
   "id": "8de1aadf",
   "metadata": {},
   "outputs": [],
   "source": [
    "ru = ru.drop(['_id_x', '_id_y'], axis=1)"
   ]
  },
  {
   "cell_type": "markdown",
   "id": "56518286",
   "metadata": {},
   "source": [
    "We can also remove the **username** column since it would be repetitive of the **user_id** column. But, first, let's make sure that the two columns are equal."
   ]
  },
  {
   "cell_type": "code",
   "execution_count": 35,
   "id": "add831b5",
   "metadata": {},
   "outputs": [
    {
     "data": {
      "text/plain": [
       "False"
      ]
     },
     "execution_count": 35,
     "metadata": {},
     "output_type": "execute_result"
    }
   ],
   "source": [
    "ru['user_id'].equals(ru['username'])"
   ]
  },
  {
   "cell_type": "code",
   "execution_count": 36,
   "id": "202e7f1e",
   "metadata": {},
   "outputs": [],
   "source": [
    "ru['diff'] = np.where(ru['user_id'] == ru['username'] , '1', '0')"
   ]
  },
  {
   "cell_type": "code",
   "execution_count": 37,
   "id": "815dae56",
   "metadata": {},
   "outputs": [
    {
     "data": {
      "text/html": [
       "<div>\n",
       "<style scoped>\n",
       "    .dataframe tbody tr th:only-of-type {\n",
       "        vertical-align: middle;\n",
       "    }\n",
       "\n",
       "    .dataframe tbody tr th {\n",
       "        vertical-align: top;\n",
       "    }\n",
       "\n",
       "    .dataframe thead th {\n",
       "        text-align: right;\n",
       "    }\n",
       "</style>\n",
       "<table border=\"1\" class=\"dataframe\">\n",
       "  <thead>\n",
       "    <tr style=\"text-align: right;\">\n",
       "      <th></th>\n",
       "      <th>movie_id</th>\n",
       "      <th>rating_val</th>\n",
       "      <th>user_id</th>\n",
       "      <th>display_name</th>\n",
       "      <th>num_ratings_pages</th>\n",
       "      <th>num_reviews</th>\n",
       "      <th>username</th>\n",
       "      <th>diff</th>\n",
       "    </tr>\n",
       "  </thead>\n",
       "  <tbody>\n",
       "    <tr>\n",
       "      <th>232505</th>\n",
       "      <td>disorder-2015</td>\n",
       "      <td>5</td>\n",
       "      <td>jacksonmaines</td>\n",
       "      <td>NaN</td>\n",
       "      <td>NaN</td>\n",
       "      <td>NaN</td>\n",
       "      <td>NaN</td>\n",
       "      <td>0</td>\n",
       "    </tr>\n",
       "    <tr>\n",
       "      <th>232506</th>\n",
       "      <td>time-to-hunt</td>\n",
       "      <td>5</td>\n",
       "      <td>jacksonmaines</td>\n",
       "      <td>NaN</td>\n",
       "      <td>NaN</td>\n",
       "      <td>NaN</td>\n",
       "      <td>NaN</td>\n",
       "      <td>0</td>\n",
       "    </tr>\n",
       "    <tr>\n",
       "      <th>232507</th>\n",
       "      <td>from-prada-to-nada</td>\n",
       "      <td>7</td>\n",
       "      <td>jacksonmaines</td>\n",
       "      <td>NaN</td>\n",
       "      <td>NaN</td>\n",
       "      <td>NaN</td>\n",
       "      <td>NaN</td>\n",
       "      <td>0</td>\n",
       "    </tr>\n",
       "    <tr>\n",
       "      <th>232508</th>\n",
       "      <td>a-nice-girl-like-you</td>\n",
       "      <td>7</td>\n",
       "      <td>jacksonmaines</td>\n",
       "      <td>NaN</td>\n",
       "      <td>NaN</td>\n",
       "      <td>NaN</td>\n",
       "      <td>NaN</td>\n",
       "      <td>0</td>\n",
       "    </tr>\n",
       "    <tr>\n",
       "      <th>232509</th>\n",
       "      <td>hubie-halloween</td>\n",
       "      <td>7</td>\n",
       "      <td>jacksonmaines</td>\n",
       "      <td>NaN</td>\n",
       "      <td>NaN</td>\n",
       "      <td>NaN</td>\n",
       "      <td>NaN</td>\n",
       "      <td>0</td>\n",
       "    </tr>\n",
       "    <tr>\n",
       "      <th>...</th>\n",
       "      <td>...</td>\n",
       "      <td>...</td>\n",
       "      <td>...</td>\n",
       "      <td>...</td>\n",
       "      <td>...</td>\n",
       "      <td>...</td>\n",
       "      <td>...</td>\n",
       "      <td>...</td>\n",
       "    </tr>\n",
       "    <tr>\n",
       "      <th>5371644</th>\n",
       "      <td>passengers-2016</td>\n",
       "      <td>7</td>\n",
       "      <td>jacksonmaines</td>\n",
       "      <td>NaN</td>\n",
       "      <td>NaN</td>\n",
       "      <td>NaN</td>\n",
       "      <td>NaN</td>\n",
       "      <td>0</td>\n",
       "    </tr>\n",
       "    <tr>\n",
       "      <th>5371677</th>\n",
       "      <td>monsters-ball</td>\n",
       "      <td>8</td>\n",
       "      <td>jacksonmaines</td>\n",
       "      <td>NaN</td>\n",
       "      <td>NaN</td>\n",
       "      <td>NaN</td>\n",
       "      <td>NaN</td>\n",
       "      <td>0</td>\n",
       "    </tr>\n",
       "    <tr>\n",
       "      <th>5371710</th>\n",
       "      <td>deadpool</td>\n",
       "      <td>7</td>\n",
       "      <td>jacksonmaines</td>\n",
       "      <td>NaN</td>\n",
       "      <td>NaN</td>\n",
       "      <td>NaN</td>\n",
       "      <td>NaN</td>\n",
       "      <td>0</td>\n",
       "    </tr>\n",
       "    <tr>\n",
       "      <th>5371789</th>\n",
       "      <td>10000-bc</td>\n",
       "      <td>5</td>\n",
       "      <td>jacksonmaines</td>\n",
       "      <td>NaN</td>\n",
       "      <td>NaN</td>\n",
       "      <td>NaN</td>\n",
       "      <td>NaN</td>\n",
       "      <td>0</td>\n",
       "    </tr>\n",
       "    <tr>\n",
       "      <th>5371790</th>\n",
       "      <td>office-christmas-party</td>\n",
       "      <td>7</td>\n",
       "      <td>jacksonmaines</td>\n",
       "      <td>NaN</td>\n",
       "      <td>NaN</td>\n",
       "      <td>NaN</td>\n",
       "      <td>NaN</td>\n",
       "      <td>0</td>\n",
       "    </tr>\n",
       "  </tbody>\n",
       "</table>\n",
       "<p>1703 rows × 8 columns</p>\n",
       "</div>"
      ],
      "text/plain": [
       "                       movie_id  rating_val        user_id display_name  \\\n",
       "232505            disorder-2015           5  jacksonmaines          NaN   \n",
       "232506             time-to-hunt           5  jacksonmaines          NaN   \n",
       "232507       from-prada-to-nada           7  jacksonmaines          NaN   \n",
       "232508     a-nice-girl-like-you           7  jacksonmaines          NaN   \n",
       "232509          hubie-halloween           7  jacksonmaines          NaN   \n",
       "...                         ...         ...            ...          ...   \n",
       "5371644         passengers-2016           7  jacksonmaines          NaN   \n",
       "5371677           monsters-ball           8  jacksonmaines          NaN   \n",
       "5371710                deadpool           7  jacksonmaines          NaN   \n",
       "5371789                10000-bc           5  jacksonmaines          NaN   \n",
       "5371790  office-christmas-party           7  jacksonmaines          NaN   \n",
       "\n",
       "         num_ratings_pages  num_reviews username diff  \n",
       "232505                 NaN          NaN      NaN    0  \n",
       "232506                 NaN          NaN      NaN    0  \n",
       "232507                 NaN          NaN      NaN    0  \n",
       "232508                 NaN          NaN      NaN    0  \n",
       "232509                 NaN          NaN      NaN    0  \n",
       "...                    ...          ...      ...  ...  \n",
       "5371644                NaN          NaN      NaN    0  \n",
       "5371677                NaN          NaN      NaN    0  \n",
       "5371710                NaN          NaN      NaN    0  \n",
       "5371789                NaN          NaN      NaN    0  \n",
       "5371790                NaN          NaN      NaN    0  \n",
       "\n",
       "[1703 rows x 8 columns]"
      ]
     },
     "execution_count": 37,
     "metadata": {},
     "output_type": "execute_result"
    }
   ],
   "source": [
    "ru[ru['diff']=='0']"
   ]
  },
  {
   "cell_type": "markdown",
   "id": "480b1cf5",
   "metadata": {},
   "source": [
    "So, there are 1,703 rows where there are differences between the **user_id** and the **username**."
   ]
  },
  {
   "cell_type": "code",
   "execution_count": 38,
   "id": "bb2bc257",
   "metadata": {},
   "outputs": [
    {
     "data": {
      "text/plain": [
       "1703"
      ]
     },
     "execution_count": 38,
     "metadata": {},
     "output_type": "execute_result"
    }
   ],
   "source": [
    "ru['username'].isna().sum()"
   ]
  },
  {
   "cell_type": "markdown",
   "id": "93183f5a",
   "metadata": {},
   "source": [
    "So, these discrepancies exist because there are missing values in the **username** column. Since these rows make up only 0.015% of the total dataset, let's drop these rows."
   ]
  },
  {
   "cell_type": "code",
   "execution_count": 39,
   "id": "6a305060",
   "metadata": {},
   "outputs": [],
   "source": [
    "ru = ru.dropna(subset=['username'])"
   ]
  },
  {
   "cell_type": "markdown",
   "id": "164bd325",
   "metadata": {},
   "source": [
    "Now, let's make sure these columns are equal."
   ]
  },
  {
   "cell_type": "code",
   "execution_count": 40,
   "id": "20a224c7",
   "metadata": {},
   "outputs": [
    {
     "data": {
      "text/plain": [
       "True"
      ]
     },
     "execution_count": 40,
     "metadata": {},
     "output_type": "execute_result"
    }
   ],
   "source": [
    "ru['user_id'].equals(ru['username'])"
   ]
  },
  {
   "cell_type": "markdown",
   "id": "ee337c3e",
   "metadata": {},
   "source": [
    "Great! Now, we can drop **username**."
   ]
  },
  {
   "cell_type": "code",
   "execution_count": 41,
   "id": "76fdecc6",
   "metadata": {},
   "outputs": [],
   "source": [
    "ru.drop('username', axis=1, inplace=True)"
   ]
  },
  {
   "cell_type": "code",
   "execution_count": 42,
   "id": "2f1ad9ac",
   "metadata": {},
   "outputs": [
    {
     "data": {
      "text/html": [
       "<div>\n",
       "<style scoped>\n",
       "    .dataframe tbody tr th:only-of-type {\n",
       "        vertical-align: middle;\n",
       "    }\n",
       "\n",
       "    .dataframe tbody tr th {\n",
       "        vertical-align: top;\n",
       "    }\n",
       "\n",
       "    .dataframe thead th {\n",
       "        text-align: right;\n",
       "    }\n",
       "</style>\n",
       "<table border=\"1\" class=\"dataframe\">\n",
       "  <thead>\n",
       "    <tr style=\"text-align: right;\">\n",
       "      <th></th>\n",
       "      <th>movie_id</th>\n",
       "      <th>rating_val</th>\n",
       "      <th>user_id</th>\n",
       "      <th>display_name</th>\n",
       "      <th>num_ratings_pages</th>\n",
       "      <th>num_reviews</th>\n",
       "      <th>diff</th>\n",
       "    </tr>\n",
       "  </thead>\n",
       "  <tbody>\n",
       "    <tr>\n",
       "      <th>0</th>\n",
       "      <td>feast-2014</td>\n",
       "      <td>7</td>\n",
       "      <td>deathproof</td>\n",
       "      <td>Lucy</td>\n",
       "      <td>32.0</td>\n",
       "      <td>1650.0</td>\n",
       "      <td>1</td>\n",
       "    </tr>\n",
       "    <tr>\n",
       "      <th>1</th>\n",
       "      <td>loving-2016</td>\n",
       "      <td>7</td>\n",
       "      <td>deathproof</td>\n",
       "      <td>Lucy</td>\n",
       "      <td>32.0</td>\n",
       "      <td>1650.0</td>\n",
       "      <td>1</td>\n",
       "    </tr>\n",
       "    <tr>\n",
       "      <th>2</th>\n",
       "      <td>scripted-content</td>\n",
       "      <td>7</td>\n",
       "      <td>deathproof</td>\n",
       "      <td>Lucy</td>\n",
       "      <td>32.0</td>\n",
       "      <td>1650.0</td>\n",
       "      <td>1</td>\n",
       "    </tr>\n",
       "    <tr>\n",
       "      <th>3</th>\n",
       "      <td>the-future</td>\n",
       "      <td>4</td>\n",
       "      <td>deathproof</td>\n",
       "      <td>Lucy</td>\n",
       "      <td>32.0</td>\n",
       "      <td>1650.0</td>\n",
       "      <td>1</td>\n",
       "    </tr>\n",
       "    <tr>\n",
       "      <th>4</th>\n",
       "      <td>mank</td>\n",
       "      <td>5</td>\n",
       "      <td>deathproof</td>\n",
       "      <td>Lucy</td>\n",
       "      <td>32.0</td>\n",
       "      <td>1650.0</td>\n",
       "      <td>1</td>\n",
       "    </tr>\n",
       "  </tbody>\n",
       "</table>\n",
       "</div>"
      ],
      "text/plain": [
       "           movie_id  rating_val     user_id display_name  num_ratings_pages  \\\n",
       "0        feast-2014           7  deathproof         Lucy               32.0   \n",
       "1       loving-2016           7  deathproof         Lucy               32.0   \n",
       "2  scripted-content           7  deathproof         Lucy               32.0   \n",
       "3        the-future           4  deathproof         Lucy               32.0   \n",
       "4              mank           5  deathproof         Lucy               32.0   \n",
       "\n",
       "   num_reviews diff  \n",
       "0       1650.0    1  \n",
       "1       1650.0    1  \n",
       "2       1650.0    1  \n",
       "3       1650.0    1  \n",
       "4       1650.0    1  "
      ]
     },
     "execution_count": 42,
     "metadata": {},
     "output_type": "execute_result"
    }
   ],
   "source": [
    "ru.head()"
   ]
  },
  {
   "cell_type": "markdown",
   "id": "c0087df5",
   "metadata": {},
   "source": [
    "Now, we can also drop **diff**."
   ]
  },
  {
   "cell_type": "code",
   "execution_count": 43,
   "id": "ac7ee33c",
   "metadata": {},
   "outputs": [],
   "source": [
    "ru.drop('diff', axis=1, inplace=True)"
   ]
  },
  {
   "cell_type": "markdown",
   "id": "6d5d00e1",
   "metadata": {},
   "source": [
    "## Adding Movies"
   ]
  },
  {
   "cell_type": "markdown",
   "id": "974b793e",
   "metadata": {},
   "source": [
    "To this dataframe, we can now merge the **dfmovies** dataframe on the **movie_id** column."
   ]
  },
  {
   "cell_type": "code",
   "execution_count": 44,
   "id": "68a26477",
   "metadata": {},
   "outputs": [],
   "source": [
    "df = ru.merge(dfmovies, how='left', on='movie_id')"
   ]
  },
  {
   "cell_type": "markdown",
   "id": "bbda2939",
   "metadata": {},
   "source": [
    "Let's explore this dataframe **df**."
   ]
  },
  {
   "cell_type": "code",
   "execution_count": 45,
   "id": "821a591d",
   "metadata": {},
   "outputs": [
    {
     "name": "stdout",
     "output_type": "stream",
     "text": [
      "<class 'pandas.core.frame.DataFrame'>\n",
      "Int64Index: 11076470 entries, 0 to 11076469\n",
      "Data columns (total 24 columns):\n",
      " #   Column                Dtype  \n",
      "---  ------                -----  \n",
      " 0   movie_id              object \n",
      " 1   rating_val            int64  \n",
      " 2   user_id               object \n",
      " 3   display_name          object \n",
      " 4   num_ratings_pages     float64\n",
      " 5   num_reviews           float64\n",
      " 6   _id                   object \n",
      " 7   genres                object \n",
      " 8   image_url             object \n",
      " 9   imdb_id               object \n",
      " 10  imdb_link             object \n",
      " 11  movie_title           object \n",
      " 12  original_language     object \n",
      " 13  overview              object \n",
      " 14  popularity            float64\n",
      " 15  production_countries  object \n",
      " 16  release_date          object \n",
      " 17  runtime               float64\n",
      " 18  spoken_languages      object \n",
      " 19  tmdb_id               float64\n",
      " 20  tmdb_link             object \n",
      " 21  vote_average          float64\n",
      " 22  vote_count            float64\n",
      " 23  year_released         float64\n",
      "dtypes: float64(8), int64(1), object(15)\n",
      "memory usage: 2.1+ GB\n"
     ]
    }
   ],
   "source": [
    "df.info()"
   ]
  },
  {
   "cell_type": "markdown",
   "id": "5dbfe995",
   "metadata": {},
   "source": [
    "The **df** dataframe has 11,076,470 records!"
   ]
  },
  {
   "cell_type": "markdown",
   "id": "4ce2ae62",
   "metadata": {},
   "source": [
    "# Size of the Dataset & Data Wrangling"
   ]
  },
  {
   "cell_type": "markdown",
   "id": "c1959b45",
   "metadata": {},
   "source": [
    "**df**, as it stands now, is very large and takes up a lot of memory. It would be beneficial to reduce the size."
   ]
  },
  {
   "cell_type": "code",
   "execution_count": 46,
   "id": "56e94048",
   "metadata": {},
   "outputs": [
    {
     "data": {
      "text/plain": [
       "7476"
      ]
     },
     "execution_count": 46,
     "metadata": {},
     "output_type": "execute_result"
    }
   ],
   "source": [
    "#let's look at how many unique users we have\n",
    "len(df['user_id'].unique())"
   ]
  },
  {
   "cell_type": "code",
   "execution_count": 47,
   "id": "9bff048e",
   "metadata": {},
   "outputs": [
    {
     "data": {
      "text/plain": [
       "0.0        126450\n",
       "14642.0     32271\n",
       "196.0       28120\n",
       "454.0       27506\n",
       "493.0       26074\n",
       "            ...  \n",
       "6.0            36\n",
       "2.0            22\n",
       "1095.0         16\n",
       "3364.0          1\n",
       "1649.0          1\n",
       "Name: num_reviews, Length: 2379, dtype: int64"
      ]
     },
     "execution_count": 47,
     "metadata": {},
     "output_type": "execute_result"
    }
   ],
   "source": [
    "#we want to see the total number of reviews that each user has given in descending order\n",
    "df['num_reviews'].value_counts()"
   ]
  },
  {
   "cell_type": "markdown",
   "id": "802a3f0e",
   "metadata": {},
   "source": [
    "There are 126,450 users who have not given any reviews (1.14% of the dataset). This is not helpful for our purposes, so let's drop these rows."
   ]
  },
  {
   "cell_type": "code",
   "execution_count": 48,
   "id": "b3377728",
   "metadata": {},
   "outputs": [],
   "source": [
    "df.drop(df[df.num_reviews == 0.0].index, inplace=True)"
   ]
  },
  {
   "cell_type": "code",
   "execution_count": 49,
   "id": "e383b8cc",
   "metadata": {},
   "outputs": [
    {
     "data": {
      "text/plain": [
       "(10950020, 24)"
      ]
     },
     "execution_count": 49,
     "metadata": {},
     "output_type": "execute_result"
    }
   ],
   "source": [
    "df.shape"
   ]
  },
  {
   "cell_type": "markdown",
   "id": "08d5e2af",
   "metadata": {},
   "source": [
    "We can remove the **\\_id** column: "
   ]
  },
  {
   "cell_type": "code",
   "execution_count": 50,
   "id": "4b439dbf",
   "metadata": {},
   "outputs": [],
   "source": [
    "df = df.drop('_id', axis=1)"
   ]
  },
  {
   "cell_type": "markdown",
   "id": "b0dd0a09",
   "metadata": {},
   "source": [
    "Now, let's go through the columns one by one."
   ]
  },
  {
   "cell_type": "markdown",
   "id": "99839614",
   "metadata": {},
   "source": [
    "## movie_id"
   ]
  },
  {
   "cell_type": "code",
   "execution_count": 51,
   "id": "a7bb590b",
   "metadata": {},
   "outputs": [
    {
     "data": {
      "text/plain": [
       "10"
      ]
     },
     "execution_count": 51,
     "metadata": {},
     "output_type": "execute_result"
    }
   ],
   "source": [
    "df['movie_id'].isna().sum()"
   ]
  },
  {
   "cell_type": "code",
   "execution_count": 52,
   "id": "3e6f4649",
   "metadata": {},
   "outputs": [
    {
     "data": {
      "text/html": [
       "<div>\n",
       "<style scoped>\n",
       "    .dataframe tbody tr th:only-of-type {\n",
       "        vertical-align: middle;\n",
       "    }\n",
       "\n",
       "    .dataframe tbody tr th {\n",
       "        vertical-align: top;\n",
       "    }\n",
       "\n",
       "    .dataframe thead th {\n",
       "        text-align: right;\n",
       "    }\n",
       "</style>\n",
       "<table border=\"1\" class=\"dataframe\">\n",
       "  <thead>\n",
       "    <tr style=\"text-align: right;\">\n",
       "      <th></th>\n",
       "      <th>movie_id</th>\n",
       "      <th>rating_val</th>\n",
       "      <th>user_id</th>\n",
       "      <th>display_name</th>\n",
       "      <th>num_ratings_pages</th>\n",
       "      <th>num_reviews</th>\n",
       "      <th>genres</th>\n",
       "      <th>image_url</th>\n",
       "      <th>imdb_id</th>\n",
       "      <th>imdb_link</th>\n",
       "      <th>movie_title</th>\n",
       "      <th>original_language</th>\n",
       "      <th>overview</th>\n",
       "      <th>popularity</th>\n",
       "      <th>production_countries</th>\n",
       "      <th>release_date</th>\n",
       "      <th>runtime</th>\n",
       "      <th>spoken_languages</th>\n",
       "      <th>tmdb_id</th>\n",
       "      <th>tmdb_link</th>\n",
       "      <th>vote_average</th>\n",
       "      <th>vote_count</th>\n",
       "      <th>year_released</th>\n",
       "    </tr>\n",
       "  </thead>\n",
       "  <tbody>\n",
       "    <tr>\n",
       "      <th>6764637</th>\n",
       "      <td>NaN</td>\n",
       "      <td>6</td>\n",
       "      <td>ghettominibar</td>\n",
       "      <td>Ivo Mulder</td>\n",
       "      <td>344.0</td>\n",
       "      <td>196.0</td>\n",
       "      <td>[\"Drama\"]</td>\n",
       "      <td>film-poster/5/4/5/6/6/7/545667--null--0-230-0-...</td>\n",
       "      <td>tt3572736</td>\n",
       "      <td>http://www.imdb.com/title/tt3572736/maindetails</td>\n",
       "      <td>(NULL)</td>\n",
       "      <td>xx</td>\n",
       "      <td>(NULL) is the tale of an unknown girl who brea...</td>\n",
       "      <td>0.6</td>\n",
       "      <td>[\"Germany\"]</td>\n",
       "      <td>2013-01-01</td>\n",
       "      <td>5.0</td>\n",
       "      <td>[\"No Language\"]</td>\n",
       "      <td>618953.0</td>\n",
       "      <td>https://www.themoviedb.org/movie/618953/</td>\n",
       "      <td>3.0</td>\n",
       "      <td>2.0</td>\n",
       "      <td>2013.0</td>\n",
       "    </tr>\n",
       "    <tr>\n",
       "      <th>6764638</th>\n",
       "      <td>NaN</td>\n",
       "      <td>6</td>\n",
       "      <td>ghettominibar</td>\n",
       "      <td>Ivo Mulder</td>\n",
       "      <td>344.0</td>\n",
       "      <td>196.0</td>\n",
       "      <td>[]</td>\n",
       "      <td>film-poster/3/1/9/5/1/5/319515-nan-0-230-0-345...</td>\n",
       "      <td>tt3790100</td>\n",
       "      <td>http://www.imdb.com/title/tt3790100/maindetails</td>\n",
       "      <td>Nan</td>\n",
       "      <td>en</td>\n",
       "      <td>Sahim Omar Kalifa's graduating Film.</td>\n",
       "      <td>0.6</td>\n",
       "      <td>[]</td>\n",
       "      <td>2008-09-08</td>\n",
       "      <td>30.0</td>\n",
       "      <td>[]</td>\n",
       "      <td>384717.0</td>\n",
       "      <td>https://www.themoviedb.org/movie/384717/</td>\n",
       "      <td>5.0</td>\n",
       "      <td>2.0</td>\n",
       "      <td>2008.0</td>\n",
       "    </tr>\n",
       "    <tr>\n",
       "      <th>6782291</th>\n",
       "      <td>NaN</td>\n",
       "      <td>10</td>\n",
       "      <td>lancelubelski</td>\n",
       "      <td>Lance</td>\n",
       "      <td>94.0</td>\n",
       "      <td>3284.0</td>\n",
       "      <td>[\"Drama\"]</td>\n",
       "      <td>film-poster/5/4/5/6/6/7/545667--null--0-230-0-...</td>\n",
       "      <td>tt3572736</td>\n",
       "      <td>http://www.imdb.com/title/tt3572736/maindetails</td>\n",
       "      <td>(NULL)</td>\n",
       "      <td>xx</td>\n",
       "      <td>(NULL) is the tale of an unknown girl who brea...</td>\n",
       "      <td>0.6</td>\n",
       "      <td>[\"Germany\"]</td>\n",
       "      <td>2013-01-01</td>\n",
       "      <td>5.0</td>\n",
       "      <td>[\"No Language\"]</td>\n",
       "      <td>618953.0</td>\n",
       "      <td>https://www.themoviedb.org/movie/618953/</td>\n",
       "      <td>3.0</td>\n",
       "      <td>2.0</td>\n",
       "      <td>2013.0</td>\n",
       "    </tr>\n",
       "    <tr>\n",
       "      <th>6782292</th>\n",
       "      <td>NaN</td>\n",
       "      <td>10</td>\n",
       "      <td>lancelubelski</td>\n",
       "      <td>Lance</td>\n",
       "      <td>94.0</td>\n",
       "      <td>3284.0</td>\n",
       "      <td>[]</td>\n",
       "      <td>film-poster/3/1/9/5/1/5/319515-nan-0-230-0-345...</td>\n",
       "      <td>tt3790100</td>\n",
       "      <td>http://www.imdb.com/title/tt3790100/maindetails</td>\n",
       "      <td>Nan</td>\n",
       "      <td>en</td>\n",
       "      <td>Sahim Omar Kalifa's graduating Film.</td>\n",
       "      <td>0.6</td>\n",
       "      <td>[]</td>\n",
       "      <td>2008-09-08</td>\n",
       "      <td>30.0</td>\n",
       "      <td>[]</td>\n",
       "      <td>384717.0</td>\n",
       "      <td>https://www.themoviedb.org/movie/384717/</td>\n",
       "      <td>5.0</td>\n",
       "      <td>2.0</td>\n",
       "      <td>2008.0</td>\n",
       "    </tr>\n",
       "    <tr>\n",
       "      <th>6783470</th>\n",
       "      <td>NaN</td>\n",
       "      <td>6</td>\n",
       "      <td>deepbluefunk</td>\n",
       "      <td>deepbluefunk</td>\n",
       "      <td>101.0</td>\n",
       "      <td>4189.0</td>\n",
       "      <td>[\"Drama\"]</td>\n",
       "      <td>film-poster/5/4/5/6/6/7/545667--null--0-230-0-...</td>\n",
       "      <td>tt3572736</td>\n",
       "      <td>http://www.imdb.com/title/tt3572736/maindetails</td>\n",
       "      <td>(NULL)</td>\n",
       "      <td>xx</td>\n",
       "      <td>(NULL) is the tale of an unknown girl who brea...</td>\n",
       "      <td>0.6</td>\n",
       "      <td>[\"Germany\"]</td>\n",
       "      <td>2013-01-01</td>\n",
       "      <td>5.0</td>\n",
       "      <td>[\"No Language\"]</td>\n",
       "      <td>618953.0</td>\n",
       "      <td>https://www.themoviedb.org/movie/618953/</td>\n",
       "      <td>3.0</td>\n",
       "      <td>2.0</td>\n",
       "      <td>2013.0</td>\n",
       "    </tr>\n",
       "    <tr>\n",
       "      <th>6783471</th>\n",
       "      <td>NaN</td>\n",
       "      <td>6</td>\n",
       "      <td>deepbluefunk</td>\n",
       "      <td>deepbluefunk</td>\n",
       "      <td>101.0</td>\n",
       "      <td>4189.0</td>\n",
       "      <td>[]</td>\n",
       "      <td>film-poster/3/1/9/5/1/5/319515-nan-0-230-0-345...</td>\n",
       "      <td>tt3790100</td>\n",
       "      <td>http://www.imdb.com/title/tt3790100/maindetails</td>\n",
       "      <td>Nan</td>\n",
       "      <td>en</td>\n",
       "      <td>Sahim Omar Kalifa's graduating Film.</td>\n",
       "      <td>0.6</td>\n",
       "      <td>[]</td>\n",
       "      <td>2008-09-08</td>\n",
       "      <td>30.0</td>\n",
       "      <td>[]</td>\n",
       "      <td>384717.0</td>\n",
       "      <td>https://www.themoviedb.org/movie/384717/</td>\n",
       "      <td>5.0</td>\n",
       "      <td>2.0</td>\n",
       "      <td>2008.0</td>\n",
       "    </tr>\n",
       "    <tr>\n",
       "      <th>7068691</th>\n",
       "      <td>NaN</td>\n",
       "      <td>5</td>\n",
       "      <td>welovemovies</td>\n",
       "      <td>We Love Movies!!! 🎬</td>\n",
       "      <td>28.0</td>\n",
       "      <td>858.0</td>\n",
       "      <td>[\"Drama\"]</td>\n",
       "      <td>film-poster/5/4/5/6/6/7/545667--null--0-230-0-...</td>\n",
       "      <td>tt3572736</td>\n",
       "      <td>http://www.imdb.com/title/tt3572736/maindetails</td>\n",
       "      <td>(NULL)</td>\n",
       "      <td>xx</td>\n",
       "      <td>(NULL) is the tale of an unknown girl who brea...</td>\n",
       "      <td>0.6</td>\n",
       "      <td>[\"Germany\"]</td>\n",
       "      <td>2013-01-01</td>\n",
       "      <td>5.0</td>\n",
       "      <td>[\"No Language\"]</td>\n",
       "      <td>618953.0</td>\n",
       "      <td>https://www.themoviedb.org/movie/618953/</td>\n",
       "      <td>3.0</td>\n",
       "      <td>2.0</td>\n",
       "      <td>2013.0</td>\n",
       "    </tr>\n",
       "    <tr>\n",
       "      <th>7068692</th>\n",
       "      <td>NaN</td>\n",
       "      <td>5</td>\n",
       "      <td>welovemovies</td>\n",
       "      <td>We Love Movies!!! 🎬</td>\n",
       "      <td>28.0</td>\n",
       "      <td>858.0</td>\n",
       "      <td>[]</td>\n",
       "      <td>film-poster/3/1/9/5/1/5/319515-nan-0-230-0-345...</td>\n",
       "      <td>tt3790100</td>\n",
       "      <td>http://www.imdb.com/title/tt3790100/maindetails</td>\n",
       "      <td>Nan</td>\n",
       "      <td>en</td>\n",
       "      <td>Sahim Omar Kalifa's graduating Film.</td>\n",
       "      <td>0.6</td>\n",
       "      <td>[]</td>\n",
       "      <td>2008-09-08</td>\n",
       "      <td>30.0</td>\n",
       "      <td>[]</td>\n",
       "      <td>384717.0</td>\n",
       "      <td>https://www.themoviedb.org/movie/384717/</td>\n",
       "      <td>5.0</td>\n",
       "      <td>2.0</td>\n",
       "      <td>2008.0</td>\n",
       "    </tr>\n",
       "    <tr>\n",
       "      <th>7305020</th>\n",
       "      <td>NaN</td>\n",
       "      <td>7</td>\n",
       "      <td>ghettominibar</td>\n",
       "      <td>Ivo Mulder</td>\n",
       "      <td>344.0</td>\n",
       "      <td>196.0</td>\n",
       "      <td>[\"Drama\"]</td>\n",
       "      <td>film-poster/5/4/5/6/6/7/545667--null--0-230-0-...</td>\n",
       "      <td>tt3572736</td>\n",
       "      <td>http://www.imdb.com/title/tt3572736/maindetails</td>\n",
       "      <td>(NULL)</td>\n",
       "      <td>xx</td>\n",
       "      <td>(NULL) is the tale of an unknown girl who brea...</td>\n",
       "      <td>0.6</td>\n",
       "      <td>[\"Germany\"]</td>\n",
       "      <td>2013-01-01</td>\n",
       "      <td>5.0</td>\n",
       "      <td>[\"No Language\"]</td>\n",
       "      <td>618953.0</td>\n",
       "      <td>https://www.themoviedb.org/movie/618953/</td>\n",
       "      <td>3.0</td>\n",
       "      <td>2.0</td>\n",
       "      <td>2013.0</td>\n",
       "    </tr>\n",
       "    <tr>\n",
       "      <th>7305021</th>\n",
       "      <td>NaN</td>\n",
       "      <td>7</td>\n",
       "      <td>ghettominibar</td>\n",
       "      <td>Ivo Mulder</td>\n",
       "      <td>344.0</td>\n",
       "      <td>196.0</td>\n",
       "      <td>[]</td>\n",
       "      <td>film-poster/3/1/9/5/1/5/319515-nan-0-230-0-345...</td>\n",
       "      <td>tt3790100</td>\n",
       "      <td>http://www.imdb.com/title/tt3790100/maindetails</td>\n",
       "      <td>Nan</td>\n",
       "      <td>en</td>\n",
       "      <td>Sahim Omar Kalifa's graduating Film.</td>\n",
       "      <td>0.6</td>\n",
       "      <td>[]</td>\n",
       "      <td>2008-09-08</td>\n",
       "      <td>30.0</td>\n",
       "      <td>[]</td>\n",
       "      <td>384717.0</td>\n",
       "      <td>https://www.themoviedb.org/movie/384717/</td>\n",
       "      <td>5.0</td>\n",
       "      <td>2.0</td>\n",
       "      <td>2008.0</td>\n",
       "    </tr>\n",
       "  </tbody>\n",
       "</table>\n",
       "</div>"
      ],
      "text/plain": [
       "        movie_id  rating_val        user_id         display_name  \\\n",
       "6764637      NaN           6  ghettominibar           Ivo Mulder   \n",
       "6764638      NaN           6  ghettominibar           Ivo Mulder   \n",
       "6782291      NaN          10  lancelubelski                Lance   \n",
       "6782292      NaN          10  lancelubelski                Lance   \n",
       "6783470      NaN           6   deepbluefunk         deepbluefunk   \n",
       "6783471      NaN           6   deepbluefunk         deepbluefunk   \n",
       "7068691      NaN           5   welovemovies  We Love Movies!!! 🎬   \n",
       "7068692      NaN           5   welovemovies  We Love Movies!!! 🎬   \n",
       "7305020      NaN           7  ghettominibar           Ivo Mulder   \n",
       "7305021      NaN           7  ghettominibar           Ivo Mulder   \n",
       "\n",
       "         num_ratings_pages  num_reviews     genres  \\\n",
       "6764637              344.0        196.0  [\"Drama\"]   \n",
       "6764638              344.0        196.0         []   \n",
       "6782291               94.0       3284.0  [\"Drama\"]   \n",
       "6782292               94.0       3284.0         []   \n",
       "6783470              101.0       4189.0  [\"Drama\"]   \n",
       "6783471              101.0       4189.0         []   \n",
       "7068691               28.0        858.0  [\"Drama\"]   \n",
       "7068692               28.0        858.0         []   \n",
       "7305020              344.0        196.0  [\"Drama\"]   \n",
       "7305021              344.0        196.0         []   \n",
       "\n",
       "                                                 image_url    imdb_id  \\\n",
       "6764637  film-poster/5/4/5/6/6/7/545667--null--0-230-0-...  tt3572736   \n",
       "6764638  film-poster/3/1/9/5/1/5/319515-nan-0-230-0-345...  tt3790100   \n",
       "6782291  film-poster/5/4/5/6/6/7/545667--null--0-230-0-...  tt3572736   \n",
       "6782292  film-poster/3/1/9/5/1/5/319515-nan-0-230-0-345...  tt3790100   \n",
       "6783470  film-poster/5/4/5/6/6/7/545667--null--0-230-0-...  tt3572736   \n",
       "6783471  film-poster/3/1/9/5/1/5/319515-nan-0-230-0-345...  tt3790100   \n",
       "7068691  film-poster/5/4/5/6/6/7/545667--null--0-230-0-...  tt3572736   \n",
       "7068692  film-poster/3/1/9/5/1/5/319515-nan-0-230-0-345...  tt3790100   \n",
       "7305020  film-poster/5/4/5/6/6/7/545667--null--0-230-0-...  tt3572736   \n",
       "7305021  film-poster/3/1/9/5/1/5/319515-nan-0-230-0-345...  tt3790100   \n",
       "\n",
       "                                               imdb_link movie_title  \\\n",
       "6764637  http://www.imdb.com/title/tt3572736/maindetails      (NULL)   \n",
       "6764638  http://www.imdb.com/title/tt3790100/maindetails         Nan   \n",
       "6782291  http://www.imdb.com/title/tt3572736/maindetails      (NULL)   \n",
       "6782292  http://www.imdb.com/title/tt3790100/maindetails         Nan   \n",
       "6783470  http://www.imdb.com/title/tt3572736/maindetails      (NULL)   \n",
       "6783471  http://www.imdb.com/title/tt3790100/maindetails         Nan   \n",
       "7068691  http://www.imdb.com/title/tt3572736/maindetails      (NULL)   \n",
       "7068692  http://www.imdb.com/title/tt3790100/maindetails         Nan   \n",
       "7305020  http://www.imdb.com/title/tt3572736/maindetails      (NULL)   \n",
       "7305021  http://www.imdb.com/title/tt3790100/maindetails         Nan   \n",
       "\n",
       "        original_language                                           overview  \\\n",
       "6764637                xx  (NULL) is the tale of an unknown girl who brea...   \n",
       "6764638                en               Sahim Omar Kalifa's graduating Film.   \n",
       "6782291                xx  (NULL) is the tale of an unknown girl who brea...   \n",
       "6782292                en               Sahim Omar Kalifa's graduating Film.   \n",
       "6783470                xx  (NULL) is the tale of an unknown girl who brea...   \n",
       "6783471                en               Sahim Omar Kalifa's graduating Film.   \n",
       "7068691                xx  (NULL) is the tale of an unknown girl who brea...   \n",
       "7068692                en               Sahim Omar Kalifa's graduating Film.   \n",
       "7305020                xx  (NULL) is the tale of an unknown girl who brea...   \n",
       "7305021                en               Sahim Omar Kalifa's graduating Film.   \n",
       "\n",
       "         popularity production_countries release_date  runtime  \\\n",
       "6764637         0.6          [\"Germany\"]   2013-01-01      5.0   \n",
       "6764638         0.6                   []   2008-09-08     30.0   \n",
       "6782291         0.6          [\"Germany\"]   2013-01-01      5.0   \n",
       "6782292         0.6                   []   2008-09-08     30.0   \n",
       "6783470         0.6          [\"Germany\"]   2013-01-01      5.0   \n",
       "6783471         0.6                   []   2008-09-08     30.0   \n",
       "7068691         0.6          [\"Germany\"]   2013-01-01      5.0   \n",
       "7068692         0.6                   []   2008-09-08     30.0   \n",
       "7305020         0.6          [\"Germany\"]   2013-01-01      5.0   \n",
       "7305021         0.6                   []   2008-09-08     30.0   \n",
       "\n",
       "        spoken_languages   tmdb_id                                 tmdb_link  \\\n",
       "6764637  [\"No Language\"]  618953.0  https://www.themoviedb.org/movie/618953/   \n",
       "6764638               []  384717.0  https://www.themoviedb.org/movie/384717/   \n",
       "6782291  [\"No Language\"]  618953.0  https://www.themoviedb.org/movie/618953/   \n",
       "6782292               []  384717.0  https://www.themoviedb.org/movie/384717/   \n",
       "6783470  [\"No Language\"]  618953.0  https://www.themoviedb.org/movie/618953/   \n",
       "6783471               []  384717.0  https://www.themoviedb.org/movie/384717/   \n",
       "7068691  [\"No Language\"]  618953.0  https://www.themoviedb.org/movie/618953/   \n",
       "7068692               []  384717.0  https://www.themoviedb.org/movie/384717/   \n",
       "7305020  [\"No Language\"]  618953.0  https://www.themoviedb.org/movie/618953/   \n",
       "7305021               []  384717.0  https://www.themoviedb.org/movie/384717/   \n",
       "\n",
       "         vote_average  vote_count  year_released  \n",
       "6764637           3.0         2.0         2013.0  \n",
       "6764638           5.0         2.0         2008.0  \n",
       "6782291           3.0         2.0         2013.0  \n",
       "6782292           5.0         2.0         2008.0  \n",
       "6783470           3.0         2.0         2013.0  \n",
       "6783471           5.0         2.0         2008.0  \n",
       "7068691           3.0         2.0         2013.0  \n",
       "7068692           5.0         2.0         2008.0  \n",
       "7305020           3.0         2.0         2013.0  \n",
       "7305021           5.0         2.0         2008.0  "
      ]
     },
     "execution_count": 52,
     "metadata": {},
     "output_type": "execute_result"
    }
   ],
   "source": [
    "df[df['movie_id'].isna()]"
   ]
  },
  {
   "cell_type": "markdown",
   "id": "aa1b2a30",
   "metadata": {},
   "source": [
    "There are 10 movies that don't have movie IDs. They also don't have titles. \n",
    "<br>\n",
    "When looking at the summaries of the two films, we can see that there are only two unique summaries here. One of these films was produced in Germany, while the other is not specified. \n",
    "<br> \n",
    "Since these rows only make up a very very small part of our overall dataset, they will be dropped."
   ]
  },
  {
   "cell_type": "code",
   "execution_count": 53,
   "id": "e0f327e0",
   "metadata": {},
   "outputs": [],
   "source": [
    "df = df.dropna(subset=['movie_id'])"
   ]
  },
  {
   "cell_type": "markdown",
   "id": "bfa47300",
   "metadata": {},
   "source": [
    "## user_id"
   ]
  },
  {
   "cell_type": "code",
   "execution_count": 54,
   "id": "d034cf90",
   "metadata": {},
   "outputs": [
    {
     "data": {
      "text/plain": [
       "0"
      ]
     },
     "execution_count": 54,
     "metadata": {},
     "output_type": "execute_result"
    }
   ],
   "source": [
    "df['user_id'].isna().sum()"
   ]
  },
  {
   "cell_type": "code",
   "execution_count": 55,
   "id": "742b94fd",
   "metadata": {},
   "outputs": [
    {
     "data": {
      "text/plain": [
       "7454"
      ]
     },
     "execution_count": 55,
     "metadata": {},
     "output_type": "execute_result"
    }
   ],
   "source": [
    "len(df['user_id'].unique())"
   ]
  },
  {
   "cell_type": "markdown",
   "id": "65dd1cd1",
   "metadata": {},
   "source": [
    "There are 7,454 unique users in our dataset."
   ]
  },
  {
   "cell_type": "markdown",
   "id": "5b31bd0d",
   "metadata": {},
   "source": [
    "## rating_val"
   ]
  },
  {
   "cell_type": "code",
   "execution_count": 56,
   "id": "c7929b9a",
   "metadata": {},
   "outputs": [
    {
     "data": {
      "text/plain": [
       "array([ 7,  4,  5, 10,  6,  8,  3,  2,  1,  9], dtype=int64)"
      ]
     },
     "execution_count": 56,
     "metadata": {},
     "output_type": "execute_result"
    }
   ],
   "source": [
    "df['rating_val'].unique()"
   ]
  },
  {
   "cell_type": "markdown",
   "id": "c5969d17",
   "metadata": {},
   "source": [
    "Since this is supposed to be the rating given by a user to a movie on a scale of 1 to 10, we should ensure that these are the only values in this column."
   ]
  },
  {
   "cell_type": "code",
   "execution_count": 57,
   "id": "9611445e",
   "metadata": {},
   "outputs": [
    {
     "data": {
      "text/plain": [
       "0"
      ]
     },
     "execution_count": 57,
     "metadata": {},
     "output_type": "execute_result"
    }
   ],
   "source": [
    "df['rating_val'].isna().sum()"
   ]
  },
  {
   "cell_type": "markdown",
   "id": "4f0f718e",
   "metadata": {},
   "source": [
    "## display_name"
   ]
  },
  {
   "cell_type": "code",
   "execution_count": 58,
   "id": "9a130f56",
   "metadata": {},
   "outputs": [
    {
     "data": {
      "text/plain": [
       "8890"
      ]
     },
     "execution_count": 58,
     "metadata": {},
     "output_type": "execute_result"
    }
   ],
   "source": [
    "df['display_name'].isna().sum()"
   ]
  },
  {
   "cell_type": "markdown",
   "id": "af6cf65e",
   "metadata": {},
   "source": [
    "There are 8,890 missing values in this column. However, these could just be because some users did not wish to have a display name attached to their account."
   ]
  },
  {
   "cell_type": "markdown",
   "id": "057f8be4",
   "metadata": {},
   "source": [
    "## num_ratings_pages"
   ]
  },
  {
   "cell_type": "code",
   "execution_count": 59,
   "id": "dadef014",
   "metadata": {},
   "outputs": [
    {
     "data": {
      "text/plain": [
       "1561452"
      ]
     },
     "execution_count": 59,
     "metadata": {},
     "output_type": "execute_result"
    }
   ],
   "source": [
    "df['num_ratings_pages'].isna().sum()"
   ]
  },
  {
   "cell_type": "markdown",
   "id": "5fe6f8d6",
   "metadata": {},
   "source": [
    "There are 1,561,452 rows with missing values in this column. This is ~14% of the overall dataset. Since we removed all users who did not give any reviews, maybe these missing values are associated with users that only have 1 page. Let's take a closer look."
   ]
  },
  {
   "cell_type": "code",
   "execution_count": 60,
   "id": "0da50941",
   "metadata": {},
   "outputs": [
    {
     "data": {
      "text/html": [
       "<div>\n",
       "<style scoped>\n",
       "    .dataframe tbody tr th:only-of-type {\n",
       "        vertical-align: middle;\n",
       "    }\n",
       "\n",
       "    .dataframe tbody tr th {\n",
       "        vertical-align: top;\n",
       "    }\n",
       "\n",
       "    .dataframe thead th {\n",
       "        text-align: right;\n",
       "    }\n",
       "</style>\n",
       "<table border=\"1\" class=\"dataframe\">\n",
       "  <thead>\n",
       "    <tr style=\"text-align: right;\">\n",
       "      <th></th>\n",
       "      <th>movie_id</th>\n",
       "      <th>rating_val</th>\n",
       "      <th>user_id</th>\n",
       "      <th>display_name</th>\n",
       "      <th>num_ratings_pages</th>\n",
       "      <th>num_reviews</th>\n",
       "      <th>genres</th>\n",
       "      <th>image_url</th>\n",
       "      <th>imdb_id</th>\n",
       "      <th>imdb_link</th>\n",
       "      <th>movie_title</th>\n",
       "      <th>original_language</th>\n",
       "      <th>overview</th>\n",
       "      <th>popularity</th>\n",
       "      <th>production_countries</th>\n",
       "      <th>release_date</th>\n",
       "      <th>runtime</th>\n",
       "      <th>spoken_languages</th>\n",
       "      <th>tmdb_id</th>\n",
       "      <th>tmdb_link</th>\n",
       "      <th>vote_average</th>\n",
       "      <th>vote_count</th>\n",
       "      <th>year_released</th>\n",
       "    </tr>\n",
       "  </thead>\n",
       "  <tbody>\n",
       "    <tr>\n",
       "      <th>8937219</th>\n",
       "      <td>raising-arizona</td>\n",
       "      <td>8</td>\n",
       "      <td>faycwalker</td>\n",
       "      <td>faycwalker</td>\n",
       "      <td>NaN</td>\n",
       "      <td>72.0</td>\n",
       "      <td>[\"Comedy\",\"Crime\"]</td>\n",
       "      <td>film-poster/5/1/7/0/7/51707-raising-arizona-0-...</td>\n",
       "      <td>tt0093822</td>\n",
       "      <td>http://www.imdb.com/title/tt0093822/maindetails</td>\n",
       "      <td>Raising Arizona</td>\n",
       "      <td>en</td>\n",
       "      <td>When a childless couple of an ex-con and an ex...</td>\n",
       "      <td>11.550</td>\n",
       "      <td>[\"United States of America\"]</td>\n",
       "      <td>1987-03-01</td>\n",
       "      <td>94.0</td>\n",
       "      <td>[\"English\"]</td>\n",
       "      <td>378.0</td>\n",
       "      <td>https://www.themoviedb.org/movie/378/</td>\n",
       "      <td>7.0</td>\n",
       "      <td>1508.0</td>\n",
       "      <td>1987.0</td>\n",
       "    </tr>\n",
       "    <tr>\n",
       "      <th>8937220</th>\n",
       "      <td>in-the-heights</td>\n",
       "      <td>5</td>\n",
       "      <td>faycwalker</td>\n",
       "      <td>faycwalker</td>\n",
       "      <td>NaN</td>\n",
       "      <td>72.0</td>\n",
       "      <td>[\"Drama\",\"Music\",\"Romance\"]</td>\n",
       "      <td>film-poster/3/9/9/5/0/0/399500-in-the-heights-...</td>\n",
       "      <td>tt1321510</td>\n",
       "      <td>http://www.imdb.com/title/tt1321510/maindetails</td>\n",
       "      <td>In the Heights</td>\n",
       "      <td>en</td>\n",
       "      <td>The story of Usnavi, a bodega owner who has mi...</td>\n",
       "      <td>23.287</td>\n",
       "      <td>[\"United States of America\"]</td>\n",
       "      <td>2021-06-10</td>\n",
       "      <td>143.0</td>\n",
       "      <td>[\"English\",\"Español\"]</td>\n",
       "      <td>467909.0</td>\n",
       "      <td>https://www.themoviedb.org/movie/467909/</td>\n",
       "      <td>7.4</td>\n",
       "      <td>360.0</td>\n",
       "      <td>2021.0</td>\n",
       "    </tr>\n",
       "    <tr>\n",
       "      <th>8937221</th>\n",
       "      <td>thunder-force</td>\n",
       "      <td>4</td>\n",
       "      <td>faycwalker</td>\n",
       "      <td>faycwalker</td>\n",
       "      <td>NaN</td>\n",
       "      <td>72.0</td>\n",
       "      <td>[\"Action\",\"Adventure\",\"Comedy\"]</td>\n",
       "      <td>film-poster/5/4/2/5/6/6/542566-thunder-force-0...</td>\n",
       "      <td>tt10121392</td>\n",
       "      <td>http://www.imdb.com/title/tt10121392/maindetails</td>\n",
       "      <td>Thunder Force</td>\n",
       "      <td>en</td>\n",
       "      <td>In a world where supervillains are commonplace...</td>\n",
       "      <td>95.652</td>\n",
       "      <td>[\"United States of America\"]</td>\n",
       "      <td>2021-04-09</td>\n",
       "      <td>107.0</td>\n",
       "      <td>[\"English\"]</td>\n",
       "      <td>615678.0</td>\n",
       "      <td>https://www.themoviedb.org/movie/615678/</td>\n",
       "      <td>5.7</td>\n",
       "      <td>831.0</td>\n",
       "      <td>2021.0</td>\n",
       "    </tr>\n",
       "    <tr>\n",
       "      <th>8937222</th>\n",
       "      <td>judas-and-the-black-messiah</td>\n",
       "      <td>8</td>\n",
       "      <td>faycwalker</td>\n",
       "      <td>faycwalker</td>\n",
       "      <td>NaN</td>\n",
       "      <td>72.0</td>\n",
       "      <td>[\"Drama\",\"History\"]</td>\n",
       "      <td>film-poster/5/1/1/3/4/2/511342-judas-and-the-b...</td>\n",
       "      <td>tt9784798</td>\n",
       "      <td>http://www.imdb.com/title/tt9784798/maindetails</td>\n",
       "      <td>Judas and the Black Messiah</td>\n",
       "      <td>en</td>\n",
       "      <td>Bill O'Neal infiltrates the Black Panthers on ...</td>\n",
       "      <td>17.873</td>\n",
       "      <td>[\"Canada\",\"United States of America\"]</td>\n",
       "      <td>2021-02-12</td>\n",
       "      <td>125.0</td>\n",
       "      <td>[\"English\"]</td>\n",
       "      <td>583406.0</td>\n",
       "      <td>https://www.themoviedb.org/movie/583406/</td>\n",
       "      <td>7.5</td>\n",
       "      <td>826.0</td>\n",
       "      <td>2021.0</td>\n",
       "    </tr>\n",
       "    <tr>\n",
       "      <th>8937223</th>\n",
       "      <td>master-and-commander-the-far-side-of-the-world</td>\n",
       "      <td>8</td>\n",
       "      <td>faycwalker</td>\n",
       "      <td>faycwalker</td>\n",
       "      <td>NaN</td>\n",
       "      <td>72.0</td>\n",
       "      <td>[\"Adventure\",\"Drama\",\"War\"]</td>\n",
       "      <td>sm/upload/du/jf/g4/jt/4o4JyEQldHQiqJn0BBRFppDm...</td>\n",
       "      <td>tt0311113</td>\n",
       "      <td>http://www.imdb.com/title/tt0311113/maindetails</td>\n",
       "      <td>Master and Commander: The Far Side of the World</td>\n",
       "      <td>en</td>\n",
       "      <td>After an abrupt and violent encounter with a F...</td>\n",
       "      <td>11.668</td>\n",
       "      <td>[\"United States of America\"]</td>\n",
       "      <td>2003-11-14</td>\n",
       "      <td>138.0</td>\n",
       "      <td>[\"Français\",\"Português\",\"English\"]</td>\n",
       "      <td>8619.0</td>\n",
       "      <td>https://www.themoviedb.org/movie/8619/</td>\n",
       "      <td>7.1</td>\n",
       "      <td>2314.0</td>\n",
       "      <td>2003.0</td>\n",
       "    </tr>\n",
       "    <tr>\n",
       "      <th>...</th>\n",
       "      <td>...</td>\n",
       "      <td>...</td>\n",
       "      <td>...</td>\n",
       "      <td>...</td>\n",
       "      <td>...</td>\n",
       "      <td>...</td>\n",
       "      <td>...</td>\n",
       "      <td>...</td>\n",
       "      <td>...</td>\n",
       "      <td>...</td>\n",
       "      <td>...</td>\n",
       "      <td>...</td>\n",
       "      <td>...</td>\n",
       "      <td>...</td>\n",
       "      <td>...</td>\n",
       "      <td>...</td>\n",
       "      <td>...</td>\n",
       "      <td>...</td>\n",
       "      <td>...</td>\n",
       "      <td>...</td>\n",
       "      <td>...</td>\n",
       "      <td>...</td>\n",
       "      <td>...</td>\n",
       "    </tr>\n",
       "    <tr>\n",
       "      <th>11076465</th>\n",
       "      <td>alien-3</td>\n",
       "      <td>6</td>\n",
       "      <td>turnitip</td>\n",
       "      <td>turnitip</td>\n",
       "      <td>NaN</td>\n",
       "      <td>869.0</td>\n",
       "      <td>[\"Science Fiction\",\"Action\",\"Horror\"]</td>\n",
       "      <td>film-poster/4/7/8/8/8/47888-alien-0-230-0-345-...</td>\n",
       "      <td>tt0103644</td>\n",
       "      <td>http://www.imdb.com/title/tt0103644/maindetails</td>\n",
       "      <td>Alien³</td>\n",
       "      <td>en</td>\n",
       "      <td>After escaping with Newt and Hicks from the al...</td>\n",
       "      <td>22.524</td>\n",
       "      <td>[\"United Kingdom\",\"United States of America\"]</td>\n",
       "      <td>1992-05-22</td>\n",
       "      <td>114.0</td>\n",
       "      <td>[\"English\"]</td>\n",
       "      <td>8077.0</td>\n",
       "      <td>https://www.themoviedb.org/movie/8077/</td>\n",
       "      <td>6.3</td>\n",
       "      <td>4169.0</td>\n",
       "      <td>1992.0</td>\n",
       "    </tr>\n",
       "    <tr>\n",
       "      <th>11076466</th>\n",
       "      <td>battleship-potemkin</td>\n",
       "      <td>7</td>\n",
       "      <td>turnitip</td>\n",
       "      <td>turnitip</td>\n",
       "      <td>NaN</td>\n",
       "      <td>869.0</td>\n",
       "      <td>[\"Drama\",\"History\"]</td>\n",
       "      <td>film-poster/5/1/4/8/1/51481-battleship-potemki...</td>\n",
       "      <td>tt0015648</td>\n",
       "      <td>http://www.imdb.com/title/tt0015648/maindetails</td>\n",
       "      <td>Battleship Potemkin</td>\n",
       "      <td>ru</td>\n",
       "      <td>A dramatized account of a great Russian naval ...</td>\n",
       "      <td>8.771</td>\n",
       "      <td>[\"Soviet Union\"]</td>\n",
       "      <td>1925-12-24</td>\n",
       "      <td>75.0</td>\n",
       "      <td>[\"No Language\"]</td>\n",
       "      <td>643.0</td>\n",
       "      <td>https://www.themoviedb.org/movie/643/</td>\n",
       "      <td>7.7</td>\n",
       "      <td>800.0</td>\n",
       "      <td>1925.0</td>\n",
       "    </tr>\n",
       "    <tr>\n",
       "      <th>11076467</th>\n",
       "      <td>pusher</td>\n",
       "      <td>6</td>\n",
       "      <td>turnitip</td>\n",
       "      <td>turnitip</td>\n",
       "      <td>NaN</td>\n",
       "      <td>869.0</td>\n",
       "      <td>[\"Action\",\"Crime\",\"Drama\",\"Thriller\"]</td>\n",
       "      <td>sm/upload/r0/7x/rh/jz/auG6gLxJwl2SkQpnfLqR5WFo...</td>\n",
       "      <td>tt0117407</td>\n",
       "      <td>http://www.imdb.com/title/tt0117407/maindetails</td>\n",
       "      <td>Pusher</td>\n",
       "      <td>da</td>\n",
       "      <td>A drug pusher grows increasingly desperate aft...</td>\n",
       "      <td>6.615</td>\n",
       "      <td>[\"Denmark\"]</td>\n",
       "      <td>1996-08-30</td>\n",
       "      <td>105.0</td>\n",
       "      <td>[\"Dansk\",\"Srpski\",\"svenska\"]</td>\n",
       "      <td>2061.0</td>\n",
       "      <td>https://www.themoviedb.org/movie/2061/</td>\n",
       "      <td>7.0</td>\n",
       "      <td>504.0</td>\n",
       "      <td>1996.0</td>\n",
       "    </tr>\n",
       "    <tr>\n",
       "      <th>11076468</th>\n",
       "      <td>wild-strawberries</td>\n",
       "      <td>7</td>\n",
       "      <td>turnitip</td>\n",
       "      <td>turnitip</td>\n",
       "      <td>NaN</td>\n",
       "      <td>869.0</td>\n",
       "      <td>[\"Drama\"]</td>\n",
       "      <td>sm/upload/7y/dg/6m/fs/je9lvVfSihc4L4yMNmw0rg6o...</td>\n",
       "      <td>tt0050986</td>\n",
       "      <td>http://www.imdb.com/title/tt0050986/maindetails</td>\n",
       "      <td>Wild Strawberries</td>\n",
       "      <td>sv</td>\n",
       "      <td>Crotchety retired doctor Isak Borg travels fro...</td>\n",
       "      <td>13.574</td>\n",
       "      <td>[\"Sweden\"]</td>\n",
       "      <td>1957-12-26</td>\n",
       "      <td>91.0</td>\n",
       "      <td>[\"Latin\",\"svenska\"]</td>\n",
       "      <td>614.0</td>\n",
       "      <td>https://www.themoviedb.org/movie/614/</td>\n",
       "      <td>8.2</td>\n",
       "      <td>1149.0</td>\n",
       "      <td>1957.0</td>\n",
       "    </tr>\n",
       "    <tr>\n",
       "      <th>11076469</th>\n",
       "      <td>x-2022</td>\n",
       "      <td>5</td>\n",
       "      <td>turnitip</td>\n",
       "      <td>turnitip</td>\n",
       "      <td>NaN</td>\n",
       "      <td>869.0</td>\n",
       "      <td>[\"Horror\",\"Mystery\",\"Thriller\"]</td>\n",
       "      <td>film-poster/6/8/0/3/5/8/680358-x-0-230-0-345-crop</td>\n",
       "      <td>tt13560574</td>\n",
       "      <td>http://www.imdb.com/title/tt13560574/maindetails</td>\n",
       "      <td>X</td>\n",
       "      <td>en</td>\n",
       "      <td>In 1979, a group of young filmmakers set out t...</td>\n",
       "      <td>99.026</td>\n",
       "      <td>[\"United States of America\"]</td>\n",
       "      <td>2022-03-17</td>\n",
       "      <td>106.0</td>\n",
       "      <td>[\"English\"]</td>\n",
       "      <td>760104.0</td>\n",
       "      <td>https://www.themoviedb.org/movie/760104/</td>\n",
       "      <td>7.4</td>\n",
       "      <td>24.0</td>\n",
       "      <td>2022.0</td>\n",
       "    </tr>\n",
       "  </tbody>\n",
       "</table>\n",
       "<p>1561452 rows × 23 columns</p>\n",
       "</div>"
      ],
      "text/plain": [
       "                                                movie_id  rating_val  \\\n",
       "8937219                                  raising-arizona           8   \n",
       "8937220                                   in-the-heights           5   \n",
       "8937221                                    thunder-force           4   \n",
       "8937222                      judas-and-the-black-messiah           8   \n",
       "8937223   master-and-commander-the-far-side-of-the-world           8   \n",
       "...                                                  ...         ...   \n",
       "11076465                                         alien-3           6   \n",
       "11076466                             battleship-potemkin           7   \n",
       "11076467                                          pusher           6   \n",
       "11076468                               wild-strawberries           7   \n",
       "11076469                                          x-2022           5   \n",
       "\n",
       "             user_id display_name  num_ratings_pages  num_reviews  \\\n",
       "8937219   faycwalker   faycwalker                NaN         72.0   \n",
       "8937220   faycwalker   faycwalker                NaN         72.0   \n",
       "8937221   faycwalker   faycwalker                NaN         72.0   \n",
       "8937222   faycwalker   faycwalker                NaN         72.0   \n",
       "8937223   faycwalker   faycwalker                NaN         72.0   \n",
       "...              ...          ...                ...          ...   \n",
       "11076465    turnitip     turnitip                NaN        869.0   \n",
       "11076466    turnitip     turnitip                NaN        869.0   \n",
       "11076467    turnitip     turnitip                NaN        869.0   \n",
       "11076468    turnitip     turnitip                NaN        869.0   \n",
       "11076469    turnitip     turnitip                NaN        869.0   \n",
       "\n",
       "                                         genres  \\\n",
       "8937219                      [\"Comedy\",\"Crime\"]   \n",
       "8937220             [\"Drama\",\"Music\",\"Romance\"]   \n",
       "8937221         [\"Action\",\"Adventure\",\"Comedy\"]   \n",
       "8937222                     [\"Drama\",\"History\"]   \n",
       "8937223             [\"Adventure\",\"Drama\",\"War\"]   \n",
       "...                                         ...   \n",
       "11076465  [\"Science Fiction\",\"Action\",\"Horror\"]   \n",
       "11076466                    [\"Drama\",\"History\"]   \n",
       "11076467  [\"Action\",\"Crime\",\"Drama\",\"Thriller\"]   \n",
       "11076468                              [\"Drama\"]   \n",
       "11076469        [\"Horror\",\"Mystery\",\"Thriller\"]   \n",
       "\n",
       "                                                  image_url     imdb_id  \\\n",
       "8937219   film-poster/5/1/7/0/7/51707-raising-arizona-0-...   tt0093822   \n",
       "8937220   film-poster/3/9/9/5/0/0/399500-in-the-heights-...   tt1321510   \n",
       "8937221   film-poster/5/4/2/5/6/6/542566-thunder-force-0...  tt10121392   \n",
       "8937222   film-poster/5/1/1/3/4/2/511342-judas-and-the-b...   tt9784798   \n",
       "8937223   sm/upload/du/jf/g4/jt/4o4JyEQldHQiqJn0BBRFppDm...   tt0311113   \n",
       "...                                                     ...         ...   \n",
       "11076465  film-poster/4/7/8/8/8/47888-alien-0-230-0-345-...   tt0103644   \n",
       "11076466  film-poster/5/1/4/8/1/51481-battleship-potemki...   tt0015648   \n",
       "11076467  sm/upload/r0/7x/rh/jz/auG6gLxJwl2SkQpnfLqR5WFo...   tt0117407   \n",
       "11076468  sm/upload/7y/dg/6m/fs/je9lvVfSihc4L4yMNmw0rg6o...   tt0050986   \n",
       "11076469  film-poster/6/8/0/3/5/8/680358-x-0-230-0-345-crop  tt13560574   \n",
       "\n",
       "                                                 imdb_link  \\\n",
       "8937219    http://www.imdb.com/title/tt0093822/maindetails   \n",
       "8937220    http://www.imdb.com/title/tt1321510/maindetails   \n",
       "8937221   http://www.imdb.com/title/tt10121392/maindetails   \n",
       "8937222    http://www.imdb.com/title/tt9784798/maindetails   \n",
       "8937223    http://www.imdb.com/title/tt0311113/maindetails   \n",
       "...                                                    ...   \n",
       "11076465   http://www.imdb.com/title/tt0103644/maindetails   \n",
       "11076466   http://www.imdb.com/title/tt0015648/maindetails   \n",
       "11076467   http://www.imdb.com/title/tt0117407/maindetails   \n",
       "11076468   http://www.imdb.com/title/tt0050986/maindetails   \n",
       "11076469  http://www.imdb.com/title/tt13560574/maindetails   \n",
       "\n",
       "                                              movie_title original_language  \\\n",
       "8937219                                   Raising Arizona                en   \n",
       "8937220                                    In the Heights                en   \n",
       "8937221                                     Thunder Force                en   \n",
       "8937222                       Judas and the Black Messiah                en   \n",
       "8937223   Master and Commander: The Far Side of the World                en   \n",
       "...                                                   ...               ...   \n",
       "11076465                                           Alien³                en   \n",
       "11076466                              Battleship Potemkin                ru   \n",
       "11076467                                           Pusher                da   \n",
       "11076468                                Wild Strawberries                sv   \n",
       "11076469                                                X                en   \n",
       "\n",
       "                                                   overview  popularity  \\\n",
       "8937219   When a childless couple of an ex-con and an ex...      11.550   \n",
       "8937220   The story of Usnavi, a bodega owner who has mi...      23.287   \n",
       "8937221   In a world where supervillains are commonplace...      95.652   \n",
       "8937222   Bill O'Neal infiltrates the Black Panthers on ...      17.873   \n",
       "8937223   After an abrupt and violent encounter with a F...      11.668   \n",
       "...                                                     ...         ...   \n",
       "11076465  After escaping with Newt and Hicks from the al...      22.524   \n",
       "11076466  A dramatized account of a great Russian naval ...       8.771   \n",
       "11076467  A drug pusher grows increasingly desperate aft...       6.615   \n",
       "11076468  Crotchety retired doctor Isak Borg travels fro...      13.574   \n",
       "11076469  In 1979, a group of young filmmakers set out t...      99.026   \n",
       "\n",
       "                                   production_countries release_date  runtime  \\\n",
       "8937219                    [\"United States of America\"]   1987-03-01     94.0   \n",
       "8937220                    [\"United States of America\"]   2021-06-10    143.0   \n",
       "8937221                    [\"United States of America\"]   2021-04-09    107.0   \n",
       "8937222           [\"Canada\",\"United States of America\"]   2021-02-12    125.0   \n",
       "8937223                    [\"United States of America\"]   2003-11-14    138.0   \n",
       "...                                                 ...          ...      ...   \n",
       "11076465  [\"United Kingdom\",\"United States of America\"]   1992-05-22    114.0   \n",
       "11076466                               [\"Soviet Union\"]   1925-12-24     75.0   \n",
       "11076467                                    [\"Denmark\"]   1996-08-30    105.0   \n",
       "11076468                                     [\"Sweden\"]   1957-12-26     91.0   \n",
       "11076469                   [\"United States of America\"]   2022-03-17    106.0   \n",
       "\n",
       "                            spoken_languages   tmdb_id  \\\n",
       "8937219                          [\"English\"]     378.0   \n",
       "8937220                [\"English\",\"Español\"]  467909.0   \n",
       "8937221                          [\"English\"]  615678.0   \n",
       "8937222                          [\"English\"]  583406.0   \n",
       "8937223   [\"Français\",\"Português\",\"English\"]    8619.0   \n",
       "...                                      ...       ...   \n",
       "11076465                         [\"English\"]    8077.0   \n",
       "11076466                     [\"No Language\"]     643.0   \n",
       "11076467        [\"Dansk\",\"Srpski\",\"svenska\"]    2061.0   \n",
       "11076468                 [\"Latin\",\"svenska\"]     614.0   \n",
       "11076469                         [\"English\"]  760104.0   \n",
       "\n",
       "                                         tmdb_link  vote_average  vote_count  \\\n",
       "8937219      https://www.themoviedb.org/movie/378/           7.0      1508.0   \n",
       "8937220   https://www.themoviedb.org/movie/467909/           7.4       360.0   \n",
       "8937221   https://www.themoviedb.org/movie/615678/           5.7       831.0   \n",
       "8937222   https://www.themoviedb.org/movie/583406/           7.5       826.0   \n",
       "8937223     https://www.themoviedb.org/movie/8619/           7.1      2314.0   \n",
       "...                                            ...           ...         ...   \n",
       "11076465    https://www.themoviedb.org/movie/8077/           6.3      4169.0   \n",
       "11076466     https://www.themoviedb.org/movie/643/           7.7       800.0   \n",
       "11076467    https://www.themoviedb.org/movie/2061/           7.0       504.0   \n",
       "11076468     https://www.themoviedb.org/movie/614/           8.2      1149.0   \n",
       "11076469  https://www.themoviedb.org/movie/760104/           7.4        24.0   \n",
       "\n",
       "          year_released  \n",
       "8937219          1987.0  \n",
       "8937220          2021.0  \n",
       "8937221          2021.0  \n",
       "8937222          2021.0  \n",
       "8937223          2003.0  \n",
       "...                 ...  \n",
       "11076465         1992.0  \n",
       "11076466         1925.0  \n",
       "11076467         1996.0  \n",
       "11076468         1957.0  \n",
       "11076469         2022.0  \n",
       "\n",
       "[1561452 rows x 23 columns]"
      ]
     },
     "execution_count": 60,
     "metadata": {},
     "output_type": "execute_result"
    }
   ],
   "source": [
    "df[df['num_ratings_pages'].isna()]"
   ]
  },
  {
   "cell_type": "markdown",
   "id": "966ced90",
   "metadata": {},
   "source": [
    "Let's look at the distribution of the values in this column."
   ]
  },
  {
   "cell_type": "code",
   "execution_count": 61,
   "id": "44ae0a03",
   "metadata": {},
   "outputs": [
    {
     "data": {
      "text/plain": [
       "array([[<AxesSubplot:title={'center':'num_ratings_pages'}>]], dtype=object)"
      ]
     },
     "execution_count": 61,
     "metadata": {},
     "output_type": "execute_result"
    },
    {
     "data": {
      "image/png": "[encoded data removed]",
      "text/plain": [
       "<Figure size 432x288 with 1 Axes>"
      ]
     },
     "metadata": {
      "needs_background": "light"
     },
     "output_type": "display_data"
    }
   ],
   "source": [
    "df.hist('num_ratings_pages', bins=50)"
   ]
  },
  {
   "cell_type": "markdown",
   "id": "7483afcb",
   "metadata": {},
   "source": [
    "The data distribution is skewed and has a right tail. Thus, let's fill in the missing values with the median."
   ]
  },
  {
   "cell_type": "code",
   "execution_count": 62,
   "id": "48c42159",
   "metadata": {},
   "outputs": [
    {
     "data": {
      "text/plain": [
       "(56.19525831336399, 43.0)"
      ]
     },
     "execution_count": 62,
     "metadata": {},
     "output_type": "execute_result"
    }
   ],
   "source": [
    "df['num_ratings_pages'].mean(), df['num_ratings_pages'].median()"
   ]
  },
  {
   "cell_type": "code",
   "execution_count": 63,
   "id": "09b3b06f",
   "metadata": {},
   "outputs": [],
   "source": [
    "df['num_ratings_pages'].fillna(df['num_ratings_pages'].median(), inplace=True)"
   ]
  },
  {
   "cell_type": "markdown",
   "id": "acd93e13",
   "metadata": {},
   "source": [
    "## num_reviews"
   ]
  },
  {
   "cell_type": "code",
   "execution_count": 64,
   "id": "6a325d84",
   "metadata": {},
   "outputs": [
    {
     "data": {
      "text/plain": [
       "0"
      ]
     },
     "execution_count": 64,
     "metadata": {},
     "output_type": "execute_result"
    }
   ],
   "source": [
    "df['num_reviews'].isna().sum()"
   ]
  },
  {
   "cell_type": "markdown",
   "id": "66a09af9",
   "metadata": {},
   "source": [
    "## genres"
   ]
  },
  {
   "cell_type": "code",
   "execution_count": 65,
   "id": "77afe967",
   "metadata": {},
   "outputs": [
    {
     "data": {
      "text/plain": [
       "array(['[\"Animation\",\"Comedy\",\"Drama\",\"Family\"]', '[\"Romance\",\"Drama\"]',\n",
       "       '[\"Comedy\"]', ..., '[\"Drama\",\"History\",\"Mystery\",\"Comedy\"]',\n",
       "       '[\"Family\",\"Romance\",\"Action\"]',\n",
       "       '[\"Crime\",\"Comedy\",\"Family\",\"Mystery\",\"TV Movie\"]'], dtype=object)"
      ]
     },
     "execution_count": 65,
     "metadata": {},
     "output_type": "execute_result"
    }
   ],
   "source": [
    "df['genres'].unique()"
   ]
  },
  {
   "cell_type": "markdown",
   "id": "4ce22c6c",
   "metadata": {},
   "source": [
    "Each row has the genres of the movie in a list. Before we unwrap this, let's first look at the missing values in the column:"
   ]
  },
  {
   "cell_type": "code",
   "execution_count": 66,
   "id": "0055a87c",
   "metadata": {},
   "outputs": [
    {
     "data": {
      "text/plain": [
       "167540"
      ]
     },
     "execution_count": 66,
     "metadata": {},
     "output_type": "execute_result"
    }
   ],
   "source": [
    "df['genres'].isna().sum()"
   ]
  },
  {
   "cell_type": "code",
   "execution_count": 67,
   "id": "0322f76f",
   "metadata": {},
   "outputs": [
    {
     "data": {
      "text/plain": [
       "(10950010, 23)"
      ]
     },
     "execution_count": 67,
     "metadata": {},
     "output_type": "execute_result"
    }
   ],
   "source": [
    "df.shape"
   ]
  },
  {
   "cell_type": "markdown",
   "id": "6e79d29d",
   "metadata": {},
   "source": [
    "This is 1.53% of the dataset. Let's simply delete these rows."
   ]
  },
  {
   "cell_type": "code",
   "execution_count": 68,
   "id": "7633481f",
   "metadata": {},
   "outputs": [],
   "source": [
    "df = df.dropna(subset=['genres'])"
   ]
  },
  {
   "cell_type": "markdown",
   "id": "73a70581",
   "metadata": {},
   "source": [
    "Now, let's unwrap the individual genres for each row."
   ]
  },
  {
   "cell_type": "code",
   "execution_count": 69,
   "id": "d5810b9d",
   "metadata": {},
   "outputs": [],
   "source": [
    "#Separating all the individual genres\n",
    "\n",
    "from ast import literal_eval\n",
    "\n",
    "all_genres = [value for sublist in df['genres'].apply(lambda row: literal_eval(row)) for value in sublist]\n",
    "\n",
    "from collections import Counter\n",
    "\n",
    "result = Counter(all_genres)"
   ]
  },
  {
   "cell_type": "code",
   "execution_count": 70,
   "id": "24be4777",
   "metadata": {},
   "outputs": [
    {
     "data": {
      "text/plain": [
       "Counter({'Animation': 873610,\n",
       "         'Comedy': 3252507,\n",
       "         'Drama': 4720732,\n",
       "         'Family': 1008526,\n",
       "         'Romance': 1398950,\n",
       "         'Fantasy': 1162782,\n",
       "         'History': 399936,\n",
       "         'Science Fiction': 1369560,\n",
       "         'Horror': 1787651,\n",
       "         'Thriller': 2507826,\n",
       "         'Crime': 1481975,\n",
       "         'Mystery': 953630,\n",
       "         'Music': 400484,\n",
       "         'Action': 2145189,\n",
       "         'Adventure': 1686189,\n",
       "         'TV Movie': 139666,\n",
       "         'Documentary': 511964,\n",
       "         'War': 284444,\n",
       "         'Western': 182244})"
      ]
     },
     "execution_count": 70,
     "metadata": {},
     "output_type": "execute_result"
    }
   ],
   "source": [
    "result"
   ]
  },
  {
   "cell_type": "code",
   "execution_count": 71,
   "id": "78345841",
   "metadata": {},
   "outputs": [
    {
     "data": {
      "text/plain": [
       "19"
      ]
     },
     "execution_count": 71,
     "metadata": {},
     "output_type": "execute_result"
    }
   ],
   "source": [
    "len(result)"
   ]
  },
  {
   "cell_type": "markdown",
   "id": "49f46724",
   "metadata": {},
   "source": [
    "So there are a total of 19 genres throughout the dataset. During the pre-processing phase, we will use One Hot Encoding and/or Dummies on this column. "
   ]
  },
  {
   "cell_type": "markdown",
   "id": "3aadc4d5",
   "metadata": {},
   "source": [
    "## imdb_id, imdb_link"
   ]
  },
  {
   "cell_type": "code",
   "execution_count": 72,
   "id": "3ccc10aa",
   "metadata": {},
   "outputs": [
    {
     "data": {
      "text/plain": [
       "85051"
      ]
     },
     "execution_count": 72,
     "metadata": {},
     "output_type": "execute_result"
    }
   ],
   "source": [
    "df['imdb_id'].isna().sum()"
   ]
  },
  {
   "cell_type": "code",
   "execution_count": 73,
   "id": "c6543a18",
   "metadata": {},
   "outputs": [
    {
     "data": {
      "text/plain": [
       "85051"
      ]
     },
     "execution_count": 73,
     "metadata": {},
     "output_type": "execute_result"
    }
   ],
   "source": [
    "df['imdb_link'].isna().sum()"
   ]
  },
  {
   "cell_type": "markdown",
   "id": "55e5b4f7",
   "metadata": {},
   "source": [
    "Let's delete these 85,051 rows."
   ]
  },
  {
   "cell_type": "code",
   "execution_count": 74,
   "id": "96413aad",
   "metadata": {},
   "outputs": [],
   "source": [
    "df = df.dropna(subset=['imdb_link'])"
   ]
  },
  {
   "cell_type": "markdown",
   "id": "15f385c7",
   "metadata": {},
   "source": [
    "## image_url"
   ]
  },
  {
   "cell_type": "code",
   "execution_count": 75,
   "id": "fb51800f",
   "metadata": {},
   "outputs": [
    {
     "data": {
      "text/plain": [
       "19872"
      ]
     },
     "execution_count": 75,
     "metadata": {},
     "output_type": "execute_result"
    }
   ],
   "source": [
    "df['image_url'].isna().sum()"
   ]
  },
  {
   "cell_type": "markdown",
   "id": "c2dfe34d",
   "metadata": {},
   "source": [
    "Maybe some movies in the dataset just don't have an images attached to them."
   ]
  },
  {
   "cell_type": "markdown",
   "id": "eedc87d5",
   "metadata": {},
   "source": [
    "## movie_title"
   ]
  },
  {
   "cell_type": "code",
   "execution_count": 76,
   "id": "071eda4c",
   "metadata": {},
   "outputs": [
    {
     "data": {
      "text/plain": [
       "0"
      ]
     },
     "execution_count": 76,
     "metadata": {},
     "output_type": "execute_result"
    }
   ],
   "source": [
    "df['movie_title'].isna().sum()"
   ]
  },
  {
   "cell_type": "markdown",
   "id": "056957aa",
   "metadata": {},
   "source": [
    "## original_language"
   ]
  },
  {
   "cell_type": "code",
   "execution_count": 77,
   "id": "294e6dbe",
   "metadata": {},
   "outputs": [
    {
     "data": {
      "text/plain": [
       "0"
      ]
     },
     "execution_count": 77,
     "metadata": {},
     "output_type": "execute_result"
    }
   ],
   "source": [
    "df['original_language'].isna().sum()"
   ]
  },
  {
   "cell_type": "markdown",
   "id": "4663bd6f",
   "metadata": {},
   "source": [
    "## overview"
   ]
  },
  {
   "cell_type": "code",
   "execution_count": 78,
   "id": "d2614ccf",
   "metadata": {},
   "outputs": [
    {
     "data": {
      "text/plain": [
       "12863"
      ]
     },
     "execution_count": 78,
     "metadata": {},
     "output_type": "execute_result"
    }
   ],
   "source": [
    "df['overview'].isna().sum()"
   ]
  },
  {
   "cell_type": "markdown",
   "id": "e369900e",
   "metadata": {},
   "source": [
    "Maybe some movies don't provide an overview or summary."
   ]
  },
  {
   "cell_type": "markdown",
   "id": "682e1726",
   "metadata": {},
   "source": [
    "## popularity"
   ]
  },
  {
   "cell_type": "markdown",
   "id": "7892b384",
   "metadata": {},
   "source": [
    "**popularity** is the numeric popularity of a movie."
   ]
  },
  {
   "cell_type": "code",
   "execution_count": 79,
   "id": "32190a12",
   "metadata": {},
   "outputs": [
    {
     "data": {
      "text/plain": [
       "array([[<AxesSubplot:title={'center':'popularity'}>]], dtype=object)"
      ]
     },
     "execution_count": 79,
     "metadata": {},
     "output_type": "execute_result"
    },
    {
     "data": {
      "image/png": "[encoded data removed]",
      "text/plain": [
       "<Figure size 432x288 with 1 Axes>"
      ]
     },
     "metadata": {
      "needs_background": "light"
     },
     "output_type": "display_data"
    }
   ],
   "source": [
    "df.hist('popularity')"
   ]
  },
  {
   "cell_type": "code",
   "execution_count": 80,
   "id": "afb369f8",
   "metadata": {},
   "outputs": [
    {
     "data": {
      "text/plain": [
       "(6023.329,\n",
       " 0.0,\n",
       " 0    0.6\n",
       " Name: popularity, dtype: float64)"
      ]
     },
     "execution_count": 80,
     "metadata": {},
     "output_type": "execute_result"
    }
   ],
   "source": [
    "df['popularity'].max(), df['popularity'].min(), df['popularity'].mode()"
   ]
  },
  {
   "cell_type": "markdown",
   "id": "b04ed03c",
   "metadata": {},
   "source": [
    "Let's look for any missing values."
   ]
  },
  {
   "cell_type": "code",
   "execution_count": 81,
   "id": "f8490cdc",
   "metadata": {},
   "outputs": [
    {
     "data": {
      "text/plain": [
       "0"
      ]
     },
     "execution_count": 81,
     "metadata": {},
     "output_type": "execute_result"
    }
   ],
   "source": [
    "df['popularity'].isna().sum()"
   ]
  },
  {
   "cell_type": "markdown",
   "id": "4c2e0595",
   "metadata": {},
   "source": [
    "## production_countries"
   ]
  },
  {
   "cell_type": "markdown",
   "id": "d6490972",
   "metadata": {},
   "source": [
    "This column, like the genre column, is made of a list of the countries that movies were produced in. Thus, we will deal with it in pre-processing suring the cateogrical variables section.\n",
    "<br><br>\n",
    "Let's look at any misisng values in this column:"
   ]
  },
  {
   "cell_type": "code",
   "execution_count": 82,
   "id": "ef84b738",
   "metadata": {},
   "outputs": [
    {
     "data": {
      "text/plain": [
       "0"
      ]
     },
     "execution_count": 82,
     "metadata": {},
     "output_type": "execute_result"
    }
   ],
   "source": [
    "df['production_countries'].isna().sum()"
   ]
  },
  {
   "cell_type": "markdown",
   "id": "ec6c8e58",
   "metadata": {},
   "source": [
    "## release_date"
   ]
  },
  {
   "cell_type": "markdown",
   "id": "61b8a059",
   "metadata": {},
   "source": [
    "Let's change the type of the column to a datetime column."
   ]
  },
  {
   "cell_type": "code",
   "execution_count": 83,
   "id": "a12e6112",
   "metadata": {},
   "outputs": [],
   "source": [
    "df['release_date'] = pd.to_datetime(df['release_date'])"
   ]
  },
  {
   "cell_type": "markdown",
   "id": "a9b083d1",
   "metadata": {},
   "source": [
    "Now, let's convert the column from a date to number of days since the movie has been released."
   ]
  },
  {
   "cell_type": "code",
   "execution_count": 84,
   "id": "1841c446",
   "metadata": {},
   "outputs": [],
   "source": [
    "df['release_date'] = (pd.Timestamp.today() - df['release_date']).dt.days"
   ]
  },
  {
   "cell_type": "code",
   "execution_count": 85,
   "id": "f918e60b",
   "metadata": {},
   "outputs": [
    {
     "data": {
      "text/html": [
       "<div>\n",
       "<style scoped>\n",
       "    .dataframe tbody tr th:only-of-type {\n",
       "        vertical-align: middle;\n",
       "    }\n",
       "\n",
       "    .dataframe tbody tr th {\n",
       "        vertical-align: top;\n",
       "    }\n",
       "\n",
       "    .dataframe thead th {\n",
       "        text-align: right;\n",
       "    }\n",
       "</style>\n",
       "<table border=\"1\" class=\"dataframe\">\n",
       "  <thead>\n",
       "    <tr style=\"text-align: right;\">\n",
       "      <th></th>\n",
       "      <th>movie_id</th>\n",
       "      <th>rating_val</th>\n",
       "      <th>user_id</th>\n",
       "      <th>display_name</th>\n",
       "      <th>num_ratings_pages</th>\n",
       "      <th>num_reviews</th>\n",
       "      <th>genres</th>\n",
       "      <th>image_url</th>\n",
       "      <th>imdb_id</th>\n",
       "      <th>imdb_link</th>\n",
       "      <th>movie_title</th>\n",
       "      <th>original_language</th>\n",
       "      <th>overview</th>\n",
       "      <th>popularity</th>\n",
       "      <th>production_countries</th>\n",
       "      <th>release_date</th>\n",
       "      <th>runtime</th>\n",
       "      <th>spoken_languages</th>\n",
       "      <th>tmdb_id</th>\n",
       "      <th>tmdb_link</th>\n",
       "      <th>vote_average</th>\n",
       "      <th>vote_count</th>\n",
       "      <th>year_released</th>\n",
       "    </tr>\n",
       "  </thead>\n",
       "  <tbody>\n",
       "    <tr>\n",
       "      <th>0</th>\n",
       "      <td>feast-2014</td>\n",
       "      <td>7</td>\n",
       "      <td>deathproof</td>\n",
       "      <td>Lucy</td>\n",
       "      <td>32.0</td>\n",
       "      <td>1650.0</td>\n",
       "      <td>[\"Animation\",\"Comedy\",\"Drama\",\"Family\"]</td>\n",
       "      <td>film-poster/2/2/0/1/9/2/220192-feast-0-230-0-3...</td>\n",
       "      <td>tt3689498</td>\n",
       "      <td>http://www.imdb.com/title/tt3689498/maindetails</td>\n",
       "      <td>Feast</td>\n",
       "      <td>en</td>\n",
       "      <td>This Oscar-winning animated short film tells t...</td>\n",
       "      <td>9.26</td>\n",
       "      <td>[\"United States of America\"]</td>\n",
       "      <td>2873.0</td>\n",
       "      <td>6.0</td>\n",
       "      <td>[\"English\"]</td>\n",
       "      <td>293299.0</td>\n",
       "      <td>https://www.themoviedb.org/movie/293299/</td>\n",
       "      <td>7.9</td>\n",
       "      <td>720.0</td>\n",
       "      <td>2014.0</td>\n",
       "    </tr>\n",
       "  </tbody>\n",
       "</table>\n",
       "</div>"
      ],
      "text/plain": [
       "     movie_id  rating_val     user_id display_name  num_ratings_pages  \\\n",
       "0  feast-2014           7  deathproof         Lucy               32.0   \n",
       "\n",
       "   num_reviews                                   genres  \\\n",
       "0       1650.0  [\"Animation\",\"Comedy\",\"Drama\",\"Family\"]   \n",
       "\n",
       "                                           image_url    imdb_id  \\\n",
       "0  film-poster/2/2/0/1/9/2/220192-feast-0-230-0-3...  tt3689498   \n",
       "\n",
       "                                         imdb_link movie_title  \\\n",
       "0  http://www.imdb.com/title/tt3689498/maindetails       Feast   \n",
       "\n",
       "  original_language                                           overview  \\\n",
       "0                en  This Oscar-winning animated short film tells t...   \n",
       "\n",
       "   popularity          production_countries  release_date  runtime  \\\n",
       "0        9.26  [\"United States of America\"]        2873.0      6.0   \n",
       "\n",
       "  spoken_languages   tmdb_id                                 tmdb_link  \\\n",
       "0      [\"English\"]  293299.0  https://www.themoviedb.org/movie/293299/   \n",
       "\n",
       "   vote_average  vote_count  year_released  \n",
       "0           7.9       720.0         2014.0  "
      ]
     },
     "execution_count": 85,
     "metadata": {},
     "output_type": "execute_result"
    }
   ],
   "source": [
    "df.head(1)"
   ]
  },
  {
   "cell_type": "markdown",
   "id": "71a88ad4",
   "metadata": {},
   "source": [
    "Now, let's look for missing values."
   ]
  },
  {
   "cell_type": "code",
   "execution_count": 86,
   "id": "2f49fd97",
   "metadata": {},
   "outputs": [
    {
     "data": {
      "text/plain": [
       "3575"
      ]
     },
     "execution_count": 86,
     "metadata": {},
     "output_type": "execute_result"
    }
   ],
   "source": [
    "df['release_date'].isna().sum()"
   ]
  },
  {
   "cell_type": "code",
   "execution_count": 87,
   "id": "54d4916c",
   "metadata": {},
   "outputs": [
    {
     "data": {
      "text/plain": [
       "1498"
      ]
     },
     "execution_count": 87,
     "metadata": {},
     "output_type": "execute_result"
    }
   ],
   "source": [
    "len(df[df['release_date'].isna()]['movie_title'].unique())"
   ]
  },
  {
   "cell_type": "markdown",
   "id": "f2fd28db",
   "metadata": {},
   "source": [
    "This tells us that there are 1,498 movies without a release date provided. "
   ]
  },
  {
   "cell_type": "markdown",
   "id": "93ab4dcb",
   "metadata": {},
   "source": [
    "## runtime"
   ]
  },
  {
   "cell_type": "code",
   "execution_count": 88,
   "id": "b7171548",
   "metadata": {},
   "outputs": [
    {
     "data": {
      "text/plain": [
       "4387"
      ]
     },
     "execution_count": 88,
     "metadata": {},
     "output_type": "execute_result"
    }
   ],
   "source": [
    "df['runtime'].isna().sum()"
   ]
  },
  {
   "cell_type": "code",
   "execution_count": 89,
   "id": "00730c13",
   "metadata": {},
   "outputs": [
    {
     "data": {
      "text/plain": [
       "3239"
      ]
     },
     "execution_count": 89,
     "metadata": {},
     "output_type": "execute_result"
    }
   ],
   "source": [
    "len(df[df['runtime'].isna()]['movie_title'].unique())"
   ]
  },
  {
   "cell_type": "markdown",
   "id": "394d841e",
   "metadata": {},
   "source": [
    "This tells us that there are 3,239 movies without a runtime provided. "
   ]
  },
  {
   "cell_type": "markdown",
   "id": "bd9b4cfb",
   "metadata": {},
   "source": [
    "# spoken_languages"
   ]
  },
  {
   "cell_type": "markdown",
   "id": "4d6bacf2",
   "metadata": {},
   "source": [
    "This column, also like **genres** and **production_countries**, is in a list format."
   ]
  },
  {
   "cell_type": "code",
   "execution_count": 90,
   "id": "5927bb43",
   "metadata": {},
   "outputs": [
    {
     "data": {
      "text/plain": [
       "0"
      ]
     },
     "execution_count": 90,
     "metadata": {},
     "output_type": "execute_result"
    }
   ],
   "source": [
    "df['spoken_languages'].isna().sum()"
   ]
  },
  {
   "cell_type": "markdown",
   "id": "6d4b34bc",
   "metadata": {},
   "source": [
    "## tmdb_id, tmdb_link"
   ]
  },
  {
   "cell_type": "code",
   "execution_count": 91,
   "id": "0fa12d13",
   "metadata": {},
   "outputs": [
    {
     "data": {
      "text/plain": [
       "0"
      ]
     },
     "execution_count": 91,
     "metadata": {},
     "output_type": "execute_result"
    }
   ],
   "source": [
    "df['tmdb_id'].isna().sum()"
   ]
  },
  {
   "cell_type": "code",
   "execution_count": 92,
   "id": "d4fdf65b",
   "metadata": {},
   "outputs": [
    {
     "data": {
      "text/plain": [
       "0"
      ]
     },
     "execution_count": 92,
     "metadata": {},
     "output_type": "execute_result"
    }
   ],
   "source": [
    "df['tmdb_link'].isna().sum()"
   ]
  },
  {
   "cell_type": "markdown",
   "id": "069834a4",
   "metadata": {},
   "source": [
    "## vote_average"
   ]
  },
  {
   "cell_type": "code",
   "execution_count": 93,
   "id": "5f3988b8",
   "metadata": {},
   "outputs": [
    {
     "data": {
      "text/plain": [
       "0"
      ]
     },
     "execution_count": 93,
     "metadata": {},
     "output_type": "execute_result"
    }
   ],
   "source": [
    "df['vote_average'].isna().sum()"
   ]
  },
  {
   "cell_type": "code",
   "execution_count": 94,
   "id": "383f100a",
   "metadata": {},
   "outputs": [
    {
     "data": {
      "text/plain": [
       "array([ 7.9,  6.7,  6.8,  6. ,  6.9,  5.6,  7.3,  7.5,  6.4,  6.5,  6.6,\n",
       "        5.1,  5.3,  7.2,  7.1,  7.6,  6.1,  4.9,  7. ,  7.4,  5.9,  6.3,\n",
       "        5.5,  5.4,  5.7,  5.8,  8.1,  7.7,  4.4,  6.2,  8. ,  7.8,  5.2,\n",
       "        8.6,  8.3,  8.2,  4. ,  5. ,  8.4,  4.7,  4.8,  4.5,  8.7,  2.9,\n",
       "        4.2,  3.5,  4.1,  3.9,  8.5,  4.3,  0. , 10. ,  3.8,  4.6,  3.7,\n",
       "        2.7,  3.4,  3.6,  3. ,  2. ,  3.3,  8.9,  3.1,  2.8,  1.8,  1. ,\n",
       "        1.5,  2.5,  2.6,  1.6,  8.8,  3.2,  2.1,  9. ,  2.3,  2.4,  9.3,\n",
       "        9.5,  9.7,  1.7,  1.9,  1.1,  9.2,  0.5,  9.1,  2.2,  1.3,  1.4,\n",
       "        1.2,  9.8,  0.9,  9.4,  0.8,  9.9,  9.6])"
      ]
     },
     "execution_count": 94,
     "metadata": {},
     "output_type": "execute_result"
    }
   ],
   "source": [
    "df['vote_average'].unique()"
   ]
  },
  {
   "cell_type": "markdown",
   "id": "946f05ab",
   "metadata": {},
   "source": [
    "All the values are between 0 and 10, inclusive."
   ]
  },
  {
   "cell_type": "code",
   "execution_count": 95,
   "id": "565df31b",
   "metadata": {},
   "outputs": [
    {
     "data": {
      "text/plain": [
       "array([[<AxesSubplot:title={'center':'vote_average'}>]], dtype=object)"
      ]
     },
     "execution_count": 95,
     "metadata": {},
     "output_type": "execute_result"
    },
    {
     "data": {
      "image/png": "[encoded data removed]",
      "text/plain": [
       "<Figure size 432x288 with 1 Axes>"
      ]
     },
     "metadata": {
      "needs_background": "light"
     },
     "output_type": "display_data"
    }
   ],
   "source": [
    "df.hist('vote_average')"
   ]
  },
  {
   "cell_type": "markdown",
   "id": "e694b01a",
   "metadata": {},
   "source": [
    "## vote_count"
   ]
  },
  {
   "cell_type": "code",
   "execution_count": 96,
   "id": "fcecb030",
   "metadata": {},
   "outputs": [
    {
     "data": {
      "text/plain": [
       "0"
      ]
     },
     "execution_count": 96,
     "metadata": {},
     "output_type": "execute_result"
    }
   ],
   "source": [
    "df['vote_count'].isna().sum()"
   ]
  },
  {
   "cell_type": "markdown",
   "id": "d988541d",
   "metadata": {},
   "source": [
    "## year_released"
   ]
  },
  {
   "cell_type": "code",
   "execution_count": 97,
   "id": "7f2a2fce",
   "metadata": {},
   "outputs": [
    {
     "data": {
      "text/plain": [
       "3380"
      ]
     },
     "execution_count": 97,
     "metadata": {},
     "output_type": "execute_result"
    }
   ],
   "source": [
    "df['year_released'].isna().sum()"
   ]
  },
  {
   "cell_type": "markdown",
   "id": "0fbe6556",
   "metadata": {},
   "source": [
    "Let's keep in mind that the number of missing values in **release_date** are more than the number of missing values in **year_released**. This will be useful information during the pre-processing phase."
   ]
  },
  {
   "cell_type": "markdown",
   "id": "c50258ef",
   "metadata": {},
   "source": [
    "# Final Look at Dataset"
   ]
  },
  {
   "cell_type": "code",
   "execution_count": 98,
   "id": "f669c99b",
   "metadata": {},
   "outputs": [
    {
     "data": {
      "text/html": [
       "<div>\n",
       "<style scoped>\n",
       "    .dataframe tbody tr th:only-of-type {\n",
       "        vertical-align: middle;\n",
       "    }\n",
       "\n",
       "    .dataframe tbody tr th {\n",
       "        vertical-align: top;\n",
       "    }\n",
       "\n",
       "    .dataframe thead th {\n",
       "        text-align: right;\n",
       "    }\n",
       "</style>\n",
       "<table border=\"1\" class=\"dataframe\">\n",
       "  <thead>\n",
       "    <tr style=\"text-align: right;\">\n",
       "      <th></th>\n",
       "      <th>movie_id</th>\n",
       "      <th>rating_val</th>\n",
       "      <th>user_id</th>\n",
       "      <th>display_name</th>\n",
       "      <th>num_ratings_pages</th>\n",
       "      <th>num_reviews</th>\n",
       "      <th>genres</th>\n",
       "      <th>image_url</th>\n",
       "      <th>imdb_id</th>\n",
       "      <th>imdb_link</th>\n",
       "      <th>movie_title</th>\n",
       "      <th>original_language</th>\n",
       "      <th>overview</th>\n",
       "      <th>popularity</th>\n",
       "      <th>production_countries</th>\n",
       "      <th>release_date</th>\n",
       "      <th>runtime</th>\n",
       "      <th>spoken_languages</th>\n",
       "      <th>tmdb_id</th>\n",
       "      <th>tmdb_link</th>\n",
       "      <th>vote_average</th>\n",
       "      <th>vote_count</th>\n",
       "      <th>year_released</th>\n",
       "    </tr>\n",
       "  </thead>\n",
       "  <tbody>\n",
       "    <tr>\n",
       "      <th>0</th>\n",
       "      <td>feast-2014</td>\n",
       "      <td>7</td>\n",
       "      <td>deathproof</td>\n",
       "      <td>Lucy</td>\n",
       "      <td>32.0</td>\n",
       "      <td>1650.0</td>\n",
       "      <td>[\"Animation\",\"Comedy\",\"Drama\",\"Family\"]</td>\n",
       "      <td>film-poster/2/2/0/1/9/2/220192-feast-0-230-0-3...</td>\n",
       "      <td>tt3689498</td>\n",
       "      <td>http://www.imdb.com/title/tt3689498/maindetails</td>\n",
       "      <td>Feast</td>\n",
       "      <td>en</td>\n",
       "      <td>This Oscar-winning animated short film tells t...</td>\n",
       "      <td>9.260</td>\n",
       "      <td>[\"United States of America\"]</td>\n",
       "      <td>2873.0</td>\n",
       "      <td>6.0</td>\n",
       "      <td>[\"English\"]</td>\n",
       "      <td>293299.0</td>\n",
       "      <td>https://www.themoviedb.org/movie/293299/</td>\n",
       "      <td>7.9</td>\n",
       "      <td>720.0</td>\n",
       "      <td>2014.0</td>\n",
       "    </tr>\n",
       "    <tr>\n",
       "      <th>1</th>\n",
       "      <td>loving-2016</td>\n",
       "      <td>7</td>\n",
       "      <td>deathproof</td>\n",
       "      <td>Lucy</td>\n",
       "      <td>32.0</td>\n",
       "      <td>1650.0</td>\n",
       "      <td>[\"Romance\",\"Drama\"]</td>\n",
       "      <td>sm/upload/yp/k3/5v/2p/wzi191DNSs08gDQHHUxYwlxC...</td>\n",
       "      <td>tt4669986</td>\n",
       "      <td>http://www.imdb.com/title/tt4669986/maindetails</td>\n",
       "      <td>Loving</td>\n",
       "      <td>en</td>\n",
       "      <td>The story of Richard and Mildred Loving, an in...</td>\n",
       "      <td>18.024</td>\n",
       "      <td>[\"United Kingdom\",\"United States of America\"]</td>\n",
       "      <td>2132.0</td>\n",
       "      <td>123.0</td>\n",
       "      <td>[\"English\"]</td>\n",
       "      <td>339419.0</td>\n",
       "      <td>https://www.themoviedb.org/movie/339419/</td>\n",
       "      <td>6.7</td>\n",
       "      <td>759.0</td>\n",
       "      <td>2016.0</td>\n",
       "    </tr>\n",
       "    <tr>\n",
       "      <th>2</th>\n",
       "      <td>scripted-content</td>\n",
       "      <td>7</td>\n",
       "      <td>deathproof</td>\n",
       "      <td>Lucy</td>\n",
       "      <td>32.0</td>\n",
       "      <td>1650.0</td>\n",
       "      <td>[\"Comedy\"]</td>\n",
       "      <td>film-poster/2/7/2/9/1/1/272911-scripted-conten...</td>\n",
       "      <td>tt4073494</td>\n",
       "      <td>http://www.imdb.com/title/tt4073494/maindetails</td>\n",
       "      <td>Scripted Content</td>\n",
       "      <td>en</td>\n",
       "      <td>A very short film for Vogue starring Jessica C...</td>\n",
       "      <td>1.400</td>\n",
       "      <td>[\"United States of America\"]</td>\n",
       "      <td>3019.0</td>\n",
       "      <td>2.0</td>\n",
       "      <td>[]</td>\n",
       "      <td>342914.0</td>\n",
       "      <td>https://www.themoviedb.org/movie/342914/</td>\n",
       "      <td>6.8</td>\n",
       "      <td>5.0</td>\n",
       "      <td>2014.0</td>\n",
       "    </tr>\n",
       "  </tbody>\n",
       "</table>\n",
       "</div>"
      ],
      "text/plain": [
       "           movie_id  rating_val     user_id display_name  num_ratings_pages  \\\n",
       "0        feast-2014           7  deathproof         Lucy               32.0   \n",
       "1       loving-2016           7  deathproof         Lucy               32.0   \n",
       "2  scripted-content           7  deathproof         Lucy               32.0   \n",
       "\n",
       "   num_reviews                                   genres  \\\n",
       "0       1650.0  [\"Animation\",\"Comedy\",\"Drama\",\"Family\"]   \n",
       "1       1650.0                      [\"Romance\",\"Drama\"]   \n",
       "2       1650.0                               [\"Comedy\"]   \n",
       "\n",
       "                                           image_url    imdb_id  \\\n",
       "0  film-poster/2/2/0/1/9/2/220192-feast-0-230-0-3...  tt3689498   \n",
       "1  sm/upload/yp/k3/5v/2p/wzi191DNSs08gDQHHUxYwlxC...  tt4669986   \n",
       "2  film-poster/2/7/2/9/1/1/272911-scripted-conten...  tt4073494   \n",
       "\n",
       "                                         imdb_link       movie_title  \\\n",
       "0  http://www.imdb.com/title/tt3689498/maindetails             Feast   \n",
       "1  http://www.imdb.com/title/tt4669986/maindetails            Loving   \n",
       "2  http://www.imdb.com/title/tt4073494/maindetails  Scripted Content   \n",
       "\n",
       "  original_language                                           overview  \\\n",
       "0                en  This Oscar-winning animated short film tells t...   \n",
       "1                en  The story of Richard and Mildred Loving, an in...   \n",
       "2                en  A very short film for Vogue starring Jessica C...   \n",
       "\n",
       "   popularity                           production_countries  release_date  \\\n",
       "0       9.260                   [\"United States of America\"]        2873.0   \n",
       "1      18.024  [\"United Kingdom\",\"United States of America\"]        2132.0   \n",
       "2       1.400                   [\"United States of America\"]        3019.0   \n",
       "\n",
       "   runtime spoken_languages   tmdb_id  \\\n",
       "0      6.0      [\"English\"]  293299.0   \n",
       "1    123.0      [\"English\"]  339419.0   \n",
       "2      2.0               []  342914.0   \n",
       "\n",
       "                                  tmdb_link  vote_average  vote_count  \\\n",
       "0  https://www.themoviedb.org/movie/293299/           7.9       720.0   \n",
       "1  https://www.themoviedb.org/movie/339419/           6.7       759.0   \n",
       "2  https://www.themoviedb.org/movie/342914/           6.8         5.0   \n",
       "\n",
       "   year_released  \n",
       "0         2014.0  \n",
       "1         2016.0  \n",
       "2         2014.0  "
      ]
     },
     "execution_count": 98,
     "metadata": {},
     "output_type": "execute_result"
    }
   ],
   "source": [
    "df.head(3)"
   ]
  },
  {
   "cell_type": "code",
   "execution_count": 99,
   "id": "f5b65d8f",
   "metadata": {},
   "outputs": [
    {
     "name": "stdout",
     "output_type": "stream",
     "text": [
      "<class 'pandas.core.frame.DataFrame'>\n",
      "Int64Index: 10697419 entries, 0 to 11076469\n",
      "Data columns (total 23 columns):\n",
      " #   Column                Dtype  \n",
      "---  ------                -----  \n",
      " 0   movie_id              object \n",
      " 1   rating_val            int64  \n",
      " 2   user_id               object \n",
      " 3   display_name          object \n",
      " 4   num_ratings_pages     float64\n",
      " 5   num_reviews           float64\n",
      " 6   genres                object \n",
      " 7   image_url             object \n",
      " 8   imdb_id               object \n",
      " 9   imdb_link             object \n",
      " 10  movie_title           object \n",
      " 11  original_language     object \n",
      " 12  overview              object \n",
      " 13  popularity            float64\n",
      " 14  production_countries  object \n",
      " 15  release_date          float64\n",
      " 16  runtime               float64\n",
      " 17  spoken_languages      object \n",
      " 18  tmdb_id               float64\n",
      " 19  tmdb_link             object \n",
      " 20  vote_average          float64\n",
      " 21  vote_count            float64\n",
      " 22  year_released         float64\n",
      "dtypes: float64(9), int64(1), object(13)\n",
      "memory usage: 1.9+ GB\n"
     ]
    }
   ],
   "source": [
    "df.info()"
   ]
  },
  {
   "cell_type": "code",
   "execution_count": 100,
   "id": "7b4b65ff",
   "metadata": {},
   "outputs": [
    {
     "data": {
      "text/plain": [
       "(10697419, 23)"
      ]
     },
     "execution_count": 100,
     "metadata": {},
     "output_type": "execute_result"
    }
   ],
   "source": [
    "df.shape"
   ]
  },
  {
   "cell_type": "code",
   "execution_count": 101,
   "id": "1d78104d",
   "metadata": {},
   "outputs": [],
   "source": [
    "#saving dataset\n",
    "df.to_csv('C:\\\\Users\\\\cssv9\\\\Desktop\\\\SB DS\\\\Capstone3\\\\df.csv')"
   ]
  }
 ],
 "metadata": {
  "kernelspec": {
   "display_name": "Python 3 (ipykernel)",
   "language": "python",
   "name": "python3"
  },
  "language_info": {
   "codemirror_mode": {
    "name": "ipython",
    "version": 3
   },
   "file_extension": ".py",
   "mimetype": "text/x-python",
   "name": "python",
   "nbconvert_exporter": "python",
   "pygments_lexer": "ipython3",
   "version": "3.8.13"
  }
 },
 "nbformat": 4,
 "nbformat_minor": 5
}
