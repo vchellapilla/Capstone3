{
  "nbformat": 4,
  "nbformat_minor": 0,
  "metadata": {
    "colab": {
      "provenance": [],
      "collapsed_sections": [
        "4Kddx3I9S-6Y",
        "FuzvUNxYTCG-"
      ],
      "machine_shape": "hm",
      "authorship_tag": "ABX9TyP3J+F0jrv2U3FtdHnZAqtv",
      "include_colab_link": true
    },
    "kernelspec": {
      "name": "python3",
      "display_name": "Python 3"
    },
    "language_info": {
      "name": "python"
    },
    "gpuClass": "standard"
  },
  "cells": [
    {
      "cell_type": "markdown",
      "metadata": {
        "id": "view-in-github",
        "colab_type": "text"
      },
      "source": [
        "<a href=\"https://colab.research.google.com/github/vchellapilla/Capstone3/blob/main/C3_EDA.ipynb\" target=\"_parent\"><img src=\"https://colab.research.google.com/assets/colab-badge.svg\" alt=\"Open In Colab\"/></a>"
      ]
    },
    {
      "cell_type": "markdown",
      "source": [
        "# Capstone 3: Exploratory Data Analysis"
      ],
      "metadata": {
        "id": "tW-xS-4BNWLL"
      }
    },
    {
      "cell_type": "markdown",
      "source": [
        "## Imports"
      ],
      "metadata": {
        "id": "5MyjuhRXNk9D"
      }
    },
    {
      "cell_type": "markdown",
      "source": [
        "Import packages."
      ],
      "metadata": {
        "id": "TQgOFz6QNn0y"
      }
    },
    {
      "cell_type": "code",
      "source": [
        "import pandas as pd\n",
        "import numpy as np\n",
        "import missingno as msno\n",
        "import matplotlib.pyplot as plt\n",
        "import seaborn as sns\n",
        "import datetime\n",
        "import os\n",
        "import scipy.stats as stats"
      ],
      "metadata": {
        "id": "O40Zw5f0NSzF"
      },
      "execution_count": 1,
      "outputs": []
    },
    {
      "cell_type": "markdown",
      "source": [
        "Import dataset."
      ],
      "metadata": {
        "id": "GrD6erA5ZGoF"
      }
    },
    {
      "cell_type": "code",
      "source": [
        "from google.colab import drive\n",
        "\n",
        "drive.mount('/content/drive')"
      ],
      "metadata": {
        "colab": {
          "base_uri": "https://localhost:8080/"
        },
        "id": "3WlFylnfNvMW",
        "outputId": "74d6069e-f5a8-4d0b-9bcd-bad2a08c0850"
      },
      "execution_count": 2,
      "outputs": [
        {
          "output_type": "stream",
          "name": "stdout",
          "text": [
            "Drive already mounted at /content/drive; to attempt to forcibly remount, call drive.mount(\"/content/drive\", force_remount=True).\n"
          ]
        }
      ]
    },
    {
      "cell_type": "code",
      "source": [
        "!ls -l /content/drive/MyDrive/Colab\\ Notebooks/Capstone\\ 3/df.csv\n"
      ],
      "metadata": {
        "colab": {
          "base_uri": "https://localhost:8080/"
        },
        "id": "JrDuxOykXMBz",
        "outputId": "fa9aba5f-e183-451b-c885-720406707ede"
      },
      "execution_count": 3,
      "outputs": [
        {
          "output_type": "stream",
          "name": "stdout",
          "text": [
            "-rw------- 1 root root 7023793934 Sep 12 15:27 '/content/drive/MyDrive/Colab Notebooks/Capstone 3/df.csv'\n"
          ]
        }
      ]
    },
    {
      "cell_type": "code",
      "source": [
        "path = '/content/drive/MyDrive/Colab Notebooks/Capstone 3/df.csv'\n",
        "df = pd.read_csv(path)"
      ],
      "metadata": {
        "id": "_ETekBQhSFfq"
      },
      "execution_count": 4,
      "outputs": []
    },
    {
      "cell_type": "markdown",
      "source": [
        "# Initial Look at Cleaned Dataset"
      ],
      "metadata": {
        "id": "4hDfYlNwHGya"
      }
    },
    {
      "cell_type": "markdown",
      "source": [
        "Let's take a look at the cleaned dataset at hand."
      ],
      "metadata": {
        "id": "Gp-gEYMbZMZa"
      }
    },
    {
      "cell_type": "code",
      "source": [
        "pd.set_option('display.max_columns', None)\n"
      ],
      "metadata": {
        "id": "gW273dCjdk3F"
      },
      "execution_count": 5,
      "outputs": []
    },
    {
      "cell_type": "code",
      "source": [
        "df.head()"
      ],
      "metadata": {
        "colab": {
          "base_uri": "https://localhost:8080/",
          "height": 670
        },
        "id": "uwZEh8DgZC6U",
        "outputId": "448eacec-be73-454f-9798-7a06b600b150"
      },
      "execution_count": 6,
      "outputs": [
        {
          "output_type": "execute_result",
          "data": {
            "text/plain": [
              "   Unnamed: 0          movie_id  rating_val     user_id display_name  \\\n",
              "0           0        feast-2014           7  deathproof         Lucy   \n",
              "1           1       loving-2016           7  deathproof         Lucy   \n",
              "2           2  scripted-content           7  deathproof         Lucy   \n",
              "3           3        the-future           4  deathproof         Lucy   \n",
              "4           4              mank           5  deathproof         Lucy   \n",
              "\n",
              "   num_ratings_pages  num_reviews                                   genres  \\\n",
              "0               32.0       1650.0  [\"Animation\",\"Comedy\",\"Drama\",\"Family\"]   \n",
              "1               32.0       1650.0                      [\"Romance\",\"Drama\"]   \n",
              "2               32.0       1650.0                               [\"Comedy\"]   \n",
              "3               32.0       1650.0            [\"Drama\",\"Fantasy\",\"Romance\"]   \n",
              "4               32.0       1650.0                      [\"Drama\",\"History\"]   \n",
              "\n",
              "                                           image_url     imdb_id  \\\n",
              "0  film-poster/2/2/0/1/9/2/220192-feast-0-230-0-3...   tt3689498   \n",
              "1  sm/upload/yp/k3/5v/2p/wzi191DNSs08gDQHHUxYwlxC...   tt4669986   \n",
              "2  film-poster/2/7/2/9/1/1/272911-scripted-conten...   tt4073494   \n",
              "3  film-poster/1/1/4/3/2/11432-the-future-0-230-0...   tt1235170   \n",
              "4  film-poster/5/4/1/4/2/5/541425-mank-0-230-0-34...  tt10618286   \n",
              "\n",
              "                                          imdb_link       movie_title  \\\n",
              "0   http://www.imdb.com/title/tt3689498/maindetails             Feast   \n",
              "1   http://www.imdb.com/title/tt4669986/maindetails            Loving   \n",
              "2   http://www.imdb.com/title/tt4073494/maindetails  Scripted Content   \n",
              "3   http://www.imdb.com/title/tt1235170/maindetails        The Future   \n",
              "4  http://www.imdb.com/title/tt10618286/maindetails              Mank   \n",
              "\n",
              "  original_language                                           overview  \\\n",
              "0                en  This Oscar-winning animated short film tells t...   \n",
              "1                en  The story of Richard and Mildred Loving, an in...   \n",
              "2                en  A very short film for Vogue starring Jessica C...   \n",
              "3                en  When a couple decides to adopt a stray cat the...   \n",
              "4                en  1930s Hollywood is reevaluated through the eye...   \n",
              "\n",
              "   popularity                               production_countries  \\\n",
              "0       9.260                       [\"United States of America\"]   \n",
              "1      18.024      [\"United Kingdom\",\"United States of America\"]   \n",
              "2       1.400                       [\"United States of America\"]   \n",
              "3       5.208  [\"Germany\",\"United States of America\",\"France\"...   \n",
              "4      16.331                       [\"United States of America\"]   \n",
              "\n",
              "   release_date  runtime spoken_languages   tmdb_id  \\\n",
              "0        2879.0      6.0      [\"English\"]  293299.0   \n",
              "1        2138.0    123.0      [\"English\"]  339419.0   \n",
              "2        3025.0      2.0               []  342914.0   \n",
              "3        4063.0     91.0      [\"English\"]   54662.0   \n",
              "4         668.0    132.0      [\"English\"]  614560.0   \n",
              "\n",
              "                                  tmdb_link  vote_average  vote_count  \\\n",
              "0  https://www.themoviedb.org/movie/293299/           7.9       720.0   \n",
              "1  https://www.themoviedb.org/movie/339419/           6.7       759.0   \n",
              "2  https://www.themoviedb.org/movie/342914/           6.8         5.0   \n",
              "3   https://www.themoviedb.org/movie/54662/           6.0        60.0   \n",
              "4  https://www.themoviedb.org/movie/614560/           6.9      1077.0   \n",
              "\n",
              "   year_released  \n",
              "0         2014.0  \n",
              "1         2016.0  \n",
              "2         2014.0  \n",
              "3         2011.0  \n",
              "4         2020.0  "
            ],
            "text/html": [
              "\n",
              "  <div id=\"df-eea7a8e5-22da-494b-8978-1904dc36dba0\">\n",
              "    <div class=\"colab-df-container\">\n",
              "      <div>\n",
              "<style scoped>\n",
              "    .dataframe tbody tr th:only-of-type {\n",
              "        vertical-align: middle;\n",
              "    }\n",
              "\n",
              "    .dataframe tbody tr th {\n",
              "        vertical-align: top;\n",
              "    }\n",
              "\n",
              "    .dataframe thead th {\n",
              "        text-align: right;\n",
              "    }\n",
              "</style>\n",
              "<table border=\"1\" class=\"dataframe\">\n",
              "  <thead>\n",
              "    <tr style=\"text-align: right;\">\n",
              "      <th></th>\n",
              "      <th>Unnamed: 0</th>\n",
              "      <th>movie_id</th>\n",
              "      <th>rating_val</th>\n",
              "      <th>user_id</th>\n",
              "      <th>display_name</th>\n",
              "      <th>num_ratings_pages</th>\n",
              "      <th>num_reviews</th>\n",
              "      <th>genres</th>\n",
              "      <th>image_url</th>\n",
              "      <th>imdb_id</th>\n",
              "      <th>imdb_link</th>\n",
              "      <th>movie_title</th>\n",
              "      <th>original_language</th>\n",
              "      <th>overview</th>\n",
              "      <th>popularity</th>\n",
              "      <th>production_countries</th>\n",
              "      <th>release_date</th>\n",
              "      <th>runtime</th>\n",
              "      <th>spoken_languages</th>\n",
              "      <th>tmdb_id</th>\n",
              "      <th>tmdb_link</th>\n",
              "      <th>vote_average</th>\n",
              "      <th>vote_count</th>\n",
              "      <th>year_released</th>\n",
              "    </tr>\n",
              "  </thead>\n",
              "  <tbody>\n",
              "    <tr>\n",
              "      <th>0</th>\n",
              "      <td>0</td>\n",
              "      <td>feast-2014</td>\n",
              "      <td>7</td>\n",
              "      <td>deathproof</td>\n",
              "      <td>Lucy</td>\n",
              "      <td>32.0</td>\n",
              "      <td>1650.0</td>\n",
              "      <td>[\"Animation\",\"Comedy\",\"Drama\",\"Family\"]</td>\n",
              "      <td>film-poster/2/2/0/1/9/2/220192-feast-0-230-0-3...</td>\n",
              "      <td>tt3689498</td>\n",
              "      <td>http://www.imdb.com/title/tt3689498/maindetails</td>\n",
              "      <td>Feast</td>\n",
              "      <td>en</td>\n",
              "      <td>This Oscar-winning animated short film tells t...</td>\n",
              "      <td>9.260</td>\n",
              "      <td>[\"United States of America\"]</td>\n",
              "      <td>2879.0</td>\n",
              "      <td>6.0</td>\n",
              "      <td>[\"English\"]</td>\n",
              "      <td>293299.0</td>\n",
              "      <td>https://www.themoviedb.org/movie/293299/</td>\n",
              "      <td>7.9</td>\n",
              "      <td>720.0</td>\n",
              "      <td>2014.0</td>\n",
              "    </tr>\n",
              "    <tr>\n",
              "      <th>1</th>\n",
              "      <td>1</td>\n",
              "      <td>loving-2016</td>\n",
              "      <td>7</td>\n",
              "      <td>deathproof</td>\n",
              "      <td>Lucy</td>\n",
              "      <td>32.0</td>\n",
              "      <td>1650.0</td>\n",
              "      <td>[\"Romance\",\"Drama\"]</td>\n",
              "      <td>sm/upload/yp/k3/5v/2p/wzi191DNSs08gDQHHUxYwlxC...</td>\n",
              "      <td>tt4669986</td>\n",
              "      <td>http://www.imdb.com/title/tt4669986/maindetails</td>\n",
              "      <td>Loving</td>\n",
              "      <td>en</td>\n",
              "      <td>The story of Richard and Mildred Loving, an in...</td>\n",
              "      <td>18.024</td>\n",
              "      <td>[\"United Kingdom\",\"United States of America\"]</td>\n",
              "      <td>2138.0</td>\n",
              "      <td>123.0</td>\n",
              "      <td>[\"English\"]</td>\n",
              "      <td>339419.0</td>\n",
              "      <td>https://www.themoviedb.org/movie/339419/</td>\n",
              "      <td>6.7</td>\n",
              "      <td>759.0</td>\n",
              "      <td>2016.0</td>\n",
              "    </tr>\n",
              "    <tr>\n",
              "      <th>2</th>\n",
              "      <td>2</td>\n",
              "      <td>scripted-content</td>\n",
              "      <td>7</td>\n",
              "      <td>deathproof</td>\n",
              "      <td>Lucy</td>\n",
              "      <td>32.0</td>\n",
              "      <td>1650.0</td>\n",
              "      <td>[\"Comedy\"]</td>\n",
              "      <td>film-poster/2/7/2/9/1/1/272911-scripted-conten...</td>\n",
              "      <td>tt4073494</td>\n",
              "      <td>http://www.imdb.com/title/tt4073494/maindetails</td>\n",
              "      <td>Scripted Content</td>\n",
              "      <td>en</td>\n",
              "      <td>A very short film for Vogue starring Jessica C...</td>\n",
              "      <td>1.400</td>\n",
              "      <td>[\"United States of America\"]</td>\n",
              "      <td>3025.0</td>\n",
              "      <td>2.0</td>\n",
              "      <td>[]</td>\n",
              "      <td>342914.0</td>\n",
              "      <td>https://www.themoviedb.org/movie/342914/</td>\n",
              "      <td>6.8</td>\n",
              "      <td>5.0</td>\n",
              "      <td>2014.0</td>\n",
              "    </tr>\n",
              "    <tr>\n",
              "      <th>3</th>\n",
              "      <td>3</td>\n",
              "      <td>the-future</td>\n",
              "      <td>4</td>\n",
              "      <td>deathproof</td>\n",
              "      <td>Lucy</td>\n",
              "      <td>32.0</td>\n",
              "      <td>1650.0</td>\n",
              "      <td>[\"Drama\",\"Fantasy\",\"Romance\"]</td>\n",
              "      <td>film-poster/1/1/4/3/2/11432-the-future-0-230-0...</td>\n",
              "      <td>tt1235170</td>\n",
              "      <td>http://www.imdb.com/title/tt1235170/maindetails</td>\n",
              "      <td>The Future</td>\n",
              "      <td>en</td>\n",
              "      <td>When a couple decides to adopt a stray cat the...</td>\n",
              "      <td>5.208</td>\n",
              "      <td>[\"Germany\",\"United States of America\",\"France\"...</td>\n",
              "      <td>4063.0</td>\n",
              "      <td>91.0</td>\n",
              "      <td>[\"English\"]</td>\n",
              "      <td>54662.0</td>\n",
              "      <td>https://www.themoviedb.org/movie/54662/</td>\n",
              "      <td>6.0</td>\n",
              "      <td>60.0</td>\n",
              "      <td>2011.0</td>\n",
              "    </tr>\n",
              "    <tr>\n",
              "      <th>4</th>\n",
              "      <td>4</td>\n",
              "      <td>mank</td>\n",
              "      <td>5</td>\n",
              "      <td>deathproof</td>\n",
              "      <td>Lucy</td>\n",
              "      <td>32.0</td>\n",
              "      <td>1650.0</td>\n",
              "      <td>[\"Drama\",\"History\"]</td>\n",
              "      <td>film-poster/5/4/1/4/2/5/541425-mank-0-230-0-34...</td>\n",
              "      <td>tt10618286</td>\n",
              "      <td>http://www.imdb.com/title/tt10618286/maindetails</td>\n",
              "      <td>Mank</td>\n",
              "      <td>en</td>\n",
              "      <td>1930s Hollywood is reevaluated through the eye...</td>\n",
              "      <td>16.331</td>\n",
              "      <td>[\"United States of America\"]</td>\n",
              "      <td>668.0</td>\n",
              "      <td>132.0</td>\n",
              "      <td>[\"English\"]</td>\n",
              "      <td>614560.0</td>\n",
              "      <td>https://www.themoviedb.org/movie/614560/</td>\n",
              "      <td>6.9</td>\n",
              "      <td>1077.0</td>\n",
              "      <td>2020.0</td>\n",
              "    </tr>\n",
              "  </tbody>\n",
              "</table>\n",
              "</div>\n",
              "      <button class=\"colab-df-convert\" onclick=\"convertToInteractive('df-eea7a8e5-22da-494b-8978-1904dc36dba0')\"\n",
              "              title=\"Convert this dataframe to an interactive table.\"\n",
              "              style=\"display:none;\">\n",
              "        \n",
              "  <svg xmlns=\"http://www.w3.org/2000/svg\" height=\"24px\"viewBox=\"0 0 24 24\"\n",
              "       width=\"24px\">\n",
              "    <path d=\"M0 0h24v24H0V0z\" fill=\"none\"/>\n",
              "    <path d=\"M18.56 5.44l.94 2.06.94-2.06 2.06-.94-2.06-.94-.94-2.06-.94 2.06-2.06.94zm-11 1L8.5 8.5l.94-2.06 2.06-.94-2.06-.94L8.5 2.5l-.94 2.06-2.06.94zm10 10l.94 2.06.94-2.06 2.06-.94-2.06-.94-.94-2.06-.94 2.06-2.06.94z\"/><path d=\"M17.41 7.96l-1.37-1.37c-.4-.4-.92-.59-1.43-.59-.52 0-1.04.2-1.43.59L10.3 9.45l-7.72 7.72c-.78.78-.78 2.05 0 2.83L4 21.41c.39.39.9.59 1.41.59.51 0 1.02-.2 1.41-.59l7.78-7.78 2.81-2.81c.8-.78.8-2.07 0-2.86zM5.41 20L4 18.59l7.72-7.72 1.47 1.35L5.41 20z\"/>\n",
              "  </svg>\n",
              "      </button>\n",
              "      \n",
              "  <style>\n",
              "    .colab-df-container {\n",
              "      display:flex;\n",
              "      flex-wrap:wrap;\n",
              "      gap: 12px;\n",
              "    }\n",
              "\n",
              "    .colab-df-convert {\n",
              "      background-color: #E8F0FE;\n",
              "      border: none;\n",
              "      border-radius: 50%;\n",
              "      cursor: pointer;\n",
              "      display: none;\n",
              "      fill: #1967D2;\n",
              "      height: 32px;\n",
              "      padding: 0 0 0 0;\n",
              "      width: 32px;\n",
              "    }\n",
              "\n",
              "    .colab-df-convert:hover {\n",
              "      background-color: #E2EBFA;\n",
              "      box-shadow: 0px 1px 2px rgba(60, 64, 67, 0.3), 0px 1px 3px 1px rgba(60, 64, 67, 0.15);\n",
              "      fill: #174EA6;\n",
              "    }\n",
              "\n",
              "    [theme=dark] .colab-df-convert {\n",
              "      background-color: #3B4455;\n",
              "      fill: #D2E3FC;\n",
              "    }\n",
              "\n",
              "    [theme=dark] .colab-df-convert:hover {\n",
              "      background-color: #434B5C;\n",
              "      box-shadow: 0px 1px 3px 1px rgba(0, 0, 0, 0.15);\n",
              "      filter: drop-shadow(0px 1px 2px rgba(0, 0, 0, 0.3));\n",
              "      fill: #FFFFFF;\n",
              "    }\n",
              "  </style>\n",
              "\n",
              "      <script>\n",
              "        const buttonEl =\n",
              "          document.querySelector('#df-eea7a8e5-22da-494b-8978-1904dc36dba0 button.colab-df-convert');\n",
              "        buttonEl.style.display =\n",
              "          google.colab.kernel.accessAllowed ? 'block' : 'none';\n",
              "\n",
              "        async function convertToInteractive(key) {\n",
              "          const element = document.querySelector('#df-eea7a8e5-22da-494b-8978-1904dc36dba0');\n",
              "          const dataTable =\n",
              "            await google.colab.kernel.invokeFunction('convertToInteractive',\n",
              "                                                     [key], {});\n",
              "          if (!dataTable) return;\n",
              "\n",
              "          const docLinkHtml = 'Like what you see? Visit the ' +\n",
              "            '<a target=\"_blank\" href=https://colab.research.google.com/notebooks/data_table.ipynb>data table notebook</a>'\n",
              "            + ' to learn more about interactive tables.';\n",
              "          element.innerHTML = '';\n",
              "          dataTable['output_type'] = 'display_data';\n",
              "          await google.colab.output.renderOutput(dataTable, element);\n",
              "          const docLink = document.createElement('div');\n",
              "          docLink.innerHTML = docLinkHtml;\n",
              "          element.appendChild(docLink);\n",
              "        }\n",
              "      </script>\n",
              "    </div>\n",
              "  </div>\n",
              "  "
            ]
          },
          "metadata": {},
          "execution_count": 6
        }
      ]
    },
    {
      "cell_type": "code",
      "source": [
        "df.info()"
      ],
      "metadata": {
        "colab": {
          "base_uri": "https://localhost:8080/"
        },
        "id": "KZhsTzlvbQ4H",
        "outputId": "bd723190-a841-462b-93fd-b47dc5b18506"
      },
      "execution_count": 7,
      "outputs": [
        {
          "output_type": "stream",
          "name": "stdout",
          "text": [
            "<class 'pandas.core.frame.DataFrame'>\n",
            "RangeIndex: 10693032 entries, 0 to 10693031\n",
            "Data columns (total 24 columns):\n",
            " #   Column                Dtype  \n",
            "---  ------                -----  \n",
            " 0   Unnamed: 0            int64  \n",
            " 1   movie_id              object \n",
            " 2   rating_val            int64  \n",
            " 3   user_id               object \n",
            " 4   display_name          object \n",
            " 5   num_ratings_pages     float64\n",
            " 6   num_reviews           float64\n",
            " 7   genres                object \n",
            " 8   image_url             object \n",
            " 9   imdb_id               object \n",
            " 10  imdb_link             object \n",
            " 11  movie_title           object \n",
            " 12  original_language     object \n",
            " 13  overview              object \n",
            " 14  popularity            float64\n",
            " 15  production_countries  object \n",
            " 16  release_date          float64\n",
            " 17  runtime               float64\n",
            " 18  spoken_languages      object \n",
            " 19  tmdb_id               float64\n",
            " 20  tmdb_link             object \n",
            " 21  vote_average          float64\n",
            " 22  vote_count            float64\n",
            " 23  year_released         float64\n",
            "dtypes: float64(9), int64(2), object(13)\n",
            "memory usage: 1.9+ GB\n"
          ]
        }
      ]
    },
    {
      "cell_type": "code",
      "source": [
        "df = df.drop('Unnamed: 0', axis=1)"
      ],
      "metadata": {
        "id": "aZFRAu5sbVLP"
      },
      "execution_count": 8,
      "outputs": []
    },
    {
      "cell_type": "code",
      "source": [
        "df.shape"
      ],
      "metadata": {
        "colab": {
          "base_uri": "https://localhost:8080/"
        },
        "id": "VgZaD7kG-pLa",
        "outputId": "7a75c0b1-e033-4c24-e560-b9f7eaf91e47"
      },
      "execution_count": 9,
      "outputs": [
        {
          "output_type": "execute_result",
          "data": {
            "text/plain": [
              "(10693032, 23)"
            ]
          },
          "metadata": {},
          "execution_count": 9
        }
      ]
    },
    {
      "cell_type": "markdown",
      "source": [
        "Let's rename some of the columns for a clearer understanding of the information for our purposes."
      ],
      "metadata": {
        "id": "Wv0O4QqrT6yK"
      }
    },
    {
      "cell_type": "code",
      "source": [
        "df = df.rename(columns = {'rating_val':'user_rating_for_movie', \n",
        "                          'display_name': 'user_display_name', \n",
        "                          'num_ratings_pages': 'u_num_ratings_pages',\n",
        "                          'num_reviews': 'u_num_reviews',\n",
        "                          'overview': 'movie_overview',\n",
        "                          'popularity': 'movie_popularity',\n",
        "                          'release_date': 'days_since_movie_release',\n",
        "                          'vote_average': 'avg_votes_for_movie',\n",
        "                          'vote_count': 'vote_count_for_movie',\n",
        "                          })"
      ],
      "metadata": {
        "id": "0m058YSIT6a1"
      },
      "execution_count": 10,
      "outputs": []
    },
    {
      "cell_type": "markdown",
      "source": [
        "The dataset has 10,693,032 rows and 23 columns (after dropping one). \n",
        "<br><br>\n",
        "**movie_id** is the unique Letterboxd ID assigned to a movie. <br>\n",
        "**user_rating_for_movie** is the rating value given by a user to a movie on a scale of half-star increments. A half-star is 1. 5 stars is 10. <br>\n",
        "**user_id** is the unqiue Letterboxd ID assigned to a user. <br>\n",
        "**user_display_name** is the unique Letterboxd ID/username. It is used to form a Letterboxd URL. <br>\n",
        "**u_num_ratings_pages** is the number of pages of ratings a user has. <br>\n",
        "**u_num_reviews** is the total number of reviews given by a user. <br>\n",
        "**genres** contains an array of associated movie genres. <br>\n",
        "**image_url** is the image used on the Letterboxd site for the movie (often a poster). <br>\n",
        "**imdb_id** is the ID for IMDB. <br>\n",
        "**imdb_link** is the link to the movie's IMDB page. <br>\n",
        "**movie_id** is the unique Letterboxd ID for the movie. <br>\n",
        "**movie_title** is the display title for the movie. <br>\n",
        "**original_language** is the original language of the movie. <br>\n",
        "**movie_overview** is the description of the movie. <br>\n",
        "**movie_popularity** is the numeric popularity of a movie (from TMDB). <br>\n",
        "**production_countries** contains an array of the countries the movie was produced in. <br>\n",
        "**release_date** is the number of days since the movie was released. <br>\n",
        "**runtime** is the runtime of the movie in minutes.<br>\n",
        "**spoken_languages** contains an array of all the spoken languages in the movie. <br>\n",
        "**tmdb_id** is the ID for accessing data on TMDB API (used by the Kaggle dataset user). <br>\n",
        "**avg_votes_for_movie** is the vote average (from TMDB). <br>\n",
        "**vote_count_for_movie** is the count of votes the movie received (from TMDB). <br>\n",
        "**year_released** is the year the movie was released."
      ],
      "metadata": {
        "id": "2fB9fCcaDJ2m"
      }
    },
    {
      "cell_type": "markdown",
      "source": [
        "# Explore the Data"
      ],
      "metadata": {
        "id": "bhSnkT7-d1uY"
      }
    },
    {
      "cell_type": "markdown",
      "source": [
        "Through the Exploratory Data Analysis, we want to determine the following things: <br>\n",
        "\n",
        "\n",
        "*   The distribution of ratings & number of reviews among movies, users, years, and genres\n",
        "*   The most and least popular movies and genres\n",
        "*   Changes in popularity of genres and movies over time\n",
        "\n"
      ],
      "metadata": {
        "id": "QuXgcdEIMCFc"
      }
    },
    {
      "cell_type": "markdown",
      "source": [
        "## Correlation Matrix"
      ],
      "metadata": {
        "id": "88GlNyUQS0Qw"
      }
    },
    {
      "cell_type": "code",
      "source": [
        "#correlation matrix \n",
        "fig, ax = plt.subplots(figsize=(15,15))\n",
        "ax = sns.heatmap(df.corr(), annot=True, fmt='0.1g')"
      ],
      "metadata": {
        "colab": {
          "base_uri": "https://localhost:8080/",
          "height": 989
        },
        "id": "M6nbJVyfdph3",
        "outputId": "02099c59-9d4f-4495-bf2a-4f9f93b9a9de"
      },
      "execution_count": 11,
      "outputs": [
        {
          "output_type": "display_data",
          "data": {
            "text/plain": [
              "<Figure size 1080x1080 with 2 Axes>"
            ],
            "image/png": "[encoded data removed]"
          },
          "metadata": {
            "needs_background": "light"
          }
        }
      ]
    },
    {
      "cell_type": "markdown",
      "source": [
        "Interesting observations we can make here: <br>\n",
        "\n",
        "\n",
        "*   days_since_movie_release and tmdb_id have a correlationship of -0.5. \n",
        "  *   This could simply indicate that the id is created in association to the date the movie was released. \n",
        "  *   The same could be said for the 0.5 correlationship between tmdb_id and year_released.\n",
        "*   user_rating_for_movie and u_num_ratings_pages (-0.1)\n",
        "*   vote_count_for_movie and year_released (0.2)\n",
        "*   avg_votes_for_movie and tmdb_id (-0.2)\n",
        "*   user_rating_for_movie and days_since_movie_release (0.1)\n",
        "*   user_rating_for_movie and vote_average (0.4)\n",
        "*   movie_popularity and vote_count_for_movie (0.1)\n",
        "*   movie_popularity and year_released (0.1)\n",
        "*   days_since_movie_release and num_ratings_pages (0.2)\n",
        "*   days_since_movie_release and u_num_reviews (0.2)\n",
        "*   movie_popularity and tmdb_id (0.1)\n",
        "\n"
      ],
      "metadata": {
        "id": "qM2IRigJ-1nG"
      }
    },
    {
      "cell_type": "markdown",
      "source": [
        "## Histograms of Data Distribution Across the Columns"
      ],
      "metadata": {
        "id": "S8mrBgvES25x"
      }
    },
    {
      "cell_type": "markdown",
      "source": [
        "Let's plot histograms to look at the data distribution in every column of the dataset."
      ],
      "metadata": {
        "id": "qLkxyZCafZ6M"
      }
    },
    {
      "cell_type": "code",
      "source": [
        "df.hist(figsize=(20,20), bins=10)\n",
        "plt.tight_layout()"
      ],
      "metadata": {
        "colab": {
          "base_uri": "https://localhost:8080/",
          "height": 1000
        },
        "id": "bML1ipqqfUV-",
        "outputId": "26a63e42-e00d-4585-c459-6dee9c6e00bc"
      },
      "execution_count": 12,
      "outputs": [
        {
          "output_type": "display_data",
          "data": {
            "text/plain": [
              "<Figure size 1440x1440 with 12 Axes>"
            ],
            "image/png": "[encoded data removed]"
          },
          "metadata": {
            "needs_background": "light"
          }
        }
      ]
    },
    {
      "cell_type": "markdown",
      "source": [
        "## Distribution of Ratings"
      ],
      "metadata": {
        "id": "QAui60TYgf-4"
      }
    },
    {
      "cell_type": "markdown",
      "source": [
        "### User Ratings for Movies"
      ],
      "metadata": {
        "id": "4Kddx3I9S-6Y"
      }
    },
    {
      "cell_type": "markdown",
      "source": [
        "Let's look at the **user_rating_for_movie** column. It is the rating value given by a user to a movie on a scale of half-star increments. The highest value a movie can get is 10 and the lowest is 1."
      ],
      "metadata": {
        "id": "OuX-eArjiCtV"
      }
    },
    {
      "cell_type": "code",
      "source": [
        "df['user_rating_for_movie'].value_counts()"
      ],
      "metadata": {
        "colab": {
          "base_uri": "https://localhost:8080/"
        },
        "id": "WWVWPnIfgk3x",
        "outputId": "01a32a57-b698-4b64-922d-272009c2bd2b"
      },
      "execution_count": 13,
      "outputs": [
        {
          "output_type": "execute_result",
          "data": {
            "text/plain": [
              "8     2108551\n",
              "6     2077362\n",
              "7     1959221\n",
              "5     1059967\n",
              "4      922566\n",
              "9      884766\n",
              "10     725248\n",
              "3      395018\n",
              "2      374711\n",
              "1      185622\n",
              "Name: user_rating_for_movie, dtype: int64"
            ]
          },
          "metadata": {},
          "execution_count": 13
        }
      ]
    },
    {
      "cell_type": "code",
      "source": [
        "len(df['user_id'].unique())"
      ],
      "metadata": {
        "colab": {
          "base_uri": "https://localhost:8080/"
        },
        "id": "qE38xI6xLwJY",
        "outputId": "ea98a4a2-2f6b-41a9-efcd-dd3f93267a80"
      },
      "execution_count": 14,
      "outputs": [
        {
          "output_type": "execute_result",
          "data": {
            "text/plain": [
              "7453"
            ]
          },
          "metadata": {},
          "execution_count": 14
        }
      ]
    },
    {
      "cell_type": "code",
      "source": [
        "plt.figure(figsize=(10,10))\n",
        "sns.countplot(data=df, y=df['user_rating_for_movie'], color='blue')\n",
        "plt.xlabel('Count of Users (in millions)')\n",
        "plt.ylabel('Rating Values')\n",
        "plt.title('Overall Distribution of Ratings Given to Movies')\n",
        "plt.show()"
      ],
      "metadata": {
        "colab": {
          "base_uri": "https://localhost:8080/",
          "height": 0
        },
        "id": "XHyOE6wojl9e",
        "outputId": "2da0c8b9-6110-4533-c041-30c2c640eb1b"
      },
      "execution_count": 15,
      "outputs": [
        {
          "output_type": "display_data",
          "data": {
            "text/plain": [
              "<Figure size 720x720 with 1 Axes>"
            ],
            "image/png": "[encoded data removed]"
          },
          "metadata": {
            "needs_background": "light"
          }
        }
      ]
    },
    {
      "cell_type": "markdown",
      "source": [
        "So, the most common rating value given to a movie seems to be **8**. Exactly 2,108,551 movies were given an 8. This is immediately followed by **6** with 2,077,362 movies. \n",
        "725,248 movies have been given **10** and 185,622 movies have been given a **1**."
      ],
      "metadata": {
        "id": "RHA2rxuihMyW"
      }
    },
    {
      "cell_type": "markdown",
      "source": [
        "Let's now look at the summary statistics of this column."
      ],
      "metadata": {
        "id": "HZ7CUbqsjbW2"
      }
    },
    {
      "cell_type": "code",
      "source": [
        "df['user_rating_for_movie'].describe()"
      ],
      "metadata": {
        "colab": {
          "base_uri": "https://localhost:8080/"
        },
        "id": "1F2wkAtui_YH",
        "outputId": "cd191c4c-505d-4686-a24e-7c4ca27284cf"
      },
      "execution_count": 16,
      "outputs": [
        {
          "output_type": "execute_result",
          "data": {
            "text/plain": [
              "count    1.069303e+07\n",
              "mean     6.487655e+00\n",
              "std      2.082166e+00\n",
              "min      1.000000e+00\n",
              "25%      5.000000e+00\n",
              "50%      7.000000e+00\n",
              "75%      8.000000e+00\n",
              "max      1.000000e+01\n",
              "Name: user_rating_for_movie, dtype: float64"
            ]
          },
          "metadata": {},
          "execution_count": 16
        }
      ]
    },
    {
      "cell_type": "markdown",
      "source": [
        "The average rating value is 6.49."
      ],
      "metadata": {
        "id": "8Ef40EDoDAz1"
      }
    },
    {
      "cell_type": "markdown",
      "source": [
        "### Number of Reviews Given by Users"
      ],
      "metadata": {
        "id": "FuzvUNxYTCG-"
      }
    },
    {
      "cell_type": "markdown",
      "source": [
        "Now, let's look at the **u_num_reviews** column. It is the number of reviews given by each user."
      ],
      "metadata": {
        "id": "asJ0q8DwyBkx"
      }
    },
    {
      "cell_type": "code",
      "source": [
        "df['u_num_reviews'].mean()"
      ],
      "metadata": {
        "colab": {
          "base_uri": "https://localhost:8080/"
        },
        "id": "zTAfpFH8yMFR",
        "outputId": "889f1e1b-1bc5-4294-acbe-9d9428886cb5"
      },
      "execution_count": 17,
      "outputs": [
        {
          "output_type": "execute_result",
          "data": {
            "text/plain": [
              "1668.788788717737"
            ]
          },
          "metadata": {},
          "execution_count": 17
        }
      ]
    },
    {
      "cell_type": "markdown",
      "source": [
        "On Letterboxd, users seem to have given an average of 1,669 reviews."
      ],
      "metadata": {
        "id": "rabkhhycyQKL"
      }
    },
    {
      "cell_type": "code",
      "source": [
        "df['u_num_reviews'].max(), df['u_num_reviews'].min()"
      ],
      "metadata": {
        "colab": {
          "base_uri": "https://localhost:8080/"
        },
        "id": "aejSaF1l7FjE",
        "outputId": "9c589297-beb6-43bb-ed91-a97b6232a43b"
      },
      "execution_count": 18,
      "outputs": [
        {
          "output_type": "execute_result",
          "data": {
            "text/plain": [
              "(17184.0, 1.0)"
            ]
          },
          "metadata": {},
          "execution_count": 18
        }
      ]
    },
    {
      "cell_type": "markdown",
      "source": [
        "The maximum number of reviews given by a user is 17,184. The lowest is 1. "
      ],
      "metadata": {
        "id": "4q6kFp0H7M84"
      }
    },
    {
      "cell_type": "code",
      "source": [
        "plt.figure(figsize=(25,10))\n",
        "\n",
        "#plot histogram\n",
        "ax = sns.histplot(data=df, x=df['u_num_reviews'], bins=20, color='blue')\n",
        "plt.xlabel('Number of Reviews')\n",
        "plt.ylabel('')\n",
        "ax.set(title='Overall Distribution of Ratings Given to Movies')\n",
        "\n",
        "#from: https://medium.com/swlh/quick-guide-to-labelling-data-for-common-seaborn-plots-736e10bf14a9\n",
        "# label each bar in histogram\n",
        "for p in ax.patches:\n",
        " height = p.get_height() # get the height of each bar\n",
        " # adding text to each bar\n",
        " ax.text(x = p.get_x()+(p.get_width()/2), # x-coordinate position of data label, padded to be in the middle of the bar\n",
        " y = height+0.2, # y-coordinate position of data label, padded 0.2 above bar\n",
        " s = '{:.0f}'.format(height), # data label, formatted to ignore decimals\n",
        " ha = 'center') # sets horizontal alignment (ha) to center\n",
        "\n",
        "plt.show()"
      ],
      "metadata": {
        "colab": {
          "base_uri": "https://localhost:8080/",
          "height": 0
        },
        "id": "RWwdHXKtudwp",
        "outputId": "bad77971-a690-4735-fd91-eed2d0bc4c18"
      },
      "execution_count": 19,
      "outputs": [
        {
          "output_type": "display_data",
          "data": {
            "text/plain": [
              "<Figure size 1800x720 with 1 Axes>"
            ],
            "image/png": "[encoded data removed]"
          },
          "metadata": {
            "needs_background": "light"
          }
        }
      ]
    },
    {
      "cell_type": "markdown",
      "source": [
        "### Genres & Ratings"
      ],
      "metadata": {
        "id": "Y_1v90-hMXjb"
      }
    },
    {
      "cell_type": "markdown",
      "source": [
        "Since we don't want to OneHotEncode the **genres** column before the pre-processing stage, let's create a new data frame to explore and analyze."
      ],
      "metadata": {
        "id": "QyZcFvEiNo3d"
      }
    },
    {
      "cell_type": "code",
      "source": [
        "genres_df = pd.DataFrame().assign(movie_id = df['movie_id'], genres=df['genres'], user_rating_for_movie=df['user_rating_for_movie'], u_num_reviews=df['u_num_reviews'], user_id=df['user_id'], movie_popularity=df['movie_popularity'], movie_title=df['movie_title'])"
      ],
      "metadata": {
        "id": "zuu6crLKKYKG"
      },
      "execution_count": 20,
      "outputs": []
    },
    {
      "cell_type": "code",
      "source": [
        "genres_df.head()"
      ],
      "metadata": {
        "colab": {
          "base_uri": "https://localhost:8080/",
          "height": 206
        },
        "id": "UKvtx6RCNmHZ",
        "outputId": "f41cb243-51eb-444e-dba9-2f8562ade245"
      },
      "execution_count": 21,
      "outputs": [
        {
          "output_type": "execute_result",
          "data": {
            "text/plain": [
              "           movie_id                                   genres  \\\n",
              "0        feast-2014  [\"Animation\",\"Comedy\",\"Drama\",\"Family\"]   \n",
              "1       loving-2016                      [\"Romance\",\"Drama\"]   \n",
              "2  scripted-content                               [\"Comedy\"]   \n",
              "3        the-future            [\"Drama\",\"Fantasy\",\"Romance\"]   \n",
              "4              mank                      [\"Drama\",\"History\"]   \n",
              "\n",
              "   user_rating_for_movie  u_num_reviews     user_id  movie_popularity  \\\n",
              "0                      7         1650.0  deathproof             9.260   \n",
              "1                      7         1650.0  deathproof            18.024   \n",
              "2                      7         1650.0  deathproof             1.400   \n",
              "3                      4         1650.0  deathproof             5.208   \n",
              "4                      5         1650.0  deathproof            16.331   \n",
              "\n",
              "        movie_title  \n",
              "0             Feast  \n",
              "1            Loving  \n",
              "2  Scripted Content  \n",
              "3        The Future  \n",
              "4              Mank  "
            ],
            "text/html": [
              "\n",
              "  <div id=\"df-ae56da82-f84e-4c23-ac73-51cbfd8a11bf\">\n",
              "    <div class=\"colab-df-container\">\n",
              "      <div>\n",
              "<style scoped>\n",
              "    .dataframe tbody tr th:only-of-type {\n",
              "        vertical-align: middle;\n",
              "    }\n",
              "\n",
              "    .dataframe tbody tr th {\n",
              "        vertical-align: top;\n",
              "    }\n",
              "\n",
              "    .dataframe thead th {\n",
              "        text-align: right;\n",
              "    }\n",
              "</style>\n",
              "<table border=\"1\" class=\"dataframe\">\n",
              "  <thead>\n",
              "    <tr style=\"text-align: right;\">\n",
              "      <th></th>\n",
              "      <th>movie_id</th>\n",
              "      <th>genres</th>\n",
              "      <th>user_rating_for_movie</th>\n",
              "      <th>u_num_reviews</th>\n",
              "      <th>user_id</th>\n",
              "      <th>movie_popularity</th>\n",
              "      <th>movie_title</th>\n",
              "    </tr>\n",
              "  </thead>\n",
              "  <tbody>\n",
              "    <tr>\n",
              "      <th>0</th>\n",
              "      <td>feast-2014</td>\n",
              "      <td>[\"Animation\",\"Comedy\",\"Drama\",\"Family\"]</td>\n",
              "      <td>7</td>\n",
              "      <td>1650.0</td>\n",
              "      <td>deathproof</td>\n",
              "      <td>9.260</td>\n",
              "      <td>Feast</td>\n",
              "    </tr>\n",
              "    <tr>\n",
              "      <th>1</th>\n",
              "      <td>loving-2016</td>\n",
              "      <td>[\"Romance\",\"Drama\"]</td>\n",
              "      <td>7</td>\n",
              "      <td>1650.0</td>\n",
              "      <td>deathproof</td>\n",
              "      <td>18.024</td>\n",
              "      <td>Loving</td>\n",
              "    </tr>\n",
              "    <tr>\n",
              "      <th>2</th>\n",
              "      <td>scripted-content</td>\n",
              "      <td>[\"Comedy\"]</td>\n",
              "      <td>7</td>\n",
              "      <td>1650.0</td>\n",
              "      <td>deathproof</td>\n",
              "      <td>1.400</td>\n",
              "      <td>Scripted Content</td>\n",
              "    </tr>\n",
              "    <tr>\n",
              "      <th>3</th>\n",
              "      <td>the-future</td>\n",
              "      <td>[\"Drama\",\"Fantasy\",\"Romance\"]</td>\n",
              "      <td>4</td>\n",
              "      <td>1650.0</td>\n",
              "      <td>deathproof</td>\n",
              "      <td>5.208</td>\n",
              "      <td>The Future</td>\n",
              "    </tr>\n",
              "    <tr>\n",
              "      <th>4</th>\n",
              "      <td>mank</td>\n",
              "      <td>[\"Drama\",\"History\"]</td>\n",
              "      <td>5</td>\n",
              "      <td>1650.0</td>\n",
              "      <td>deathproof</td>\n",
              "      <td>16.331</td>\n",
              "      <td>Mank</td>\n",
              "    </tr>\n",
              "  </tbody>\n",
              "</table>\n",
              "</div>\n",
              "      <button class=\"colab-df-convert\" onclick=\"convertToInteractive('df-ae56da82-f84e-4c23-ac73-51cbfd8a11bf')\"\n",
              "              title=\"Convert this dataframe to an interactive table.\"\n",
              "              style=\"display:none;\">\n",
              "        \n",
              "  <svg xmlns=\"http://www.w3.org/2000/svg\" height=\"24px\"viewBox=\"0 0 24 24\"\n",
              "       width=\"24px\">\n",
              "    <path d=\"M0 0h24v24H0V0z\" fill=\"none\"/>\n",
              "    <path d=\"M18.56 5.44l.94 2.06.94-2.06 2.06-.94-2.06-.94-.94-2.06-.94 2.06-2.06.94zm-11 1L8.5 8.5l.94-2.06 2.06-.94-2.06-.94L8.5 2.5l-.94 2.06-2.06.94zm10 10l.94 2.06.94-2.06 2.06-.94-2.06-.94-.94-2.06-.94 2.06-2.06.94z\"/><path d=\"M17.41 7.96l-1.37-1.37c-.4-.4-.92-.59-1.43-.59-.52 0-1.04.2-1.43.59L10.3 9.45l-7.72 7.72c-.78.78-.78 2.05 0 2.83L4 21.41c.39.39.9.59 1.41.59.51 0 1.02-.2 1.41-.59l7.78-7.78 2.81-2.81c.8-.78.8-2.07 0-2.86zM5.41 20L4 18.59l7.72-7.72 1.47 1.35L5.41 20z\"/>\n",
              "  </svg>\n",
              "      </button>\n",
              "      \n",
              "  <style>\n",
              "    .colab-df-container {\n",
              "      display:flex;\n",
              "      flex-wrap:wrap;\n",
              "      gap: 12px;\n",
              "    }\n",
              "\n",
              "    .colab-df-convert {\n",
              "      background-color: #E8F0FE;\n",
              "      border: none;\n",
              "      border-radius: 50%;\n",
              "      cursor: pointer;\n",
              "      display: none;\n",
              "      fill: #1967D2;\n",
              "      height: 32px;\n",
              "      padding: 0 0 0 0;\n",
              "      width: 32px;\n",
              "    }\n",
              "\n",
              "    .colab-df-convert:hover {\n",
              "      background-color: #E2EBFA;\n",
              "      box-shadow: 0px 1px 2px rgba(60, 64, 67, 0.3), 0px 1px 3px 1px rgba(60, 64, 67, 0.15);\n",
              "      fill: #174EA6;\n",
              "    }\n",
              "\n",
              "    [theme=dark] .colab-df-convert {\n",
              "      background-color: #3B4455;\n",
              "      fill: #D2E3FC;\n",
              "    }\n",
              "\n",
              "    [theme=dark] .colab-df-convert:hover {\n",
              "      background-color: #434B5C;\n",
              "      box-shadow: 0px 1px 3px 1px rgba(0, 0, 0, 0.15);\n",
              "      filter: drop-shadow(0px 1px 2px rgba(0, 0, 0, 0.3));\n",
              "      fill: #FFFFFF;\n",
              "    }\n",
              "  </style>\n",
              "\n",
              "      <script>\n",
              "        const buttonEl =\n",
              "          document.querySelector('#df-ae56da82-f84e-4c23-ac73-51cbfd8a11bf button.colab-df-convert');\n",
              "        buttonEl.style.display =\n",
              "          google.colab.kernel.accessAllowed ? 'block' : 'none';\n",
              "\n",
              "        async function convertToInteractive(key) {\n",
              "          const element = document.querySelector('#df-ae56da82-f84e-4c23-ac73-51cbfd8a11bf');\n",
              "          const dataTable =\n",
              "            await google.colab.kernel.invokeFunction('convertToInteractive',\n",
              "                                                     [key], {});\n",
              "          if (!dataTable) return;\n",
              "\n",
              "          const docLinkHtml = 'Like what you see? Visit the ' +\n",
              "            '<a target=\"_blank\" href=https://colab.research.google.com/notebooks/data_table.ipynb>data table notebook</a>'\n",
              "            + ' to learn more about interactive tables.';\n",
              "          element.innerHTML = '';\n",
              "          dataTable['output_type'] = 'display_data';\n",
              "          await google.colab.output.renderOutput(dataTable, element);\n",
              "          const docLink = document.createElement('div');\n",
              "          docLink.innerHTML = docLinkHtml;\n",
              "          element.appendChild(docLink);\n",
              "        }\n",
              "      </script>\n",
              "    </div>\n",
              "  </div>\n",
              "  "
            ]
          },
          "metadata": {},
          "execution_count": 21
        }
      ]
    },
    {
      "cell_type": "code",
      "source": [
        "#Separating all individual genres\n",
        "\n",
        "from ast import literal_eval\n",
        "\n",
        "all_genres = [value for sublist in genres_df['genres'].apply(lambda row: literal_eval(row)) for value in sublist]\n",
        "\n",
        "from collections import Counter\n",
        "\n",
        "result = Counter(all_genres)\n",
        "result"
      ],
      "metadata": {
        "colab": {
          "base_uri": "https://localhost:8080/"
        },
        "id": "z8aYW5BoPvnG",
        "outputId": "7c0053fb-4170-4a14-9396-3953062a5136"
      },
      "execution_count": 22,
      "outputs": [
        {
          "output_type": "execute_result",
          "data": {
            "text/plain": [
              "Counter({'Animation': 861488,\n",
              "         'Comedy': 3244063,\n",
              "         'Drama': 4709617,\n",
              "         'Family': 1006963,\n",
              "         'Romance': 1396996,\n",
              "         'Fantasy': 1160553,\n",
              "         'History': 399368,\n",
              "         'Science Fiction': 1364668,\n",
              "         'Horror': 1782826,\n",
              "         'Thriller': 2506087,\n",
              "         'Crime': 1481037,\n",
              "         'Mystery': 952759,\n",
              "         'Music': 394344,\n",
              "         'Action': 2141516,\n",
              "         'Adventure': 1682120,\n",
              "         'TV Movie': 137474,\n",
              "         'Documentary': 495470,\n",
              "         'War': 284128,\n",
              "         'Western': 182092})"
            ]
          },
          "metadata": {},
          "execution_count": 22
        }
      ]
    },
    {
      "cell_type": "markdown",
      "source": [
        "*Drama* is the genre with the highest number of films at 4,709,454. *TV Movie* is the genre with the lowest number of films at 137,457."
      ],
      "metadata": {
        "id": "0lBJctB3dAg3"
      }
    },
    {
      "cell_type": "markdown",
      "source": [
        "Now, let's split the lists using the \"strip\" and \"replace\" string methods:"
      ],
      "metadata": {
        "id": "zb3tPPZIP-QU"
      }
    },
    {
      "cell_type": "code",
      "source": [
        "genres_df['genres'] = genres_df['genres'].str.strip(\"[\").str.strip(\"]\").str.replace(\"'\", \"\")"
      ],
      "metadata": {
        "id": "UYUCqrTNP7PB"
      },
      "execution_count": 23,
      "outputs": []
    },
    {
      "cell_type": "markdown",
      "source": [
        "Then, we will create columns for each genre."
      ],
      "metadata": {
        "id": "cFOf_7oZQG7Z"
      }
    },
    {
      "cell_type": "code",
      "source": [
        "genres_df['Animation'] = genres_df['genres'].map(lambda x: 1 if 'Animation' in x else 0)\n",
        "genres_df['Comedy'] = genres_df['genres'].map(lambda x: 1 if 'Comedy' in x else 0)\n",
        "genres_df['Drama'] = genres_df['genres'].map(lambda x: 1 if 'Drama' in x else 0)\n",
        "genres_df['Family'] = genres_df['genres'].map(lambda x: 1 if 'Family' in x else 0)\n",
        "genres_df['Romance'] = genres_df['genres'].map(lambda x: 1 if 'Romance' in x else 0)\n",
        "genres_df['Fantasy'] = genres_df['genres'].map(lambda x: 1 if 'Fantasy' in x else 0)\n",
        "genres_df['History'] = genres_df['genres'].map(lambda x: 1 if 'History' in x else 0)\n",
        "genres_df['Science Fiction'] = genres_df['genres'].map(lambda x: 1 if 'Science Fiction' in x else 0)\n",
        "genres_df['Horror'] = genres_df['genres'].map(lambda x: 1 if 'Horror' in x else 0)\n",
        "genres_df['Thriller'] = genres_df['genres'].map(lambda x: 1 if 'Thriller' in x else 0)\n",
        "genres_df['Crime'] = genres_df['genres'].map(lambda x: 1 if 'Crime' in x else 0)\n",
        "genres_df['Mystery'] = genres_df['genres'].map(lambda x: 1 if 'Mystery' in x else 0)\n",
        "genres_df['Music'] = genres_df['genres'].map(lambda x: 1 if 'Music' in x else 0)\n",
        "genres_df['Action'] = genres_df['genres'].map(lambda x: 1 if 'Action' in x else 0)\n",
        "genres_df['Adventure'] = genres_df['genres'].map(lambda x: 1 if 'Adventure' in x else 0)\n",
        "genres_df['TV Movie'] = genres_df['genres'].map(lambda x: 1 if 'TV Movie' in x else 0)\n",
        "genres_df['Documentary'] = genres_df['genres'].map(lambda x: 1 if 'Documentary' in x else 0)\n",
        "genres_df['War'] = genres_df['genres'].map(lambda x: 1 if 'War' in x else 0)\n",
        "genres_df['Western'] = genres_df['genres'].map(lambda x: 1 if 'Western' in x else 0)"
      ],
      "metadata": {
        "id": "M9wVEi1WQLPw"
      },
      "execution_count": 24,
      "outputs": []
    },
    {
      "cell_type": "code",
      "source": [
        "genres_df.head()"
      ],
      "metadata": {
        "id": "TzsXIZx2TI_r",
        "colab": {
          "base_uri": "https://localhost:8080/",
          "height": 340
        },
        "outputId": "62e45be0-36be-44b2-d0cd-71ccac51f99e"
      },
      "execution_count": 25,
      "outputs": [
        {
          "output_type": "execute_result",
          "data": {
            "text/plain": [
              "           movie_id                                 genres  \\\n",
              "0        feast-2014  \"Animation\",\"Comedy\",\"Drama\",\"Family\"   \n",
              "1       loving-2016                      \"Romance\",\"Drama\"   \n",
              "2  scripted-content                               \"Comedy\"   \n",
              "3        the-future            \"Drama\",\"Fantasy\",\"Romance\"   \n",
              "4              mank                      \"Drama\",\"History\"   \n",
              "\n",
              "   user_rating_for_movie  u_num_reviews     user_id  movie_popularity  \\\n",
              "0                      7         1650.0  deathproof             9.260   \n",
              "1                      7         1650.0  deathproof            18.024   \n",
              "2                      7         1650.0  deathproof             1.400   \n",
              "3                      4         1650.0  deathproof             5.208   \n",
              "4                      5         1650.0  deathproof            16.331   \n",
              "\n",
              "        movie_title  Animation  Comedy  Drama  Family  Romance  Fantasy  \\\n",
              "0             Feast          1       1      1       1        0        0   \n",
              "1            Loving          0       0      1       0        1        0   \n",
              "2  Scripted Content          0       1      0       0        0        0   \n",
              "3        The Future          0       0      1       0        1        1   \n",
              "4              Mank          0       0      1       0        0        0   \n",
              "\n",
              "   History  Science Fiction  Horror  Thriller  Crime  Mystery  Music  Action  \\\n",
              "0        0                0       0         0      0        0      0       0   \n",
              "1        0                0       0         0      0        0      0       0   \n",
              "2        0                0       0         0      0        0      0       0   \n",
              "3        0                0       0         0      0        0      0       0   \n",
              "4        1                0       0         0      0        0      0       0   \n",
              "\n",
              "   Adventure  TV Movie  Documentary  War  Western  \n",
              "0          0         0            0    0        0  \n",
              "1          0         0            0    0        0  \n",
              "2          0         0            0    0        0  \n",
              "3          0         0            0    0        0  \n",
              "4          0         0            0    0        0  "
            ],
            "text/html": [
              "\n",
              "  <div id=\"df-610976e9-ae66-4d7d-b529-d652bbc28b80\">\n",
              "    <div class=\"colab-df-container\">\n",
              "      <div>\n",
              "<style scoped>\n",
              "    .dataframe tbody tr th:only-of-type {\n",
              "        vertical-align: middle;\n",
              "    }\n",
              "\n",
              "    .dataframe tbody tr th {\n",
              "        vertical-align: top;\n",
              "    }\n",
              "\n",
              "    .dataframe thead th {\n",
              "        text-align: right;\n",
              "    }\n",
              "</style>\n",
              "<table border=\"1\" class=\"dataframe\">\n",
              "  <thead>\n",
              "    <tr style=\"text-align: right;\">\n",
              "      <th></th>\n",
              "      <th>movie_id</th>\n",
              "      <th>genres</th>\n",
              "      <th>user_rating_for_movie</th>\n",
              "      <th>u_num_reviews</th>\n",
              "      <th>user_id</th>\n",
              "      <th>movie_popularity</th>\n",
              "      <th>movie_title</th>\n",
              "      <th>Animation</th>\n",
              "      <th>Comedy</th>\n",
              "      <th>Drama</th>\n",
              "      <th>Family</th>\n",
              "      <th>Romance</th>\n",
              "      <th>Fantasy</th>\n",
              "      <th>History</th>\n",
              "      <th>Science Fiction</th>\n",
              "      <th>Horror</th>\n",
              "      <th>Thriller</th>\n",
              "      <th>Crime</th>\n",
              "      <th>Mystery</th>\n",
              "      <th>Music</th>\n",
              "      <th>Action</th>\n",
              "      <th>Adventure</th>\n",
              "      <th>TV Movie</th>\n",
              "      <th>Documentary</th>\n",
              "      <th>War</th>\n",
              "      <th>Western</th>\n",
              "    </tr>\n",
              "  </thead>\n",
              "  <tbody>\n",
              "    <tr>\n",
              "      <th>0</th>\n",
              "      <td>feast-2014</td>\n",
              "      <td>\"Animation\",\"Comedy\",\"Drama\",\"Family\"</td>\n",
              "      <td>7</td>\n",
              "      <td>1650.0</td>\n",
              "      <td>deathproof</td>\n",
              "      <td>9.260</td>\n",
              "      <td>Feast</td>\n",
              "      <td>1</td>\n",
              "      <td>1</td>\n",
              "      <td>1</td>\n",
              "      <td>1</td>\n",
              "      <td>0</td>\n",
              "      <td>0</td>\n",
              "      <td>0</td>\n",
              "      <td>0</td>\n",
              "      <td>0</td>\n",
              "      <td>0</td>\n",
              "      <td>0</td>\n",
              "      <td>0</td>\n",
              "      <td>0</td>\n",
              "      <td>0</td>\n",
              "      <td>0</td>\n",
              "      <td>0</td>\n",
              "      <td>0</td>\n",
              "      <td>0</td>\n",
              "      <td>0</td>\n",
              "    </tr>\n",
              "    <tr>\n",
              "      <th>1</th>\n",
              "      <td>loving-2016</td>\n",
              "      <td>\"Romance\",\"Drama\"</td>\n",
              "      <td>7</td>\n",
              "      <td>1650.0</td>\n",
              "      <td>deathproof</td>\n",
              "      <td>18.024</td>\n",
              "      <td>Loving</td>\n",
              "      <td>0</td>\n",
              "      <td>0</td>\n",
              "      <td>1</td>\n",
              "      <td>0</td>\n",
              "      <td>1</td>\n",
              "      <td>0</td>\n",
              "      <td>0</td>\n",
              "      <td>0</td>\n",
              "      <td>0</td>\n",
              "      <td>0</td>\n",
              "      <td>0</td>\n",
              "      <td>0</td>\n",
              "      <td>0</td>\n",
              "      <td>0</td>\n",
              "      <td>0</td>\n",
              "      <td>0</td>\n",
              "      <td>0</td>\n",
              "      <td>0</td>\n",
              "      <td>0</td>\n",
              "    </tr>\n",
              "    <tr>\n",
              "      <th>2</th>\n",
              "      <td>scripted-content</td>\n",
              "      <td>\"Comedy\"</td>\n",
              "      <td>7</td>\n",
              "      <td>1650.0</td>\n",
              "      <td>deathproof</td>\n",
              "      <td>1.400</td>\n",
              "      <td>Scripted Content</td>\n",
              "      <td>0</td>\n",
              "      <td>1</td>\n",
              "      <td>0</td>\n",
              "      <td>0</td>\n",
              "      <td>0</td>\n",
              "      <td>0</td>\n",
              "      <td>0</td>\n",
              "      <td>0</td>\n",
              "      <td>0</td>\n",
              "      <td>0</td>\n",
              "      <td>0</td>\n",
              "      <td>0</td>\n",
              "      <td>0</td>\n",
              "      <td>0</td>\n",
              "      <td>0</td>\n",
              "      <td>0</td>\n",
              "      <td>0</td>\n",
              "      <td>0</td>\n",
              "      <td>0</td>\n",
              "    </tr>\n",
              "    <tr>\n",
              "      <th>3</th>\n",
              "      <td>the-future</td>\n",
              "      <td>\"Drama\",\"Fantasy\",\"Romance\"</td>\n",
              "      <td>4</td>\n",
              "      <td>1650.0</td>\n",
              "      <td>deathproof</td>\n",
              "      <td>5.208</td>\n",
              "      <td>The Future</td>\n",
              "      <td>0</td>\n",
              "      <td>0</td>\n",
              "      <td>1</td>\n",
              "      <td>0</td>\n",
              "      <td>1</td>\n",
              "      <td>1</td>\n",
              "      <td>0</td>\n",
              "      <td>0</td>\n",
              "      <td>0</td>\n",
              "      <td>0</td>\n",
              "      <td>0</td>\n",
              "      <td>0</td>\n",
              "      <td>0</td>\n",
              "      <td>0</td>\n",
              "      <td>0</td>\n",
              "      <td>0</td>\n",
              "      <td>0</td>\n",
              "      <td>0</td>\n",
              "      <td>0</td>\n",
              "    </tr>\n",
              "    <tr>\n",
              "      <th>4</th>\n",
              "      <td>mank</td>\n",
              "      <td>\"Drama\",\"History\"</td>\n",
              "      <td>5</td>\n",
              "      <td>1650.0</td>\n",
              "      <td>deathproof</td>\n",
              "      <td>16.331</td>\n",
              "      <td>Mank</td>\n",
              "      <td>0</td>\n",
              "      <td>0</td>\n",
              "      <td>1</td>\n",
              "      <td>0</td>\n",
              "      <td>0</td>\n",
              "      <td>0</td>\n",
              "      <td>1</td>\n",
              "      <td>0</td>\n",
              "      <td>0</td>\n",
              "      <td>0</td>\n",
              "      <td>0</td>\n",
              "      <td>0</td>\n",
              "      <td>0</td>\n",
              "      <td>0</td>\n",
              "      <td>0</td>\n",
              "      <td>0</td>\n",
              "      <td>0</td>\n",
              "      <td>0</td>\n",
              "      <td>0</td>\n",
              "    </tr>\n",
              "  </tbody>\n",
              "</table>\n",
              "</div>\n",
              "      <button class=\"colab-df-convert\" onclick=\"convertToInteractive('df-610976e9-ae66-4d7d-b529-d652bbc28b80')\"\n",
              "              title=\"Convert this dataframe to an interactive table.\"\n",
              "              style=\"display:none;\">\n",
              "        \n",
              "  <svg xmlns=\"http://www.w3.org/2000/svg\" height=\"24px\"viewBox=\"0 0 24 24\"\n",
              "       width=\"24px\">\n",
              "    <path d=\"M0 0h24v24H0V0z\" fill=\"none\"/>\n",
              "    <path d=\"M18.56 5.44l.94 2.06.94-2.06 2.06-.94-2.06-.94-.94-2.06-.94 2.06-2.06.94zm-11 1L8.5 8.5l.94-2.06 2.06-.94-2.06-.94L8.5 2.5l-.94 2.06-2.06.94zm10 10l.94 2.06.94-2.06 2.06-.94-2.06-.94-.94-2.06-.94 2.06-2.06.94z\"/><path d=\"M17.41 7.96l-1.37-1.37c-.4-.4-.92-.59-1.43-.59-.52 0-1.04.2-1.43.59L10.3 9.45l-7.72 7.72c-.78.78-.78 2.05 0 2.83L4 21.41c.39.39.9.59 1.41.59.51 0 1.02-.2 1.41-.59l7.78-7.78 2.81-2.81c.8-.78.8-2.07 0-2.86zM5.41 20L4 18.59l7.72-7.72 1.47 1.35L5.41 20z\"/>\n",
              "  </svg>\n",
              "      </button>\n",
              "      \n",
              "  <style>\n",
              "    .colab-df-container {\n",
              "      display:flex;\n",
              "      flex-wrap:wrap;\n",
              "      gap: 12px;\n",
              "    }\n",
              "\n",
              "    .colab-df-convert {\n",
              "      background-color: #E8F0FE;\n",
              "      border: none;\n",
              "      border-radius: 50%;\n",
              "      cursor: pointer;\n",
              "      display: none;\n",
              "      fill: #1967D2;\n",
              "      height: 32px;\n",
              "      padding: 0 0 0 0;\n",
              "      width: 32px;\n",
              "    }\n",
              "\n",
              "    .colab-df-convert:hover {\n",
              "      background-color: #E2EBFA;\n",
              "      box-shadow: 0px 1px 2px rgba(60, 64, 67, 0.3), 0px 1px 3px 1px rgba(60, 64, 67, 0.15);\n",
              "      fill: #174EA6;\n",
              "    }\n",
              "\n",
              "    [theme=dark] .colab-df-convert {\n",
              "      background-color: #3B4455;\n",
              "      fill: #D2E3FC;\n",
              "    }\n",
              "\n",
              "    [theme=dark] .colab-df-convert:hover {\n",
              "      background-color: #434B5C;\n",
              "      box-shadow: 0px 1px 3px 1px rgba(0, 0, 0, 0.15);\n",
              "      filter: drop-shadow(0px 1px 2px rgba(0, 0, 0, 0.3));\n",
              "      fill: #FFFFFF;\n",
              "    }\n",
              "  </style>\n",
              "\n",
              "      <script>\n",
              "        const buttonEl =\n",
              "          document.querySelector('#df-610976e9-ae66-4d7d-b529-d652bbc28b80 button.colab-df-convert');\n",
              "        buttonEl.style.display =\n",
              "          google.colab.kernel.accessAllowed ? 'block' : 'none';\n",
              "\n",
              "        async function convertToInteractive(key) {\n",
              "          const element = document.querySelector('#df-610976e9-ae66-4d7d-b529-d652bbc28b80');\n",
              "          const dataTable =\n",
              "            await google.colab.kernel.invokeFunction('convertToInteractive',\n",
              "                                                     [key], {});\n",
              "          if (!dataTable) return;\n",
              "\n",
              "          const docLinkHtml = 'Like what you see? Visit the ' +\n",
              "            '<a target=\"_blank\" href=https://colab.research.google.com/notebooks/data_table.ipynb>data table notebook</a>'\n",
              "            + ' to learn more about interactive tables.';\n",
              "          element.innerHTML = '';\n",
              "          dataTable['output_type'] = 'display_data';\n",
              "          await google.colab.output.renderOutput(dataTable, element);\n",
              "          const docLink = document.createElement('div');\n",
              "          docLink.innerHTML = docLinkHtml;\n",
              "          element.appendChild(docLink);\n",
              "        }\n",
              "      </script>\n",
              "    </div>\n",
              "  </div>\n",
              "  "
            ]
          },
          "metadata": {},
          "execution_count": 25
        }
      ]
    },
    {
      "cell_type": "markdown",
      "source": [
        "How many unique movies are in each genre?\n",
        "<br> Note that movies can be listed with multiple genres and that the dataset repeats movies (contains duplicates of movie ids)."
      ],
      "metadata": {
        "id": "SxJmNZ7lc3Ul"
      }
    },
    {
      "cell_type": "code",
      "source": [
        "uniq_movies = genres_df.drop_duplicates(subset='movie_id')"
      ],
      "metadata": {
        "id": "qnPKJtxICsQN"
      },
      "execution_count": 26,
      "outputs": []
    },
    {
      "cell_type": "code",
      "source": [
        "uniq_movies.head()"
      ],
      "metadata": {
        "id": "K2PAhD-_N_ur",
        "colab": {
          "base_uri": "https://localhost:8080/",
          "height": 340
        },
        "outputId": "6678a7be-a343-4ec7-9c21-ff0288637927"
      },
      "execution_count": 27,
      "outputs": [
        {
          "output_type": "execute_result",
          "data": {
            "text/plain": [
              "           movie_id                                 genres  \\\n",
              "0        feast-2014  \"Animation\",\"Comedy\",\"Drama\",\"Family\"   \n",
              "1       loving-2016                      \"Romance\",\"Drama\"   \n",
              "2  scripted-content                               \"Comedy\"   \n",
              "3        the-future            \"Drama\",\"Fantasy\",\"Romance\"   \n",
              "4              mank                      \"Drama\",\"History\"   \n",
              "\n",
              "   user_rating_for_movie  u_num_reviews     user_id  movie_popularity  \\\n",
              "0                      7         1650.0  deathproof             9.260   \n",
              "1                      7         1650.0  deathproof            18.024   \n",
              "2                      7         1650.0  deathproof             1.400   \n",
              "3                      4         1650.0  deathproof             5.208   \n",
              "4                      5         1650.0  deathproof            16.331   \n",
              "\n",
              "        movie_title  Animation  Comedy  Drama  Family  Romance  Fantasy  \\\n",
              "0             Feast          1       1      1       1        0        0   \n",
              "1            Loving          0       0      1       0        1        0   \n",
              "2  Scripted Content          0       1      0       0        0        0   \n",
              "3        The Future          0       0      1       0        1        1   \n",
              "4              Mank          0       0      1       0        0        0   \n",
              "\n",
              "   History  Science Fiction  Horror  Thriller  Crime  Mystery  Music  Action  \\\n",
              "0        0                0       0         0      0        0      0       0   \n",
              "1        0                0       0         0      0        0      0       0   \n",
              "2        0                0       0         0      0        0      0       0   \n",
              "3        0                0       0         0      0        0      0       0   \n",
              "4        1                0       0         0      0        0      0       0   \n",
              "\n",
              "   Adventure  TV Movie  Documentary  War  Western  \n",
              "0          0         0            0    0        0  \n",
              "1          0         0            0    0        0  \n",
              "2          0         0            0    0        0  \n",
              "3          0         0            0    0        0  \n",
              "4          0         0            0    0        0  "
            ],
            "text/html": [
              "\n",
              "  <div id=\"df-1e29fb9e-8576-4ffc-850f-6adcbb4f6bb9\">\n",
              "    <div class=\"colab-df-container\">\n",
              "      <div>\n",
              "<style scoped>\n",
              "    .dataframe tbody tr th:only-of-type {\n",
              "        vertical-align: middle;\n",
              "    }\n",
              "\n",
              "    .dataframe tbody tr th {\n",
              "        vertical-align: top;\n",
              "    }\n",
              "\n",
              "    .dataframe thead th {\n",
              "        text-align: right;\n",
              "    }\n",
              "</style>\n",
              "<table border=\"1\" class=\"dataframe\">\n",
              "  <thead>\n",
              "    <tr style=\"text-align: right;\">\n",
              "      <th></th>\n",
              "      <th>movie_id</th>\n",
              "      <th>genres</th>\n",
              "      <th>user_rating_for_movie</th>\n",
              "      <th>u_num_reviews</th>\n",
              "      <th>user_id</th>\n",
              "      <th>movie_popularity</th>\n",
              "      <th>movie_title</th>\n",
              "      <th>Animation</th>\n",
              "      <th>Comedy</th>\n",
              "      <th>Drama</th>\n",
              "      <th>Family</th>\n",
              "      <th>Romance</th>\n",
              "      <th>Fantasy</th>\n",
              "      <th>History</th>\n",
              "      <th>Science Fiction</th>\n",
              "      <th>Horror</th>\n",
              "      <th>Thriller</th>\n",
              "      <th>Crime</th>\n",
              "      <th>Mystery</th>\n",
              "      <th>Music</th>\n",
              "      <th>Action</th>\n",
              "      <th>Adventure</th>\n",
              "      <th>TV Movie</th>\n",
              "      <th>Documentary</th>\n",
              "      <th>War</th>\n",
              "      <th>Western</th>\n",
              "    </tr>\n",
              "  </thead>\n",
              "  <tbody>\n",
              "    <tr>\n",
              "      <th>0</th>\n",
              "      <td>feast-2014</td>\n",
              "      <td>\"Animation\",\"Comedy\",\"Drama\",\"Family\"</td>\n",
              "      <td>7</td>\n",
              "      <td>1650.0</td>\n",
              "      <td>deathproof</td>\n",
              "      <td>9.260</td>\n",
              "      <td>Feast</td>\n",
              "      <td>1</td>\n",
              "      <td>1</td>\n",
              "      <td>1</td>\n",
              "      <td>1</td>\n",
              "      <td>0</td>\n",
              "      <td>0</td>\n",
              "      <td>0</td>\n",
              "      <td>0</td>\n",
              "      <td>0</td>\n",
              "      <td>0</td>\n",
              "      <td>0</td>\n",
              "      <td>0</td>\n",
              "      <td>0</td>\n",
              "      <td>0</td>\n",
              "      <td>0</td>\n",
              "      <td>0</td>\n",
              "      <td>0</td>\n",
              "      <td>0</td>\n",
              "      <td>0</td>\n",
              "    </tr>\n",
              "    <tr>\n",
              "      <th>1</th>\n",
              "      <td>loving-2016</td>\n",
              "      <td>\"Romance\",\"Drama\"</td>\n",
              "      <td>7</td>\n",
              "      <td>1650.0</td>\n",
              "      <td>deathproof</td>\n",
              "      <td>18.024</td>\n",
              "      <td>Loving</td>\n",
              "      <td>0</td>\n",
              "      <td>0</td>\n",
              "      <td>1</td>\n",
              "      <td>0</td>\n",
              "      <td>1</td>\n",
              "      <td>0</td>\n",
              "      <td>0</td>\n",
              "      <td>0</td>\n",
              "      <td>0</td>\n",
              "      <td>0</td>\n",
              "      <td>0</td>\n",
              "      <td>0</td>\n",
              "      <td>0</td>\n",
              "      <td>0</td>\n",
              "      <td>0</td>\n",
              "      <td>0</td>\n",
              "      <td>0</td>\n",
              "      <td>0</td>\n",
              "      <td>0</td>\n",
              "    </tr>\n",
              "    <tr>\n",
              "      <th>2</th>\n",
              "      <td>scripted-content</td>\n",
              "      <td>\"Comedy\"</td>\n",
              "      <td>7</td>\n",
              "      <td>1650.0</td>\n",
              "      <td>deathproof</td>\n",
              "      <td>1.400</td>\n",
              "      <td>Scripted Content</td>\n",
              "      <td>0</td>\n",
              "      <td>1</td>\n",
              "      <td>0</td>\n",
              "      <td>0</td>\n",
              "      <td>0</td>\n",
              "      <td>0</td>\n",
              "      <td>0</td>\n",
              "      <td>0</td>\n",
              "      <td>0</td>\n",
              "      <td>0</td>\n",
              "      <td>0</td>\n",
              "      <td>0</td>\n",
              "      <td>0</td>\n",
              "      <td>0</td>\n",
              "      <td>0</td>\n",
              "      <td>0</td>\n",
              "      <td>0</td>\n",
              "      <td>0</td>\n",
              "      <td>0</td>\n",
              "    </tr>\n",
              "    <tr>\n",
              "      <th>3</th>\n",
              "      <td>the-future</td>\n",
              "      <td>\"Drama\",\"Fantasy\",\"Romance\"</td>\n",
              "      <td>4</td>\n",
              "      <td>1650.0</td>\n",
              "      <td>deathproof</td>\n",
              "      <td>5.208</td>\n",
              "      <td>The Future</td>\n",
              "      <td>0</td>\n",
              "      <td>0</td>\n",
              "      <td>1</td>\n",
              "      <td>0</td>\n",
              "      <td>1</td>\n",
              "      <td>1</td>\n",
              "      <td>0</td>\n",
              "      <td>0</td>\n",
              "      <td>0</td>\n",
              "      <td>0</td>\n",
              "      <td>0</td>\n",
              "      <td>0</td>\n",
              "      <td>0</td>\n",
              "      <td>0</td>\n",
              "      <td>0</td>\n",
              "      <td>0</td>\n",
              "      <td>0</td>\n",
              "      <td>0</td>\n",
              "      <td>0</td>\n",
              "    </tr>\n",
              "    <tr>\n",
              "      <th>4</th>\n",
              "      <td>mank</td>\n",
              "      <td>\"Drama\",\"History\"</td>\n",
              "      <td>5</td>\n",
              "      <td>1650.0</td>\n",
              "      <td>deathproof</td>\n",
              "      <td>16.331</td>\n",
              "      <td>Mank</td>\n",
              "      <td>0</td>\n",
              "      <td>0</td>\n",
              "      <td>1</td>\n",
              "      <td>0</td>\n",
              "      <td>0</td>\n",
              "      <td>0</td>\n",
              "      <td>1</td>\n",
              "      <td>0</td>\n",
              "      <td>0</td>\n",
              "      <td>0</td>\n",
              "      <td>0</td>\n",
              "      <td>0</td>\n",
              "      <td>0</td>\n",
              "      <td>0</td>\n",
              "      <td>0</td>\n",
              "      <td>0</td>\n",
              "      <td>0</td>\n",
              "      <td>0</td>\n",
              "      <td>0</td>\n",
              "    </tr>\n",
              "  </tbody>\n",
              "</table>\n",
              "</div>\n",
              "      <button class=\"colab-df-convert\" onclick=\"convertToInteractive('df-1e29fb9e-8576-4ffc-850f-6adcbb4f6bb9')\"\n",
              "              title=\"Convert this dataframe to an interactive table.\"\n",
              "              style=\"display:none;\">\n",
              "        \n",
              "  <svg xmlns=\"http://www.w3.org/2000/svg\" height=\"24px\"viewBox=\"0 0 24 24\"\n",
              "       width=\"24px\">\n",
              "    <path d=\"M0 0h24v24H0V0z\" fill=\"none\"/>\n",
              "    <path d=\"M18.56 5.44l.94 2.06.94-2.06 2.06-.94-2.06-.94-.94-2.06-.94 2.06-2.06.94zm-11 1L8.5 8.5l.94-2.06 2.06-.94-2.06-.94L8.5 2.5l-.94 2.06-2.06.94zm10 10l.94 2.06.94-2.06 2.06-.94-2.06-.94-.94-2.06-.94 2.06-2.06.94z\"/><path d=\"M17.41 7.96l-1.37-1.37c-.4-.4-.92-.59-1.43-.59-.52 0-1.04.2-1.43.59L10.3 9.45l-7.72 7.72c-.78.78-.78 2.05 0 2.83L4 21.41c.39.39.9.59 1.41.59.51 0 1.02-.2 1.41-.59l7.78-7.78 2.81-2.81c.8-.78.8-2.07 0-2.86zM5.41 20L4 18.59l7.72-7.72 1.47 1.35L5.41 20z\"/>\n",
              "  </svg>\n",
              "      </button>\n",
              "      \n",
              "  <style>\n",
              "    .colab-df-container {\n",
              "      display:flex;\n",
              "      flex-wrap:wrap;\n",
              "      gap: 12px;\n",
              "    }\n",
              "\n",
              "    .colab-df-convert {\n",
              "      background-color: #E8F0FE;\n",
              "      border: none;\n",
              "      border-radius: 50%;\n",
              "      cursor: pointer;\n",
              "      display: none;\n",
              "      fill: #1967D2;\n",
              "      height: 32px;\n",
              "      padding: 0 0 0 0;\n",
              "      width: 32px;\n",
              "    }\n",
              "\n",
              "    .colab-df-convert:hover {\n",
              "      background-color: #E2EBFA;\n",
              "      box-shadow: 0px 1px 2px rgba(60, 64, 67, 0.3), 0px 1px 3px 1px rgba(60, 64, 67, 0.15);\n",
              "      fill: #174EA6;\n",
              "    }\n",
              "\n",
              "    [theme=dark] .colab-df-convert {\n",
              "      background-color: #3B4455;\n",
              "      fill: #D2E3FC;\n",
              "    }\n",
              "\n",
              "    [theme=dark] .colab-df-convert:hover {\n",
              "      background-color: #434B5C;\n",
              "      box-shadow: 0px 1px 3px 1px rgba(0, 0, 0, 0.15);\n",
              "      filter: drop-shadow(0px 1px 2px rgba(0, 0, 0, 0.3));\n",
              "      fill: #FFFFFF;\n",
              "    }\n",
              "  </style>\n",
              "\n",
              "      <script>\n",
              "        const buttonEl =\n",
              "          document.querySelector('#df-1e29fb9e-8576-4ffc-850f-6adcbb4f6bb9 button.colab-df-convert');\n",
              "        buttonEl.style.display =\n",
              "          google.colab.kernel.accessAllowed ? 'block' : 'none';\n",
              "\n",
              "        async function convertToInteractive(key) {\n",
              "          const element = document.querySelector('#df-1e29fb9e-8576-4ffc-850f-6adcbb4f6bb9');\n",
              "          const dataTable =\n",
              "            await google.colab.kernel.invokeFunction('convertToInteractive',\n",
              "                                                     [key], {});\n",
              "          if (!dataTable) return;\n",
              "\n",
              "          const docLinkHtml = 'Like what you see? Visit the ' +\n",
              "            '<a target=\"_blank\" href=https://colab.research.google.com/notebooks/data_table.ipynb>data table notebook</a>'\n",
              "            + ' to learn more about interactive tables.';\n",
              "          element.innerHTML = '';\n",
              "          dataTable['output_type'] = 'display_data';\n",
              "          await google.colab.output.renderOutput(dataTable, element);\n",
              "          const docLink = document.createElement('div');\n",
              "          docLink.innerHTML = docLinkHtml;\n",
              "          element.appendChild(docLink);\n",
              "        }\n",
              "      </script>\n",
              "    </div>\n",
              "  </div>\n",
              "  "
            ]
          },
          "metadata": {},
          "execution_count": 27
        }
      ]
    },
    {
      "cell_type": "markdown",
      "source": [
        "Let's try to plot this."
      ],
      "metadata": {
        "id": "5mDa7YioCsdz"
      }
    },
    {
      "cell_type": "code",
      "source": [
        "#how many movies in each genre\n",
        "#note that movies can be listed with multiple genres\n",
        "\n",
        "fig, ((ax1, ax2), (ax3, ax4), (ax5, ax6), (ax7, ax8)) = plt.subplots(4, 2)\n",
        "\n",
        "fig.set_figheight(15)\n",
        "fig.set_figwidth(15)\n",
        "\n",
        "sns.countplot(data=uniq_movies, x=uniq_movies['Animation'], ax = ax1)\n",
        "ax1.set_title('Animation')\n",
        "sns.countplot(data=uniq_movies, x=uniq_movies['Comedy'], ax = ax2)\n",
        "ax2.set_title('Comedy')\n",
        "sns.countplot(data=uniq_movies, x=uniq_movies['Drama'], ax = ax3)\n",
        "ax3.set_title('Drama')\n",
        "sns.countplot(data=uniq_movies, x=uniq_movies['Family'], ax = ax4)\n",
        "ax4.set_title('Family')\n",
        "sns.countplot(data=uniq_movies, x=uniq_movies['Romance'], ax = ax5)\n",
        "ax5.set_title('Romance')\n",
        "sns.countplot(data=uniq_movies, x=uniq_movies['Fantasy'], ax = ax6)\n",
        "ax6.set_title('Fantasy')\n",
        "sns.countplot(data=uniq_movies, x=uniq_movies['History'], ax = ax7)\n",
        "ax7.set_title('History')\n",
        "sns.countplot(data=uniq_movies, x=uniq_movies['Science Fiction'], ax = ax8)\n",
        "ax8.set_title('Science Fiction')\n",
        "\n",
        "for ax in fig.get_axes():\n",
        "    ax.label_outer()"
      ],
      "metadata": {
        "id": "a7Rx5tZJT1uu",
        "colab": {
          "base_uri": "https://localhost:8080/",
          "height": 893
        },
        "outputId": "ede32fcf-6534-40a3-c3a2-838183cbeaac"
      },
      "execution_count": 28,
      "outputs": [
        {
          "output_type": "display_data",
          "data": {
            "text/plain": [
              "<Figure size 1080x1080 with 8 Axes>"
            ],
            "image/png": "[encoded data removed]"
          },
          "metadata": {
            "needs_background": "light"
          }
        }
      ]
    },
    {
      "cell_type": "code",
      "source": [
        "fig, ((ax1, ax2), (ax3, ax4), (ax5, ax6), (ax7, ax8)) = plt.subplots(4, 2)\n",
        "\n",
        "fig.set_figheight(15)\n",
        "fig.set_figwidth(15)\n",
        "\n",
        "sns.countplot(data=uniq_movies, x=uniq_movies['Horror'], ax = ax1)\n",
        "ax1.set_title('Horror')\n",
        "sns.countplot(data=uniq_movies, x=uniq_movies['Thriller'], ax = ax2)\n",
        "ax2.set_title('Thriller')\n",
        "sns.countplot(data=uniq_movies, x=uniq_movies['Crime'], ax = ax3)\n",
        "ax3.set_title('Crime')\n",
        "sns.countplot(data=uniq_movies, x=uniq_movies['Mystery'], ax = ax4)\n",
        "ax4.set_title('Mystery')\n",
        "sns.countplot(data=uniq_movies, x=uniq_movies['Music'], ax = ax5)\n",
        "ax5.set_title('Music')\n",
        "sns.countplot(data=uniq_movies, x=uniq_movies['Action'], ax = ax6)\n",
        "ax6.set_title('Action')\n",
        "sns.countplot(data=uniq_movies, x=uniq_movies['Adventure'], ax = ax7)\n",
        "ax7.set_title('Adventure')\n",
        "sns.countplot(data=uniq_movies, x=uniq_movies['TV Movie'], ax = ax8)\n",
        "ax8.set_title('TV Movie')\n",
        "sns.countplot(data=uniq_movies, x=uniq_movies['Documentary'], ax = ax7)\n",
        "ax7.set_title('Documentary')\n",
        "sns.countplot(data=uniq_movies, x=uniq_movies['War'], ax = ax8)\n",
        "ax8.set_title('War')\n",
        "\n",
        "for ax in fig.get_axes():\n",
        "    ax.label_outer()"
      ],
      "metadata": {
        "id": "CVqN_AIqYqbu",
        "colab": {
          "base_uri": "https://localhost:8080/",
          "height": 893
        },
        "outputId": "41e972ba-1467-42d2-89cc-b7cea2947d13"
      },
      "execution_count": 29,
      "outputs": [
        {
          "output_type": "display_data",
          "data": {
            "text/plain": [
              "<Figure size 1080x1080 with 8 Axes>"
            ],
            "image/png": "[encoded data removed]"
          },
          "metadata": {
            "needs_background": "light"
          }
        }
      ]
    },
    {
      "cell_type": "code",
      "source": [
        "sns.countplot(data=uniq_movies, x=uniq_movies['Western'])\n",
        "ax1.set_title('Western')"
      ],
      "metadata": {
        "id": "26RboUdAZJ-8",
        "colab": {
          "base_uri": "https://localhost:8080/",
          "height": 296
        },
        "outputId": "5823b000-36a3-400e-8075-cecfeb3a148b"
      },
      "execution_count": 30,
      "outputs": [
        {
          "output_type": "execute_result",
          "data": {
            "text/plain": [
              "Text(0.5, 1.0, 'Western')"
            ]
          },
          "metadata": {},
          "execution_count": 30
        },
        {
          "output_type": "display_data",
          "data": {
            "text/plain": [
              "<Figure size 432x288 with 1 Axes>"
            ],
            "image/png": "[encoded data removed]"
          },
          "metadata": {
            "needs_background": "light"
          }
        }
      ]
    },
    {
      "cell_type": "markdown",
      "source": [
        "Now, what are the average ratings for each genre?"
      ],
      "metadata": {
        "id": "I4QV9mf9d-YQ"
      }
    },
    {
      "cell_type": "code",
      "source": [
        "#average ratings per genre\n",
        "genres_list = ['Animation', 'Comedy', 'Drama', 'Family', 'Romance', 'Fantasy', 'History', 'Science Fiction', 'Horror', 'Thriller', 'Crime', 'Mystery', 'Music', 'Action', 'Adventure', 'TV Movie', 'Documentary', 'War', 'Western']\n",
        "\n",
        "for x in genres_list:\n",
        "  print('Genre:', x)\n",
        "  print('Average User Ratings:', uniq_movies[uniq_movies[x]==1]['user_rating_for_movie'].mean())\n",
        "  print('Average Movie Popularity:', uniq_movies[uniq_movies[x]==1]['movie_popularity'].mean())\n",
        "  print('------')"
      ],
      "metadata": {
        "id": "lGxT08WyTUaz",
        "colab": {
          "base_uri": "https://localhost:8080/"
        },
        "outputId": "71071905-2017-4c29-ce81-1b4f1f902576"
      },
      "execution_count": 31,
      "outputs": [
        {
          "output_type": "stream",
          "name": "stdout",
          "text": [
            "Genre: Animation\n",
            "Average User Ratings: 5.853094462540716\n",
            "Average Movie Popularity: 6.35168332247557\n",
            "------\n",
            "Genre: Comedy\n",
            "Average User Ratings: 5.385046728971963\n",
            "Average Movie Popularity: 4.563979479449301\n",
            "------\n",
            "Genre: Drama\n",
            "Average User Ratings: 5.773498614315554\n",
            "Average Movie Popularity: 3.3437347404060125\n",
            "------\n",
            "Genre: Family\n",
            "Average User Ratings: 5.136668334167084\n",
            "Average Movie Popularity: 8.890493246623311\n",
            "------\n",
            "Genre: Romance\n",
            "Average User Ratings: 5.485849762914899\n",
            "Average Movie Popularity: 4.2828593960568995\n",
            "------\n",
            "Genre: Fantasy\n",
            "Average User Ratings: 5.624715875104678\n",
            "Average Movie Popularity: 9.86697033137935\n",
            "------\n",
            "Genre: History\n",
            "Average User Ratings: 6.00082355363393\n",
            "Average Movie Popularity: 4.285545810170888\n",
            "------\n",
            "Genre: Science Fiction\n",
            "Average User Ratings: 5.308251900108577\n",
            "Average Movie Popularity: 10.190522258414767\n",
            "------\n",
            "Genre: Horror\n",
            "Average User Ratings: 4.975012543903663\n",
            "Average Movie Popularity: 4.690081033617662\n",
            "------\n",
            "Genre: Thriller\n",
            "Average User Ratings: 5.152968579170034\n",
            "Average Movie Popularity: 7.646751247801491\n",
            "------\n",
            "Genre: Crime\n",
            "Average User Ratings: 5.59935014480469\n",
            "Average Movie Popularity: 5.938315886134068\n",
            "------\n",
            "Genre: Mystery\n",
            "Average User Ratings: 5.470762493560021\n",
            "Average Movie Popularity: 5.489224755280783\n",
            "------\n",
            "Genre: Music\n",
            "Average User Ratings: 6.1649119037387194\n",
            "Average Movie Popularity: 2.928829071766222\n",
            "------\n",
            "Genre: Action\n",
            "Average User Ratings: 5.27697558414282\n",
            "Average Movie Popularity: 10.167586768180625\n",
            "------\n",
            "Genre: Adventure\n",
            "Average User Ratings: 5.278262594208647\n",
            "Average Movie Popularity: 13.065682368107895\n",
            "------\n",
            "Genre: TV Movie\n",
            "Average User Ratings: 5.196583477912719\n",
            "Average Movie Popularity: 3.3081681569464836\n",
            "------\n",
            "Genre: Documentary\n",
            "Average User Ratings: 6.24009827030975\n",
            "Average Movie Popularity: 1.5716882573619735\n",
            "------\n",
            "Genre: War\n",
            "Average User Ratings: 5.696232713400096\n",
            "Average Movie Popularity: 3.7100257510729615\n",
            "------\n",
            "Genre: Western\n",
            "Average User Ratings: 5.102074108599394\n",
            "Average Movie Popularity: 3.464097413190399\n",
            "------\n"
          ]
        }
      ]
    },
    {
      "cell_type": "markdown",
      "source": [
        "Documentaries have the highest average user rating given to a movie at 6.24 while Horror movies have the lowest at 4.98. \n",
        "<br>\n",
        "Documentaries also have the lowest movie popularity (numeric popularity of a movie(from TMDB)) at 1.57 while Adventure movies are the most popular at 13.7. "
      ],
      "metadata": {
        "id": "aaPKYsNppBxx"
      }
    },
    {
      "cell_type": "markdown",
      "source": [
        "### CDF of Number of Reviews Per Unique User"
      ],
      "metadata": {
        "id": "QzInnr94Wi8O"
      }
    },
    {
      "cell_type": "code",
      "source": [
        "uniq_users = df.drop_duplicates(subset='user_id')"
      ],
      "metadata": {
        "id": "gIPvqaOE2WXv"
      },
      "execution_count": 32,
      "outputs": []
    },
    {
      "cell_type": "code",
      "source": [
        "uniq_users.head()"
      ],
      "metadata": {
        "colab": {
          "base_uri": "https://localhost:8080/",
          "height": 565
        },
        "id": "G9mpetXQ2e5X",
        "outputId": "ab51f4bd-dde5-4b30-a687-8385d75f79a6"
      },
      "execution_count": 33,
      "outputs": [
        {
          "output_type": "execute_result",
          "data": {
            "text/plain": [
              "                                        movie_id  user_rating_for_movie  \\\n",
              "0                                     feast-2014                      7   \n",
              "1012       the-spongebob-movie-sponge-on-the-run                      4   \n",
              "2006                             happiest-season                      7   \n",
              "4002  how-did-they-ever-make-a-movie-of-facebook                     10   \n",
              "4975                                     twister                      6   \n",
              "\n",
              "             user_id user_display_name  u_num_ratings_pages  u_num_reviews  \\\n",
              "0         deathproof              Lucy                 32.0         1650.0   \n",
              "1012        kurstboy           karsten                 20.0         1147.0   \n",
              "2006    davidehrlich      davidehrlich                 33.0         2113.0   \n",
              "4002    adrianbalboa      adrianbalboa                  1.0          975.0   \n",
              "4975  ingridgoeswest      #1 gizmo fan                 32.0         1142.0   \n",
              "\n",
              "                                                 genres  \\\n",
              "0               [\"Animation\",\"Comedy\",\"Drama\",\"Family\"]   \n",
              "1012  [\"Family\",\"Animation\",\"Fantasy\",\"Adventure\",\"C...   \n",
              "2006                               [\"Romance\",\"Comedy\"]   \n",
              "4002                                    [\"Documentary\"]   \n",
              "4975                     [\"Action\",\"Adventure\",\"Drama\"]   \n",
              "\n",
              "                                              image_url    imdb_id  \\\n",
              "0     film-poster/2/2/0/1/9/2/220192-feast-0-230-0-3...  tt3689498   \n",
              "1012  film-poster/3/3/4/2/6/8/334268-the-spongebob-m...  tt4823776   \n",
              "2006  film-poster/4/4/9/7/7/1/449771-happiest-season...  tt8522006   \n",
              "4002  film-poster/1/1/5/7/4/8/115748-how-did-they-ev...  tt1859505   \n",
              "4975  film-poster/5/1/4/6/0/51460-twister-0-230-0-34...  tt0117998   \n",
              "\n",
              "                                            imdb_link  \\\n",
              "0     http://www.imdb.com/title/tt3689498/maindetails   \n",
              "1012  http://www.imdb.com/title/tt4823776/maindetails   \n",
              "2006  http://www.imdb.com/title/tt8522006/maindetails   \n",
              "4002  http://www.imdb.com/title/tt1859505/maindetails   \n",
              "4975  http://www.imdb.com/title/tt0117998/maindetails   \n",
              "\n",
              "                                      movie_title original_language  \\\n",
              "0                                           Feast                en   \n",
              "1012       The SpongeBob Movie: Sponge on the Run                en   \n",
              "2006                              Happiest Season                en   \n",
              "4002  How Did They Ever Make a Movie of Facebook?                en   \n",
              "4975                                      Twister                en   \n",
              "\n",
              "                                         movie_overview  movie_popularity  \\\n",
              "0     This Oscar-winning animated short film tells t...             9.260   \n",
              "1012  When his best friend Gary is suddenly snatched...           195.324   \n",
              "2006  A young woman's plans to propose to her girlfr...            21.250   \n",
              "4002  This feature-length documentary about the maki...             3.217   \n",
              "4975  An unprecedented series of violent tornadoes i...            17.744   \n",
              "\n",
              "                            production_countries  days_since_movie_release  \\\n",
              "0                   [\"United States of America\"]                    2879.0   \n",
              "1012  [\"South Korea\",\"United States of America\"]                     759.0   \n",
              "2006                [\"United States of America\"]                     655.0   \n",
              "4002                [\"United States of America\"]                    4262.0   \n",
              "4975                [\"United States of America\"]                    9621.0   \n",
              "\n",
              "      runtime spoken_languages   tmdb_id  \\\n",
              "0         6.0      [\"English\"]  293299.0   \n",
              "1012     95.0      [\"English\"]  400160.0   \n",
              "2006    102.0      [\"English\"]  520172.0   \n",
              "4002     93.0      [\"English\"]  154352.0   \n",
              "4975    113.0      [\"English\"]     664.0   \n",
              "\n",
              "                                     tmdb_link  avg_votes_for_movie  \\\n",
              "0     https://www.themoviedb.org/movie/293299/                  7.9   \n",
              "1012  https://www.themoviedb.org/movie/400160/                  7.7   \n",
              "2006  https://www.themoviedb.org/movie/520172/                  7.5   \n",
              "4002  https://www.themoviedb.org/movie/154352/                  7.2   \n",
              "4975     https://www.themoviedb.org/movie/664/                  6.4   \n",
              "\n",
              "      vote_count_for_movie  year_released  \n",
              "0                    720.0         2014.0  \n",
              "1012                2343.0         2020.0  \n",
              "2006                 667.0         2020.0  \n",
              "4002                  14.0         2011.0  \n",
              "4975                2396.0         1996.0  "
            ],
            "text/html": [
              "\n",
              "  <div id=\"df-00d7df04-1de7-420f-af9f-db962aa4dfd1\">\n",
              "    <div class=\"colab-df-container\">\n",
              "      <div>\n",
              "<style scoped>\n",
              "    .dataframe tbody tr th:only-of-type {\n",
              "        vertical-align: middle;\n",
              "    }\n",
              "\n",
              "    .dataframe tbody tr th {\n",
              "        vertical-align: top;\n",
              "    }\n",
              "\n",
              "    .dataframe thead th {\n",
              "        text-align: right;\n",
              "    }\n",
              "</style>\n",
              "<table border=\"1\" class=\"dataframe\">\n",
              "  <thead>\n",
              "    <tr style=\"text-align: right;\">\n",
              "      <th></th>\n",
              "      <th>movie_id</th>\n",
              "      <th>user_rating_for_movie</th>\n",
              "      <th>user_id</th>\n",
              "      <th>user_display_name</th>\n",
              "      <th>u_num_ratings_pages</th>\n",
              "      <th>u_num_reviews</th>\n",
              "      <th>genres</th>\n",
              "      <th>image_url</th>\n",
              "      <th>imdb_id</th>\n",
              "      <th>imdb_link</th>\n",
              "      <th>movie_title</th>\n",
              "      <th>original_language</th>\n",
              "      <th>movie_overview</th>\n",
              "      <th>movie_popularity</th>\n",
              "      <th>production_countries</th>\n",
              "      <th>days_since_movie_release</th>\n",
              "      <th>runtime</th>\n",
              "      <th>spoken_languages</th>\n",
              "      <th>tmdb_id</th>\n",
              "      <th>tmdb_link</th>\n",
              "      <th>avg_votes_for_movie</th>\n",
              "      <th>vote_count_for_movie</th>\n",
              "      <th>year_released</th>\n",
              "    </tr>\n",
              "  </thead>\n",
              "  <tbody>\n",
              "    <tr>\n",
              "      <th>0</th>\n",
              "      <td>feast-2014</td>\n",
              "      <td>7</td>\n",
              "      <td>deathproof</td>\n",
              "      <td>Lucy</td>\n",
              "      <td>32.0</td>\n",
              "      <td>1650.0</td>\n",
              "      <td>[\"Animation\",\"Comedy\",\"Drama\",\"Family\"]</td>\n",
              "      <td>film-poster/2/2/0/1/9/2/220192-feast-0-230-0-3...</td>\n",
              "      <td>tt3689498</td>\n",
              "      <td>http://www.imdb.com/title/tt3689498/maindetails</td>\n",
              "      <td>Feast</td>\n",
              "      <td>en</td>\n",
              "      <td>This Oscar-winning animated short film tells t...</td>\n",
              "      <td>9.260</td>\n",
              "      <td>[\"United States of America\"]</td>\n",
              "      <td>2879.0</td>\n",
              "      <td>6.0</td>\n",
              "      <td>[\"English\"]</td>\n",
              "      <td>293299.0</td>\n",
              "      <td>https://www.themoviedb.org/movie/293299/</td>\n",
              "      <td>7.9</td>\n",
              "      <td>720.0</td>\n",
              "      <td>2014.0</td>\n",
              "    </tr>\n",
              "    <tr>\n",
              "      <th>1012</th>\n",
              "      <td>the-spongebob-movie-sponge-on-the-run</td>\n",
              "      <td>4</td>\n",
              "      <td>kurstboy</td>\n",
              "      <td>karsten</td>\n",
              "      <td>20.0</td>\n",
              "      <td>1147.0</td>\n",
              "      <td>[\"Family\",\"Animation\",\"Fantasy\",\"Adventure\",\"C...</td>\n",
              "      <td>film-poster/3/3/4/2/6/8/334268-the-spongebob-m...</td>\n",
              "      <td>tt4823776</td>\n",
              "      <td>http://www.imdb.com/title/tt4823776/maindetails</td>\n",
              "      <td>The SpongeBob Movie: Sponge on the Run</td>\n",
              "      <td>en</td>\n",
              "      <td>When his best friend Gary is suddenly snatched...</td>\n",
              "      <td>195.324</td>\n",
              "      <td>[\"South Korea\",\"United States of America\"]</td>\n",
              "      <td>759.0</td>\n",
              "      <td>95.0</td>\n",
              "      <td>[\"English\"]</td>\n",
              "      <td>400160.0</td>\n",
              "      <td>https://www.themoviedb.org/movie/400160/</td>\n",
              "      <td>7.7</td>\n",
              "      <td>2343.0</td>\n",
              "      <td>2020.0</td>\n",
              "    </tr>\n",
              "    <tr>\n",
              "      <th>2006</th>\n",
              "      <td>happiest-season</td>\n",
              "      <td>7</td>\n",
              "      <td>davidehrlich</td>\n",
              "      <td>davidehrlich</td>\n",
              "      <td>33.0</td>\n",
              "      <td>2113.0</td>\n",
              "      <td>[\"Romance\",\"Comedy\"]</td>\n",
              "      <td>film-poster/4/4/9/7/7/1/449771-happiest-season...</td>\n",
              "      <td>tt8522006</td>\n",
              "      <td>http://www.imdb.com/title/tt8522006/maindetails</td>\n",
              "      <td>Happiest Season</td>\n",
              "      <td>en</td>\n",
              "      <td>A young woman's plans to propose to her girlfr...</td>\n",
              "      <td>21.250</td>\n",
              "      <td>[\"United States of America\"]</td>\n",
              "      <td>655.0</td>\n",
              "      <td>102.0</td>\n",
              "      <td>[\"English\"]</td>\n",
              "      <td>520172.0</td>\n",
              "      <td>https://www.themoviedb.org/movie/520172/</td>\n",
              "      <td>7.5</td>\n",
              "      <td>667.0</td>\n",
              "      <td>2020.0</td>\n",
              "    </tr>\n",
              "    <tr>\n",
              "      <th>4002</th>\n",
              "      <td>how-did-they-ever-make-a-movie-of-facebook</td>\n",
              "      <td>10</td>\n",
              "      <td>adrianbalboa</td>\n",
              "      <td>adrianbalboa</td>\n",
              "      <td>1.0</td>\n",
              "      <td>975.0</td>\n",
              "      <td>[\"Documentary\"]</td>\n",
              "      <td>film-poster/1/1/5/7/4/8/115748-how-did-they-ev...</td>\n",
              "      <td>tt1859505</td>\n",
              "      <td>http://www.imdb.com/title/tt1859505/maindetails</td>\n",
              "      <td>How Did They Ever Make a Movie of Facebook?</td>\n",
              "      <td>en</td>\n",
              "      <td>This feature-length documentary about the maki...</td>\n",
              "      <td>3.217</td>\n",
              "      <td>[\"United States of America\"]</td>\n",
              "      <td>4262.0</td>\n",
              "      <td>93.0</td>\n",
              "      <td>[\"English\"]</td>\n",
              "      <td>154352.0</td>\n",
              "      <td>https://www.themoviedb.org/movie/154352/</td>\n",
              "      <td>7.2</td>\n",
              "      <td>14.0</td>\n",
              "      <td>2011.0</td>\n",
              "    </tr>\n",
              "    <tr>\n",
              "      <th>4975</th>\n",
              "      <td>twister</td>\n",
              "      <td>6</td>\n",
              "      <td>ingridgoeswest</td>\n",
              "      <td>#1 gizmo fan</td>\n",
              "      <td>32.0</td>\n",
              "      <td>1142.0</td>\n",
              "      <td>[\"Action\",\"Adventure\",\"Drama\"]</td>\n",
              "      <td>film-poster/5/1/4/6/0/51460-twister-0-230-0-34...</td>\n",
              "      <td>tt0117998</td>\n",
              "      <td>http://www.imdb.com/title/tt0117998/maindetails</td>\n",
              "      <td>Twister</td>\n",
              "      <td>en</td>\n",
              "      <td>An unprecedented series of violent tornadoes i...</td>\n",
              "      <td>17.744</td>\n",
              "      <td>[\"United States of America\"]</td>\n",
              "      <td>9621.0</td>\n",
              "      <td>113.0</td>\n",
              "      <td>[\"English\"]</td>\n",
              "      <td>664.0</td>\n",
              "      <td>https://www.themoviedb.org/movie/664/</td>\n",
              "      <td>6.4</td>\n",
              "      <td>2396.0</td>\n",
              "      <td>1996.0</td>\n",
              "    </tr>\n",
              "  </tbody>\n",
              "</table>\n",
              "</div>\n",
              "      <button class=\"colab-df-convert\" onclick=\"convertToInteractive('df-00d7df04-1de7-420f-af9f-db962aa4dfd1')\"\n",
              "              title=\"Convert this dataframe to an interactive table.\"\n",
              "              style=\"display:none;\">\n",
              "        \n",
              "  <svg xmlns=\"http://www.w3.org/2000/svg\" height=\"24px\"viewBox=\"0 0 24 24\"\n",
              "       width=\"24px\">\n",
              "    <path d=\"M0 0h24v24H0V0z\" fill=\"none\"/>\n",
              "    <path d=\"M18.56 5.44l.94 2.06.94-2.06 2.06-.94-2.06-.94-.94-2.06-.94 2.06-2.06.94zm-11 1L8.5 8.5l.94-2.06 2.06-.94-2.06-.94L8.5 2.5l-.94 2.06-2.06.94zm10 10l.94 2.06.94-2.06 2.06-.94-2.06-.94-.94-2.06-.94 2.06-2.06.94z\"/><path d=\"M17.41 7.96l-1.37-1.37c-.4-.4-.92-.59-1.43-.59-.52 0-1.04.2-1.43.59L10.3 9.45l-7.72 7.72c-.78.78-.78 2.05 0 2.83L4 21.41c.39.39.9.59 1.41.59.51 0 1.02-.2 1.41-.59l7.78-7.78 2.81-2.81c.8-.78.8-2.07 0-2.86zM5.41 20L4 18.59l7.72-7.72 1.47 1.35L5.41 20z\"/>\n",
              "  </svg>\n",
              "      </button>\n",
              "      \n",
              "  <style>\n",
              "    .colab-df-container {\n",
              "      display:flex;\n",
              "      flex-wrap:wrap;\n",
              "      gap: 12px;\n",
              "    }\n",
              "\n",
              "    .colab-df-convert {\n",
              "      background-color: #E8F0FE;\n",
              "      border: none;\n",
              "      border-radius: 50%;\n",
              "      cursor: pointer;\n",
              "      display: none;\n",
              "      fill: #1967D2;\n",
              "      height: 32px;\n",
              "      padding: 0 0 0 0;\n",
              "      width: 32px;\n",
              "    }\n",
              "\n",
              "    .colab-df-convert:hover {\n",
              "      background-color: #E2EBFA;\n",
              "      box-shadow: 0px 1px 2px rgba(60, 64, 67, 0.3), 0px 1px 3px 1px rgba(60, 64, 67, 0.15);\n",
              "      fill: #174EA6;\n",
              "    }\n",
              "\n",
              "    [theme=dark] .colab-df-convert {\n",
              "      background-color: #3B4455;\n",
              "      fill: #D2E3FC;\n",
              "    }\n",
              "\n",
              "    [theme=dark] .colab-df-convert:hover {\n",
              "      background-color: #434B5C;\n",
              "      box-shadow: 0px 1px 3px 1px rgba(0, 0, 0, 0.15);\n",
              "      filter: drop-shadow(0px 1px 2px rgba(0, 0, 0, 0.3));\n",
              "      fill: #FFFFFF;\n",
              "    }\n",
              "  </style>\n",
              "\n",
              "      <script>\n",
              "        const buttonEl =\n",
              "          document.querySelector('#df-00d7df04-1de7-420f-af9f-db962aa4dfd1 button.colab-df-convert');\n",
              "        buttonEl.style.display =\n",
              "          google.colab.kernel.accessAllowed ? 'block' : 'none';\n",
              "\n",
              "        async function convertToInteractive(key) {\n",
              "          const element = document.querySelector('#df-00d7df04-1de7-420f-af9f-db962aa4dfd1');\n",
              "          const dataTable =\n",
              "            await google.colab.kernel.invokeFunction('convertToInteractive',\n",
              "                                                     [key], {});\n",
              "          if (!dataTable) return;\n",
              "\n",
              "          const docLinkHtml = 'Like what you see? Visit the ' +\n",
              "            '<a target=\"_blank\" href=https://colab.research.google.com/notebooks/data_table.ipynb>data table notebook</a>'\n",
              "            + ' to learn more about interactive tables.';\n",
              "          element.innerHTML = '';\n",
              "          dataTable['output_type'] = 'display_data';\n",
              "          await google.colab.output.renderOutput(dataTable, element);\n",
              "          const docLink = document.createElement('div');\n",
              "          docLink.innerHTML = docLinkHtml;\n",
              "          element.appendChild(docLink);\n",
              "        }\n",
              "      </script>\n",
              "    </div>\n",
              "  </div>\n",
              "  "
            ]
          },
          "metadata": {},
          "execution_count": 33
        }
      ]
    },
    {
      "cell_type": "code",
      "source": [
        "uniq_users.shape"
      ],
      "metadata": {
        "colab": {
          "base_uri": "https://localhost:8080/"
        },
        "id": "hqB047IS2wfN",
        "outputId": "07c1db6b-035c-4c03-e8b0-99b72aa2f2a8"
      },
      "execution_count": 34,
      "outputs": [
        {
          "output_type": "execute_result",
          "data": {
            "text/plain": [
              "(7453, 23)"
            ]
          },
          "metadata": {},
          "execution_count": 34
        }
      ]
    },
    {
      "cell_type": "code",
      "source": [
        "#create a function to calculate ECDF\n",
        "\n",
        "def ecdf(data):\n",
        "    n = len(data) # Number of data points: n\n",
        "    x = np.sort(data) # x-data for the ECDF: x\n",
        "    y = np.arange(1, n+1) / n # y-data for the ECDF: y\n",
        "    return x, y"
      ],
      "metadata": {
        "id": "vKez8if9WilP"
      },
      "execution_count": 35,
      "outputs": []
    },
    {
      "cell_type": "markdown",
      "source": [
        "From Towards Data Science: \"The ECDF essentially allows you to plot a feature of your data in order from least to greatest and see the whole feature as if is distributed across the data set.\""
      ],
      "metadata": {
        "id": "IJXHFEcWaUv4"
      }
    },
    {
      "cell_type": "code",
      "source": [
        "fig, ax = plt.subplots()\n",
        "x,y = ecdf(uniq_users.u_num_reviews)\n",
        "ax.plot(x, y, marker = '.', linestyle='none',color='blue');\n",
        "ax.set_yticklabels(['{:.0%}'.format(x) for x in ax.get_yticks()])\n",
        "ax.set_xlabel('# of Ratings recieved per User');\n",
        "ax.set_ylabel('% of Total Number of Reviews Per User');\n",
        "ax.set_title('Cumulative Distribution Frequency of Number of Reviews Per User');"
      ],
      "metadata": {
        "colab": {
          "base_uri": "https://localhost:8080/",
          "height": 295
        },
        "id": "Rej2LndIaVko",
        "outputId": "5d0e363e-fa01-4abe-e919-5bb258a429d8"
      },
      "execution_count": 36,
      "outputs": [
        {
          "output_type": "display_data",
          "data": {
            "text/plain": [
              "<Figure size 432x288 with 1 Axes>"
            ],
            "image/png": "[encoded data removed]"
          },
          "metadata": {
            "needs_background": "light"
          }
        }
      ]
    },
    {
      "cell_type": "markdown",
      "source": [
        "Let's get rid of users who have who have written less than 10 reviews."
      ],
      "metadata": {
        "id": "8fq9CR4KtADj"
      }
    },
    {
      "cell_type": "code",
      "source": [
        "len(uniq_users[uniq_users['u_num_reviews'] < 10])"
      ],
      "metadata": {
        "colab": {
          "base_uri": "https://localhost:8080/"
        },
        "id": "JsEm8r44rz1D",
        "outputId": "119d1c65-4cb7-404b-c634-5975daf855a9"
      },
      "execution_count": 37,
      "outputs": [
        {
          "output_type": "execute_result",
          "data": {
            "text/plain": [
              "91"
            ]
          },
          "metadata": {},
          "execution_count": 37
        }
      ]
    },
    {
      "cell_type": "code",
      "source": [
        "df = df[df['u_num_reviews'] > 10]"
      ],
      "metadata": {
        "id": "e3-Ia8tbAtuZ"
      },
      "execution_count": 38,
      "outputs": []
    },
    {
      "cell_type": "markdown",
      "source": [
        "### Runtime & Ratings"
      ],
      "metadata": {
        "id": "d0r5Vy0LfljJ"
      }
    },
    {
      "cell_type": "code",
      "source": [
        "plt.figure(figsize=(10,10))\n",
        "ax = df['runtime'].groupby(by=df['user_rating_for_movie']).mean().plot(kind='bar')\n",
        "plt.ylabel('Average Runtime of Movie')\n",
        "plt.xlabel('Rating Given by Users (1-10 Scale)')\n",
        "plt.title('Distribution of Average Runtime of Movies By Ratings')\n",
        "\n",
        "#from: https://medium.com/swlh/quick-guide-to-labelling-data-for-common-seaborn-plots-736e10bf14a9\n",
        "# label each bar in histogram\n",
        "for p in ax.patches:\n",
        " height = p.get_height() # get the height of each bar\n",
        " # adding text to each bar\n",
        " ax.text(x = p.get_x()+(p.get_width()/2), # x-coordinate position of data label, padded to be in the middle of the bar\n",
        " y = height+0.2, # y-coordinate position of data label, padded 0.2 above bar\n",
        " s = '{:.0f}'.format(height), # data label, formatted to ignore decimals\n",
        " ha = 'center') # sets horizontal alignment (ha) to center\n",
        "\n",
        "plt.show()"
      ],
      "metadata": {
        "id": "aQrCpydbTZpq",
        "colab": {
          "base_uri": "https://localhost:8080/",
          "height": 624
        },
        "outputId": "1a2ad88f-19d3-4282-a187-6e2a2f377968"
      },
      "execution_count": 39,
      "outputs": [
        {
          "output_type": "display_data",
          "data": {
            "text/plain": [
              "<Figure size 720x720 with 1 Axes>"
            ],
            "image/png": "[encoded data removed]"
          },
          "metadata": {
            "needs_background": "light"
          }
        }
      ]
    },
    {
      "cell_type": "markdown",
      "source": [
        "## Year Movie Was Released"
      ],
      "metadata": {
        "id": "e-7N15j_Arxy"
      }
    },
    {
      "cell_type": "markdown",
      "source": [
        "Does the year a movie was released have an effect on how many reviews it has or what the average rating could be?"
      ],
      "metadata": {
        "id": "Yhe6jRecAufV"
      }
    },
    {
      "cell_type": "code",
      "source": [
        "df['year_released'].dtype\n",
        "#convert to datetime\n",
        "df['year_released'] = pd.to_datetime(df['year_released'], format='%Y')"
      ],
      "metadata": {
        "id": "XeLWadHEBYMk"
      },
      "execution_count": 40,
      "outputs": []
    },
    {
      "cell_type": "markdown",
      "source": [
        "### Average Number of Reviews Received According to Release Year of Movies"
      ],
      "metadata": {
        "id": "_5z8eVtqzcAe"
      }
    },
    {
      "cell_type": "code",
      "source": [
        "plt.figure(figsize=(15,15))\n",
        "df['u_num_reviews'].groupby(df['year_released']).mean().plot(kind='line')\n",
        "plt.ylabel('Average Number of Reviews Received by Movies Released')\n",
        "plt.xlabel('Year Movie Was Released')\n",
        "plt.title('Distribution of Average Number of Reviews Received by Movies Based On Their Release Date')\n",
        "plt.show()"
      ],
      "metadata": {
        "id": "MBWVMVbqQBEI",
        "colab": {
          "base_uri": "https://localhost:8080/",
          "height": 824
        },
        "outputId": "3511eba1-12e9-40ce-e74c-b80bb1c03800"
      },
      "execution_count": 41,
      "outputs": [
        {
          "output_type": "display_data",
          "data": {
            "text/plain": [
              "<Figure size 1080x1080 with 1 Axes>"
            ],
            "image/png": "[encoded data removed]"
          },
          "metadata": {
            "needs_background": "light"
          }
        }
      ]
    },
    {
      "cell_type": "code",
      "source": [
        "df['u_num_reviews'].value_counts()"
      ],
      "metadata": {
        "colab": {
          "base_uri": "https://localhost:8080/"
        },
        "id": "EXu6VYehYCF7",
        "outputId": "66e49ab1-7be5-4967-f8d4-e148fcbdc5b1"
      },
      "execution_count": 42,
      "outputs": [
        {
          "output_type": "execute_result",
          "data": {
            "text/plain": [
              "14642.0    30328\n",
              "454.0      27137\n",
              "493.0      25832\n",
              "3105.0     24175\n",
              "196.0      24049\n",
              "           ...  \n",
              "2579.0        36\n",
              "1207.0        34\n",
              "1095.0        13\n",
              "3364.0         1\n",
              "1649.0         1\n",
              "Name: u_num_reviews, Length: 2368, dtype: int64"
            ]
          },
          "metadata": {},
          "execution_count": 42
        }
      ]
    },
    {
      "cell_type": "code",
      "source": [
        "print(df['u_num_reviews'].groupby(df['year_released']).mean().max())\n",
        "print(df['u_num_reviews'].groupby(df['year_released']).mean().min())"
      ],
      "metadata": {
        "id": "udOAl8edQvXl",
        "colab": {
          "base_uri": "https://localhost:8080/"
        },
        "outputId": "a3579d92-5ab7-4102-f153-5c54b16a1844"
      },
      "execution_count": 43,
      "outputs": [
        {
          "output_type": "stream",
          "name": "stdout",
          "text": [
            "4662.000866175834\n",
            "379.0\n"
          ]
        }
      ]
    },
    {
      "cell_type": "markdown",
      "source": [
        "The maximum average number of reviews received by a movie was 4,635.92 in while the minimum average number of reviews is 379.0.\n",
        "<br>\n",
        "The number of reviews decreases sharply in 2020s but that may just be bacause of how recent the films are. Additionally, the pandemic provided opportunities to watch older films and film releases in 2020 were halted."
      ],
      "metadata": {
        "id": "mGOIfdPuQ_KD"
      }
    },
    {
      "cell_type": "code",
      "source": [
        "plt.figure(figsize=(15,15))\n",
        "df['user_rating_for_movie'].groupby(df['year_released']).mean().plot(kind='line')\n",
        "plt.ylabel('Average Rating Received by Users for All Movies Released in the Year')\n",
        "plt.xlabel('Year Movie Was Released')\n",
        "plt.title('Distribution of Average Rating Received by Movies Based On Release Date')\n",
        "plt.show()"
      ],
      "metadata": {
        "id": "-fBvFbfnQ-ud",
        "colab": {
          "base_uri": "https://localhost:8080/",
          "height": 824
        },
        "outputId": "eb4ced6c-3f53-4a8e-d4fa-666a4b88182e"
      },
      "execution_count": 44,
      "outputs": [
        {
          "output_type": "display_data",
          "data": {
            "text/plain": [
              "<Figure size 1080x1080 with 1 Axes>"
            ],
            "image/png": "[encoded data removed]"
          },
          "metadata": {
            "needs_background": "light"
          }
        }
      ]
    },
    {
      "cell_type": "code",
      "source": [
        "df['user_rating_for_movie'].groupby(df['year_released']).mean().max(), df['user_rating_for_movie'].groupby(df['year_released']).mean().min()"
      ],
      "metadata": {
        "id": "CxFjAn0AJRmp",
        "colab": {
          "base_uri": "https://localhost:8080/"
        },
        "outputId": "d383d7e6-4ec7-448a-882a-de8664709218"
      },
      "execution_count": 45,
      "outputs": [
        {
          "output_type": "execute_result",
          "data": {
            "text/plain": [
              "(7.425090441594164, 1.0)"
            ]
          },
          "metadata": {},
          "execution_count": 45
        }
      ]
    },
    {
      "cell_type": "markdown",
      "source": [
        "The highest average user rating given to a movie is 7.42 in (YEAR) and the lowest is 1.0 which is for a movie from the future so, it doesn't count. "
      ],
      "metadata": {
        "id": "C8pRs9ZDJPUi"
      }
    },
    {
      "cell_type": "markdown",
      "source": [
        "Let's get rid of movies that have a release date after 2022."
      ],
      "metadata": {
        "id": "b4A89R2xKLla"
      }
    },
    {
      "cell_type": "code",
      "source": [
        "df[df['year_released'] > '2022']"
      ],
      "metadata": {
        "id": "i47ls6jpKWfL",
        "colab": {
          "base_uri": "https://localhost:8080/",
          "height": 1000
        },
        "outputId": "f02ba923-1733-4f15-ede2-eab836f939d2"
      },
      "execution_count": 46,
      "outputs": [
        {
          "output_type": "execute_result",
          "data": {
            "text/plain": [
              "                                  movie_id  user_rating_for_movie  \\\n",
              "2011067              captain-marvel-2-2022                     10   \n",
              "2199393      guardians-of-the-galaxy-vol-3                      3   \n",
              "3637999                    indiana-jones-5                     10   \n",
              "3700522                    indiana-jones-5                      1   \n",
              "7721716                        the-marvels                     10   \n",
              "7868319                           avatar-5                      1   \n",
              "7930610   ant-man-and-the-wasp-quantumania                      1   \n",
              "7930748      guardians-of-the-galaxy-vol-3                      4   \n",
              "7930805                        the-marvels                      5   \n",
              "8285952                    indiana-jones-5                      5   \n",
              "8493111                        the-marvels                      1   \n",
              "8561524                           avatar-4                      4   \n",
              "8786338            the-little-mermaid-2023                      1   \n",
              "8986323      guardians-of-the-galaxy-vol-3                      6   \n",
              "9166212            the-little-mermaid-2023                      1   \n",
              "9351309                      dune-part-two                     10   \n",
              "9450655                    indiana-jones-5                      7   \n",
              "9509935                      dune-part-two                     10   \n",
              "9538020                      dune-part-two                     10   \n",
              "9539003                      dune-part-two                     10   \n",
              "9542246                           avatar-3                      5   \n",
              "9598039                    indiana-jones-5                      3   \n",
              "10141959        the-last-train-to-new-york                      1   \n",
              "10153853        the-last-train-to-new-york                      1   \n",
              "10258457        the-last-train-to-new-york                      1   \n",
              "10263266        the-last-train-to-new-york                      1   \n",
              "10354837                   indiana-jones-5                      1   \n",
              "10592695                             wonka                      1   \n",
              "10592702                     dune-part-two                      1   \n",
              "\n",
              "                  user_id  user_display_name  u_num_ratings_pages  \\\n",
              "2011067         candelatt            candela                 32.0   \n",
              "2199393   colinmclaughlin   Colin McLaughlin                 18.0   \n",
              "3637999        timrobbins              aIina                  5.0   \n",
              "3700522     prestructural      George Krakow                 35.0   \n",
              "7721716         candelatt            candela                 32.0   \n",
              "7868319        moviemicah              Micah                 11.0   \n",
              "7930610      brockferlaak      Brock Ferlaak                 47.0   \n",
              "7930748      brockferlaak      Brock Ferlaak                 47.0   \n",
              "7930805      brockferlaak      Brock Ferlaak                 47.0   \n",
              "8285952    thenasophiliac     TheNasophiliac                 78.0   \n",
              "8493111     darkcollector       The Salvador                 29.0   \n",
              "8561524            cxrlin  chelsea mackerel!                  8.0   \n",
              "8786338         miguelsmr          MiguelsMR                 43.0   \n",
              "8986323        jsonbourne         jsonbourne                 43.0   \n",
              "9166212         salavax88          salavax88                 43.0   \n",
              "9351309          donnydon     Brandon Bzduch                 33.0   \n",
              "9450655           kutulhu            Kutulhu                 15.0   \n",
              "9509935           miag0th                mya                 12.0   \n",
              "9538020          repojack           RepoJack                  8.0   \n",
              "9539003     darkcollector       The Salvador                 29.0   \n",
              "9542246            cxrlin  chelsea mackerel!                  8.0   \n",
              "9598039        yungdrilla         yungdrilla                 43.0   \n",
              "10141959          hakeemp            HakeemP                 26.0   \n",
              "10153853       coleturner        Cole Turner                 72.0   \n",
              "10258457   streetsahead55     StreetsAhead55                 20.0   \n",
              "10263266      dianandonna        nico/knives                 14.0   \n",
              "10354837           entity             Entity                 43.0   \n",
              "10592695    fabischfactor       Kurt Fabisch                 33.0   \n",
              "10592702    fabischfactor       Kurt Fabisch                 33.0   \n",
              "\n",
              "          u_num_reviews                                             genres  \\\n",
              "2011067          1228.0           [\"Action\",\"Adventure\",\"Science Fiction\"]   \n",
              "2199393           985.0  [\"Action\",\"Adventure\",\"Science Fiction\",\"Comedy\"]   \n",
              "3637999           231.0                             [\"Action\",\"Adventure\"]   \n",
              "3700522           431.0                             [\"Action\",\"Adventure\"]   \n",
              "7721716          1228.0           [\"Action\",\"Adventure\",\"Science Fiction\"]   \n",
              "7868319           379.0  [\"Action\",\"Adventure\",\"Fantasy\",\"Science Ficti...   \n",
              "7930610           779.0           [\"Adventure\",\"Science Fiction\",\"Comedy\"]   \n",
              "7930748           779.0  [\"Action\",\"Adventure\",\"Science Fiction\",\"Comedy\"]   \n",
              "7930805           779.0           [\"Action\",\"Adventure\",\"Science Fiction\"]   \n",
              "8285952          3057.0                             [\"Action\",\"Adventure\"]   \n",
              "8493111           863.0           [\"Action\",\"Adventure\",\"Science Fiction\"]   \n",
              "8561524           601.0  [\"Action\",\"Science Fiction\",\"Adventure\",\"Fanta...   \n",
              "8786338           394.0         [\"Adventure\",\"Family\",\"Fantasy\",\"Romance\"]   \n",
              "8986323           688.0  [\"Action\",\"Adventure\",\"Science Fiction\",\"Comedy\"]   \n",
              "9166212           484.0         [\"Adventure\",\"Family\",\"Fantasy\",\"Romance\"]   \n",
              "9351309          1081.0                    [\"Adventure\",\"Science Fiction\"]   \n",
              "9450655           814.0                             [\"Action\",\"Adventure\"]   \n",
              "9509935           975.0                    [\"Adventure\",\"Science Fiction\"]   \n",
              "9538020           753.0                    [\"Adventure\",\"Science Fiction\"]   \n",
              "9539003           863.0                    [\"Adventure\",\"Science Fiction\"]   \n",
              "9542246           601.0  [\"Action\",\"Drama\",\"Science Fiction\",\"Adventure...   \n",
              "9598039           640.0                             [\"Action\",\"Adventure\"]   \n",
              "10141959          703.0                     [\"Action\",\"Horror\",\"Thriller\"]   \n",
              "10153853         1351.0                     [\"Action\",\"Horror\",\"Thriller\"]   \n",
              "10258457         1757.0                     [\"Action\",\"Horror\",\"Thriller\"]   \n",
              "10263266          757.0                     [\"Action\",\"Horror\",\"Thriller\"]   \n",
              "10354837         4158.0                             [\"Action\",\"Adventure\"]   \n",
              "10592695         1892.0                      [\"Comedy\",\"Fantasy\",\"Family\"]   \n",
              "10592702         1892.0                    [\"Adventure\",\"Science Fiction\"]   \n",
              "\n",
              "                                                  image_url     imdb_id  \\\n",
              "2011067   film-poster/5/3/6/9/7/0/536970-the-marvels-0-2...  tt10676048   \n",
              "2199393   film-poster/3/7/9/7/1/1/379711-guardians-of-th...   tt6791350   \n",
              "3637999   film-poster/2/6/5/4/3/3/265433-indiana-jones-0...   tt1462764   \n",
              "3700522   film-poster/2/6/5/4/3/3/265433-indiana-jones-0...   tt1462764   \n",
              "7721716   film-poster/5/3/6/9/7/0/536970-the-marvels-0-2...  tt10676048   \n",
              "7868319   film-poster/3/2/7/6/8/0/327680-avatar-5-0-230-...   tt5637536   \n",
              "7930610   film-poster/5/6/6/2/3/7/566237-ant-man-and-the...  tt10954600   \n",
              "7930748   film-poster/3/7/9/7/1/1/379711-guardians-of-th...   tt6791350   \n",
              "7930805   film-poster/5/3/6/9/7/0/536970-the-marvels-0-2...  tt10676048   \n",
              "8285952   film-poster/2/6/5/4/3/3/265433-indiana-jones-0...   tt1462764   \n",
              "8493111   film-poster/5/3/6/9/7/0/536970-the-marvels-0-2...  tt10676048   \n",
              "8561524   film-poster/1/5/3/5/9/3/153593-avatar-4-0-230-...   tt3095356   \n",
              "8786338   film-poster/3/7/9/5/9/1/379591-the-little-merm...   tt5971474   \n",
              "8986323   film-poster/3/7/9/7/1/1/379711-guardians-of-th...   tt6791350   \n",
              "9166212   film-poster/3/7/9/5/9/1/379591-the-little-merm...   tt5971474   \n",
              "9351309   film-poster/6/1/7/4/4/3/617443-dune-part-two-0...  tt15239678   \n",
              "9450655   film-poster/2/6/5/4/3/3/265433-indiana-jones-0...   tt1462764   \n",
              "9509935   film-poster/6/1/7/4/4/3/617443-dune-part-two-0...  tt15239678   \n",
              "9538020   film-poster/6/1/7/4/4/3/617443-dune-part-two-0...  tt15239678   \n",
              "9539003   film-poster/6/1/7/4/4/3/617443-dune-part-two-0...  tt15239678   \n",
              "9542246   film-poster/7/0/0/0/7/70007-avatar-3-0-230-0-3...   tt1757678   \n",
              "9598039   film-poster/2/6/5/4/3/3/265433-indiana-jones-0...   tt1462764   \n",
              "10141959  film-poster/4/7/9/2/4/8/479248-last-train-to-n...   tt9256744   \n",
              "10153853  film-poster/4/7/9/2/4/8/479248-last-train-to-n...   tt9256744   \n",
              "10258457  film-poster/4/7/9/2/4/8/479248-last-train-to-n...   tt9256744   \n",
              "10263266  film-poster/4/7/9/2/4/8/479248-last-train-to-n...   tt9256744   \n",
              "10354837  film-poster/2/6/5/4/3/3/265433-indiana-jones-0...   tt1462764   \n",
              "10592695  film-poster/7/0/6/0/8/3/706083-wonka-0-230-0-3...   tt6166392   \n",
              "10592702  film-poster/6/1/7/4/4/3/617443-dune-part-two-0...  tt15239678   \n",
              "\n",
              "                                                 imdb_link  \\\n",
              "2011067   http://www.imdb.com/title/tt10676048/maindetails   \n",
              "2199393    http://www.imdb.com/title/tt6791350/maindetails   \n",
              "3637999    http://www.imdb.com/title/tt1462764/maindetails   \n",
              "3700522    http://www.imdb.com/title/tt1462764/maindetails   \n",
              "7721716   http://www.imdb.com/title/tt10676048/maindetails   \n",
              "7868319    http://www.imdb.com/title/tt5637536/maindetails   \n",
              "7930610   http://www.imdb.com/title/tt10954600/maindetails   \n",
              "7930748    http://www.imdb.com/title/tt6791350/maindetails   \n",
              "7930805   http://www.imdb.com/title/tt10676048/maindetails   \n",
              "8285952    http://www.imdb.com/title/tt1462764/maindetails   \n",
              "8493111   http://www.imdb.com/title/tt10676048/maindetails   \n",
              "8561524    http://www.imdb.com/title/tt3095356/maindetails   \n",
              "8786338    http://www.imdb.com/title/tt5971474/maindetails   \n",
              "8986323    http://www.imdb.com/title/tt6791350/maindetails   \n",
              "9166212    http://www.imdb.com/title/tt5971474/maindetails   \n",
              "9351309   http://www.imdb.com/title/tt15239678/maindetails   \n",
              "9450655    http://www.imdb.com/title/tt1462764/maindetails   \n",
              "9509935   http://www.imdb.com/title/tt15239678/maindetails   \n",
              "9538020   http://www.imdb.com/title/tt15239678/maindetails   \n",
              "9539003   http://www.imdb.com/title/tt15239678/maindetails   \n",
              "9542246    http://www.imdb.com/title/tt1757678/maindetails   \n",
              "9598039    http://www.imdb.com/title/tt1462764/maindetails   \n",
              "10141959   http://www.imdb.com/title/tt9256744/maindetails   \n",
              "10153853   http://www.imdb.com/title/tt9256744/maindetails   \n",
              "10258457   http://www.imdb.com/title/tt9256744/maindetails   \n",
              "10263266   http://www.imdb.com/title/tt9256744/maindetails   \n",
              "10354837   http://www.imdb.com/title/tt1462764/maindetails   \n",
              "10592695   http://www.imdb.com/title/tt6166392/maindetails   \n",
              "10592702  http://www.imdb.com/title/tt15239678/maindetails   \n",
              "\n",
              "                                movie_title original_language  \\\n",
              "2011067                         The Marvels                en   \n",
              "2199393      Guardians of the Galaxy Vol. 3                en   \n",
              "3637999                     Indiana Jones 5                en   \n",
              "3700522                     Indiana Jones 5                en   \n",
              "7721716                         The Marvels                en   \n",
              "7868319                            Avatar 5                en   \n",
              "7930610   Ant-Man and the Wasp: Quantumania                en   \n",
              "7930748      Guardians of the Galaxy Vol. 3                en   \n",
              "7930805                         The Marvels                en   \n",
              "8285952                     Indiana Jones 5                en   \n",
              "8493111                         The Marvels                en   \n",
              "8561524                            Avatar 4                en   \n",
              "8786338                  The Little Mermaid                en   \n",
              "8986323      Guardians of the Galaxy Vol. 3                en   \n",
              "9166212                  The Little Mermaid                en   \n",
              "9351309                      Dune: Part Two                en   \n",
              "9450655                     Indiana Jones 5                en   \n",
              "9509935                      Dune: Part Two                en   \n",
              "9538020                      Dune: Part Two                en   \n",
              "9539003                      Dune: Part Two                en   \n",
              "9542246                            Avatar 3                en   \n",
              "9598039                     Indiana Jones 5                en   \n",
              "10141959         The Last Train to New York                en   \n",
              "10153853         The Last Train to New York                en   \n",
              "10258457         The Last Train to New York                en   \n",
              "10263266         The Last Train to New York                en   \n",
              "10354837                    Indiana Jones 5                en   \n",
              "10592695                              Wonka                en   \n",
              "10592702                     Dune: Part Two                en   \n",
              "\n",
              "                                             movie_overview  movie_popularity  \\\n",
              "2011067                The sequel to Captain Marvel (2019).            11.669   \n",
              "2199393   The third film based on Marvel's Guardians of ...            26.469   \n",
              "3637999   Fifth and final movie in the Indiana Jones fra...             7.818   \n",
              "3700522   Fifth and final movie in the Indiana Jones fra...             7.818   \n",
              "7721716                The sequel to Captain Marvel (2019).            11.669   \n",
              "7868319                                                 NaN            20.617   \n",
              "7930610   The third film in the Marvel Studios' Ant-Man ...            12.328   \n",
              "7930748   The third film based on Marvel's Guardians of ...            26.469   \n",
              "7930805                The sequel to Captain Marvel (2019).            11.669   \n",
              "8285952   Fifth and final movie in the Indiana Jones fra...             7.818   \n",
              "8493111                The sequel to Captain Marvel (2019).            11.669   \n",
              "8561524                                                 NaN            27.320   \n",
              "8786338   A young mermaid makes a deal with a sea witch:...             9.875   \n",
              "8986323   The third film based on Marvel's Guardians of ...            26.469   \n",
              "9166212   A young mermaid makes a deal with a sea witch:...             9.875   \n",
              "9351309      The second and final chapter of ‘Dune’ (2021).            11.463   \n",
              "9450655   Fifth and final movie in the Indiana Jones fra...             7.818   \n",
              "9509935      The second and final chapter of ‘Dune’ (2021).            11.463   \n",
              "9538020      The second and final chapter of ‘Dune’ (2021).            11.463   \n",
              "9539003      The second and final chapter of ‘Dune’ (2021).            11.463   \n",
              "9542246                                                 NaN            23.550   \n",
              "9598039   Fifth and final movie in the Indiana Jones fra...             7.818   \n",
              "10141959  English-language remake of the South Korean zo...             2.479   \n",
              "10153853  English-language remake of the South Korean zo...             2.479   \n",
              "10258457  English-language remake of the South Korean zo...             2.479   \n",
              "10263266  English-language remake of the South Korean zo...             2.479   \n",
              "10354837  Fifth and final movie in the Indiana Jones fra...             7.818   \n",
              "10592695  A prequel film exploring the origin story of W...            13.761   \n",
              "10592702     The second and final chapter of ‘Dune’ (2021).            11.463   \n",
              "\n",
              "                  production_countries  days_since_movie_release  runtime  \\\n",
              "2011067   [\"United States of America\"]                    -157.0      0.0   \n",
              "2199393   [\"United States of America\"]                    -233.0      0.0   \n",
              "3637999   [\"United States of America\"]                    -290.0      0.0   \n",
              "3700522   [\"United States of America\"]                    -290.0      0.0   \n",
              "7721716   [\"United States of America\"]                    -157.0      0.0   \n",
              "7868319   [\"United States of America\"]                   -2291.0      0.0   \n",
              "7930610   [\"United States of America\"]                    -318.0      0.0   \n",
              "7930748   [\"United States of America\"]                    -233.0      0.0   \n",
              "7930805   [\"United States of America\"]                    -157.0      0.0   \n",
              "8285952   [\"United States of America\"]                    -290.0      0.0   \n",
              "8493111   [\"United States of America\"]                    -157.0      0.0   \n",
              "8561524   [\"United States of America\"]                   -1556.0      0.0   \n",
              "8786338   [\"United States of America\"]                    -256.0      0.0   \n",
              "8986323   [\"United States of America\"]                    -233.0      0.0   \n",
              "9166212   [\"United States of America\"]                    -256.0      0.0   \n",
              "9351309   [\"United States of America\"]                    -402.0      0.0   \n",
              "9450655   [\"United States of America\"]                    -290.0      0.0   \n",
              "9509935   [\"United States of America\"]                    -402.0      0.0   \n",
              "9538020   [\"United States of America\"]                    -402.0      0.0   \n",
              "9539003   [\"United States of America\"]                    -402.0      0.0   \n",
              "9542246   [\"United States of America\"]                    -828.0      0.0   \n",
              "9598039   [\"United States of America\"]                    -290.0      0.0   \n",
              "10141959  [\"United States of America\"]                    -221.0      0.0   \n",
              "10153853  [\"United States of America\"]                    -221.0      0.0   \n",
              "10258457  [\"United States of America\"]                    -221.0      0.0   \n",
              "10263266  [\"United States of America\"]                    -221.0      0.0   \n",
              "10354837  [\"United States of America\"]                    -290.0      0.0   \n",
              "10592695  [\"United States of America\"]                    -459.0      0.0   \n",
              "10592702  [\"United States of America\"]                    -402.0      0.0   \n",
              "\n",
              "         spoken_languages   tmdb_id                                 tmdb_link  \\\n",
              "2011067       [\"English\"]  609681.0  https://www.themoviedb.org/movie/609681/   \n",
              "2199393       [\"English\"]  447365.0  https://www.themoviedb.org/movie/447365/   \n",
              "3637999       [\"English\"]  335977.0  https://www.themoviedb.org/movie/335977/   \n",
              "3700522       [\"English\"]  335977.0  https://www.themoviedb.org/movie/335977/   \n",
              "7721716       [\"English\"]  609681.0  https://www.themoviedb.org/movie/609681/   \n",
              "7868319       [\"English\"]  393209.0  https://www.themoviedb.org/movie/393209/   \n",
              "7930610       [\"English\"]  640146.0  https://www.themoviedb.org/movie/640146/   \n",
              "7930748       [\"English\"]  447365.0  https://www.themoviedb.org/movie/447365/   \n",
              "7930805       [\"English\"]  609681.0  https://www.themoviedb.org/movie/609681/   \n",
              "8285952       [\"English\"]  335977.0  https://www.themoviedb.org/movie/335977/   \n",
              "8493111       [\"English\"]  609681.0  https://www.themoviedb.org/movie/609681/   \n",
              "8561524       [\"English\"]  216527.0  https://www.themoviedb.org/movie/216527/   \n",
              "8786338       [\"English\"]  447277.0  https://www.themoviedb.org/movie/447277/   \n",
              "8986323       [\"English\"]  447365.0  https://www.themoviedb.org/movie/447365/   \n",
              "9166212       [\"English\"]  447277.0  https://www.themoviedb.org/movie/447277/   \n",
              "9351309       [\"English\"]  693134.0  https://www.themoviedb.org/movie/693134/   \n",
              "9450655       [\"English\"]  335977.0  https://www.themoviedb.org/movie/335977/   \n",
              "9509935       [\"English\"]  693134.0  https://www.themoviedb.org/movie/693134/   \n",
              "9538020       [\"English\"]  693134.0  https://www.themoviedb.org/movie/693134/   \n",
              "9539003       [\"English\"]  693134.0  https://www.themoviedb.org/movie/693134/   \n",
              "9542246       [\"English\"]   83533.0   https://www.themoviedb.org/movie/83533/   \n",
              "9598039       [\"English\"]  335977.0  https://www.themoviedb.org/movie/335977/   \n",
              "10141959      [\"English\"]  550446.0  https://www.themoviedb.org/movie/550446/   \n",
              "10153853      [\"English\"]  550446.0  https://www.themoviedb.org/movie/550446/   \n",
              "10258457      [\"English\"]  550446.0  https://www.themoviedb.org/movie/550446/   \n",
              "10263266      [\"English\"]  550446.0  https://www.themoviedb.org/movie/550446/   \n",
              "10354837      [\"English\"]  335977.0  https://www.themoviedb.org/movie/335977/   \n",
              "10592695      [\"English\"]  787699.0  https://www.themoviedb.org/movie/787699/   \n",
              "10592702      [\"English\"]  693134.0  https://www.themoviedb.org/movie/693134/   \n",
              "\n",
              "          avg_votes_for_movie  vote_count_for_movie year_released  \n",
              "2011067                   0.0                   0.0    2023-01-01  \n",
              "2199393                   0.0                   0.0    2023-01-01  \n",
              "3637999                   0.0                   0.0    2023-01-01  \n",
              "3700522                   0.0                   0.0    2023-01-01  \n",
              "7721716                   0.0                   0.0    2023-01-01  \n",
              "7868319                   0.0                   0.0    2028-01-01  \n",
              "7930610                   0.0                   0.0    2023-01-01  \n",
              "7930748                   0.0                   0.0    2023-01-01  \n",
              "7930805                   0.0                   0.0    2023-01-01  \n",
              "8285952                   0.0                   0.0    2023-01-01  \n",
              "8493111                   0.0                   0.0    2023-01-01  \n",
              "8561524                   0.0                   0.0    2026-01-01  \n",
              "8786338                   0.0                   0.0    2023-01-01  \n",
              "8986323                   0.0                   0.0    2023-01-01  \n",
              "9166212                   0.0                   0.0    2023-01-01  \n",
              "9351309                   0.0                   0.0    2023-01-01  \n",
              "9450655                   0.0                   0.0    2023-01-01  \n",
              "9509935                   0.0                   0.0    2023-01-01  \n",
              "9538020                   0.0                   0.0    2023-01-01  \n",
              "9539003                   0.0                   0.0    2023-01-01  \n",
              "9542246                   0.0                   0.0    2024-01-01  \n",
              "9598039                   0.0                   0.0    2023-01-01  \n",
              "10141959                  0.0                   0.0    2023-01-01  \n",
              "10153853                  0.0                   0.0    2023-01-01  \n",
              "10258457                  0.0                   0.0    2023-01-01  \n",
              "10263266                  0.0                   0.0    2023-01-01  \n",
              "10354837                  0.0                   0.0    2023-01-01  \n",
              "10592695                  0.0                   0.0    2023-01-01  \n",
              "10592702                  0.0                   0.0    2023-01-01  "
            ],
            "text/html": [
              "\n",
              "  <div id=\"df-fa013778-93ef-4ae7-b457-e5122294c698\">\n",
              "    <div class=\"colab-df-container\">\n",
              "      <div>\n",
              "<style scoped>\n",
              "    .dataframe tbody tr th:only-of-type {\n",
              "        vertical-align: middle;\n",
              "    }\n",
              "\n",
              "    .dataframe tbody tr th {\n",
              "        vertical-align: top;\n",
              "    }\n",
              "\n",
              "    .dataframe thead th {\n",
              "        text-align: right;\n",
              "    }\n",
              "</style>\n",
              "<table border=\"1\" class=\"dataframe\">\n",
              "  <thead>\n",
              "    <tr style=\"text-align: right;\">\n",
              "      <th></th>\n",
              "      <th>movie_id</th>\n",
              "      <th>user_rating_for_movie</th>\n",
              "      <th>user_id</th>\n",
              "      <th>user_display_name</th>\n",
              "      <th>u_num_ratings_pages</th>\n",
              "      <th>u_num_reviews</th>\n",
              "      <th>genres</th>\n",
              "      <th>image_url</th>\n",
              "      <th>imdb_id</th>\n",
              "      <th>imdb_link</th>\n",
              "      <th>movie_title</th>\n",
              "      <th>original_language</th>\n",
              "      <th>movie_overview</th>\n",
              "      <th>movie_popularity</th>\n",
              "      <th>production_countries</th>\n",
              "      <th>days_since_movie_release</th>\n",
              "      <th>runtime</th>\n",
              "      <th>spoken_languages</th>\n",
              "      <th>tmdb_id</th>\n",
              "      <th>tmdb_link</th>\n",
              "      <th>avg_votes_for_movie</th>\n",
              "      <th>vote_count_for_movie</th>\n",
              "      <th>year_released</th>\n",
              "    </tr>\n",
              "  </thead>\n",
              "  <tbody>\n",
              "    <tr>\n",
              "      <th>2011067</th>\n",
              "      <td>captain-marvel-2-2022</td>\n",
              "      <td>10</td>\n",
              "      <td>candelatt</td>\n",
              "      <td>candela</td>\n",
              "      <td>32.0</td>\n",
              "      <td>1228.0</td>\n",
              "      <td>[\"Action\",\"Adventure\",\"Science Fiction\"]</td>\n",
              "      <td>film-poster/5/3/6/9/7/0/536970-the-marvels-0-2...</td>\n",
              "      <td>tt10676048</td>\n",
              "      <td>http://www.imdb.com/title/tt10676048/maindetails</td>\n",
              "      <td>The Marvels</td>\n",
              "      <td>en</td>\n",
              "      <td>The sequel to Captain Marvel (2019).</td>\n",
              "      <td>11.669</td>\n",
              "      <td>[\"United States of America\"]</td>\n",
              "      <td>-157.0</td>\n",
              "      <td>0.0</td>\n",
              "      <td>[\"English\"]</td>\n",
              "      <td>609681.0</td>\n",
              "      <td>https://www.themoviedb.org/movie/609681/</td>\n",
              "      <td>0.0</td>\n",
              "      <td>0.0</td>\n",
              "      <td>2023-01-01</td>\n",
              "    </tr>\n",
              "    <tr>\n",
              "      <th>2199393</th>\n",
              "      <td>guardians-of-the-galaxy-vol-3</td>\n",
              "      <td>3</td>\n",
              "      <td>colinmclaughlin</td>\n",
              "      <td>Colin McLaughlin</td>\n",
              "      <td>18.0</td>\n",
              "      <td>985.0</td>\n",
              "      <td>[\"Action\",\"Adventure\",\"Science Fiction\",\"Comedy\"]</td>\n",
              "      <td>film-poster/3/7/9/7/1/1/379711-guardians-of-th...</td>\n",
              "      <td>tt6791350</td>\n",
              "      <td>http://www.imdb.com/title/tt6791350/maindetails</td>\n",
              "      <td>Guardians of the Galaxy Vol. 3</td>\n",
              "      <td>en</td>\n",
              "      <td>The third film based on Marvel's Guardians of ...</td>\n",
              "      <td>26.469</td>\n",
              "      <td>[\"United States of America\"]</td>\n",
              "      <td>-233.0</td>\n",
              "      <td>0.0</td>\n",
              "      <td>[\"English\"]</td>\n",
              "      <td>447365.0</td>\n",
              "      <td>https://www.themoviedb.org/movie/447365/</td>\n",
              "      <td>0.0</td>\n",
              "      <td>0.0</td>\n",
              "      <td>2023-01-01</td>\n",
              "    </tr>\n",
              "    <tr>\n",
              "      <th>3637999</th>\n",
              "      <td>indiana-jones-5</td>\n",
              "      <td>10</td>\n",
              "      <td>timrobbins</td>\n",
              "      <td>aIina</td>\n",
              "      <td>5.0</td>\n",
              "      <td>231.0</td>\n",
              "      <td>[\"Action\",\"Adventure\"]</td>\n",
              "      <td>film-poster/2/6/5/4/3/3/265433-indiana-jones-0...</td>\n",
              "      <td>tt1462764</td>\n",
              "      <td>http://www.imdb.com/title/tt1462764/maindetails</td>\n",
              "      <td>Indiana Jones 5</td>\n",
              "      <td>en</td>\n",
              "      <td>Fifth and final movie in the Indiana Jones fra...</td>\n",
              "      <td>7.818</td>\n",
              "      <td>[\"United States of America\"]</td>\n",
              "      <td>-290.0</td>\n",
              "      <td>0.0</td>\n",
              "      <td>[\"English\"]</td>\n",
              "      <td>335977.0</td>\n",
              "      <td>https://www.themoviedb.org/movie/335977/</td>\n",
              "      <td>0.0</td>\n",
              "      <td>0.0</td>\n",
              "      <td>2023-01-01</td>\n",
              "    </tr>\n",
              "    <tr>\n",
              "      <th>3700522</th>\n",
              "      <td>indiana-jones-5</td>\n",
              "      <td>1</td>\n",
              "      <td>prestructural</td>\n",
              "      <td>George Krakow</td>\n",
              "      <td>35.0</td>\n",
              "      <td>431.0</td>\n",
              "      <td>[\"Action\",\"Adventure\"]</td>\n",
              "      <td>film-poster/2/6/5/4/3/3/265433-indiana-jones-0...</td>\n",
              "      <td>tt1462764</td>\n",
              "      <td>http://www.imdb.com/title/tt1462764/maindetails</td>\n",
              "      <td>Indiana Jones 5</td>\n",
              "      <td>en</td>\n",
              "      <td>Fifth and final movie in the Indiana Jones fra...</td>\n",
              "      <td>7.818</td>\n",
              "      <td>[\"United States of America\"]</td>\n",
              "      <td>-290.0</td>\n",
              "      <td>0.0</td>\n",
              "      <td>[\"English\"]</td>\n",
              "      <td>335977.0</td>\n",
              "      <td>https://www.themoviedb.org/movie/335977/</td>\n",
              "      <td>0.0</td>\n",
              "      <td>0.0</td>\n",
              "      <td>2023-01-01</td>\n",
              "    </tr>\n",
              "    <tr>\n",
              "      <th>7721716</th>\n",
              "      <td>the-marvels</td>\n",
              "      <td>10</td>\n",
              "      <td>candelatt</td>\n",
              "      <td>candela</td>\n",
              "      <td>32.0</td>\n",
              "      <td>1228.0</td>\n",
              "      <td>[\"Action\",\"Adventure\",\"Science Fiction\"]</td>\n",
              "      <td>film-poster/5/3/6/9/7/0/536970-the-marvels-0-2...</td>\n",
              "      <td>tt10676048</td>\n",
              "      <td>http://www.imdb.com/title/tt10676048/maindetails</td>\n",
              "      <td>The Marvels</td>\n",
              "      <td>en</td>\n",
              "      <td>The sequel to Captain Marvel (2019).</td>\n",
              "      <td>11.669</td>\n",
              "      <td>[\"United States of America\"]</td>\n",
              "      <td>-157.0</td>\n",
              "      <td>0.0</td>\n",
              "      <td>[\"English\"]</td>\n",
              "      <td>609681.0</td>\n",
              "      <td>https://www.themoviedb.org/movie/609681/</td>\n",
              "      <td>0.0</td>\n",
              "      <td>0.0</td>\n",
              "      <td>2023-01-01</td>\n",
              "    </tr>\n",
              "    <tr>\n",
              "      <th>7868319</th>\n",
              "      <td>avatar-5</td>\n",
              "      <td>1</td>\n",
              "      <td>moviemicah</td>\n",
              "      <td>Micah</td>\n",
              "      <td>11.0</td>\n",
              "      <td>379.0</td>\n",
              "      <td>[\"Action\",\"Adventure\",\"Fantasy\",\"Science Ficti...</td>\n",
              "      <td>film-poster/3/2/7/6/8/0/327680-avatar-5-0-230-...</td>\n",
              "      <td>tt5637536</td>\n",
              "      <td>http://www.imdb.com/title/tt5637536/maindetails</td>\n",
              "      <td>Avatar 5</td>\n",
              "      <td>en</td>\n",
              "      <td>NaN</td>\n",
              "      <td>20.617</td>\n",
              "      <td>[\"United States of America\"]</td>\n",
              "      <td>-2291.0</td>\n",
              "      <td>0.0</td>\n",
              "      <td>[\"English\"]</td>\n",
              "      <td>393209.0</td>\n",
              "      <td>https://www.themoviedb.org/movie/393209/</td>\n",
              "      <td>0.0</td>\n",
              "      <td>0.0</td>\n",
              "      <td>2028-01-01</td>\n",
              "    </tr>\n",
              "    <tr>\n",
              "      <th>7930610</th>\n",
              "      <td>ant-man-and-the-wasp-quantumania</td>\n",
              "      <td>1</td>\n",
              "      <td>brockferlaak</td>\n",
              "      <td>Brock Ferlaak</td>\n",
              "      <td>47.0</td>\n",
              "      <td>779.0</td>\n",
              "      <td>[\"Adventure\",\"Science Fiction\",\"Comedy\"]</td>\n",
              "      <td>film-poster/5/6/6/2/3/7/566237-ant-man-and-the...</td>\n",
              "      <td>tt10954600</td>\n",
              "      <td>http://www.imdb.com/title/tt10954600/maindetails</td>\n",
              "      <td>Ant-Man and the Wasp: Quantumania</td>\n",
              "      <td>en</td>\n",
              "      <td>The third film in the Marvel Studios' Ant-Man ...</td>\n",
              "      <td>12.328</td>\n",
              "      <td>[\"United States of America\"]</td>\n",
              "      <td>-318.0</td>\n",
              "      <td>0.0</td>\n",
              "      <td>[\"English\"]</td>\n",
              "      <td>640146.0</td>\n",
              "      <td>https://www.themoviedb.org/movie/640146/</td>\n",
              "      <td>0.0</td>\n",
              "      <td>0.0</td>\n",
              "      <td>2023-01-01</td>\n",
              "    </tr>\n",
              "    <tr>\n",
              "      <th>7930748</th>\n",
              "      <td>guardians-of-the-galaxy-vol-3</td>\n",
              "      <td>4</td>\n",
              "      <td>brockferlaak</td>\n",
              "      <td>Brock Ferlaak</td>\n",
              "      <td>47.0</td>\n",
              "      <td>779.0</td>\n",
              "      <td>[\"Action\",\"Adventure\",\"Science Fiction\",\"Comedy\"]</td>\n",
              "      <td>film-poster/3/7/9/7/1/1/379711-guardians-of-th...</td>\n",
              "      <td>tt6791350</td>\n",
              "      <td>http://www.imdb.com/title/tt6791350/maindetails</td>\n",
              "      <td>Guardians of the Galaxy Vol. 3</td>\n",
              "      <td>en</td>\n",
              "      <td>The third film based on Marvel's Guardians of ...</td>\n",
              "      <td>26.469</td>\n",
              "      <td>[\"United States of America\"]</td>\n",
              "      <td>-233.0</td>\n",
              "      <td>0.0</td>\n",
              "      <td>[\"English\"]</td>\n",
              "      <td>447365.0</td>\n",
              "      <td>https://www.themoviedb.org/movie/447365/</td>\n",
              "      <td>0.0</td>\n",
              "      <td>0.0</td>\n",
              "      <td>2023-01-01</td>\n",
              "    </tr>\n",
              "    <tr>\n",
              "      <th>7930805</th>\n",
              "      <td>the-marvels</td>\n",
              "      <td>5</td>\n",
              "      <td>brockferlaak</td>\n",
              "      <td>Brock Ferlaak</td>\n",
              "      <td>47.0</td>\n",
              "      <td>779.0</td>\n",
              "      <td>[\"Action\",\"Adventure\",\"Science Fiction\"]</td>\n",
              "      <td>film-poster/5/3/6/9/7/0/536970-the-marvels-0-2...</td>\n",
              "      <td>tt10676048</td>\n",
              "      <td>http://www.imdb.com/title/tt10676048/maindetails</td>\n",
              "      <td>The Marvels</td>\n",
              "      <td>en</td>\n",
              "      <td>The sequel to Captain Marvel (2019).</td>\n",
              "      <td>11.669</td>\n",
              "      <td>[\"United States of America\"]</td>\n",
              "      <td>-157.0</td>\n",
              "      <td>0.0</td>\n",
              "      <td>[\"English\"]</td>\n",
              "      <td>609681.0</td>\n",
              "      <td>https://www.themoviedb.org/movie/609681/</td>\n",
              "      <td>0.0</td>\n",
              "      <td>0.0</td>\n",
              "      <td>2023-01-01</td>\n",
              "    </tr>\n",
              "    <tr>\n",
              "      <th>8285952</th>\n",
              "      <td>indiana-jones-5</td>\n",
              "      <td>5</td>\n",
              "      <td>thenasophiliac</td>\n",
              "      <td>TheNasophiliac</td>\n",
              "      <td>78.0</td>\n",
              "      <td>3057.0</td>\n",
              "      <td>[\"Action\",\"Adventure\"]</td>\n",
              "      <td>film-poster/2/6/5/4/3/3/265433-indiana-jones-0...</td>\n",
              "      <td>tt1462764</td>\n",
              "      <td>http://www.imdb.com/title/tt1462764/maindetails</td>\n",
              "      <td>Indiana Jones 5</td>\n",
              "      <td>en</td>\n",
              "      <td>Fifth and final movie in the Indiana Jones fra...</td>\n",
              "      <td>7.818</td>\n",
              "      <td>[\"United States of America\"]</td>\n",
              "      <td>-290.0</td>\n",
              "      <td>0.0</td>\n",
              "      <td>[\"English\"]</td>\n",
              "      <td>335977.0</td>\n",
              "      <td>https://www.themoviedb.org/movie/335977/</td>\n",
              "      <td>0.0</td>\n",
              "      <td>0.0</td>\n",
              "      <td>2023-01-01</td>\n",
              "    </tr>\n",
              "    <tr>\n",
              "      <th>8493111</th>\n",
              "      <td>the-marvels</td>\n",
              "      <td>1</td>\n",
              "      <td>darkcollector</td>\n",
              "      <td>The Salvador</td>\n",
              "      <td>29.0</td>\n",
              "      <td>863.0</td>\n",
              "      <td>[\"Action\",\"Adventure\",\"Science Fiction\"]</td>\n",
              "      <td>film-poster/5/3/6/9/7/0/536970-the-marvels-0-2...</td>\n",
              "      <td>tt10676048</td>\n",
              "      <td>http://www.imdb.com/title/tt10676048/maindetails</td>\n",
              "      <td>The Marvels</td>\n",
              "      <td>en</td>\n",
              "      <td>The sequel to Captain Marvel (2019).</td>\n",
              "      <td>11.669</td>\n",
              "      <td>[\"United States of America\"]</td>\n",
              "      <td>-157.0</td>\n",
              "      <td>0.0</td>\n",
              "      <td>[\"English\"]</td>\n",
              "      <td>609681.0</td>\n",
              "      <td>https://www.themoviedb.org/movie/609681/</td>\n",
              "      <td>0.0</td>\n",
              "      <td>0.0</td>\n",
              "      <td>2023-01-01</td>\n",
              "    </tr>\n",
              "    <tr>\n",
              "      <th>8561524</th>\n",
              "      <td>avatar-4</td>\n",
              "      <td>4</td>\n",
              "      <td>cxrlin</td>\n",
              "      <td>chelsea mackerel!</td>\n",
              "      <td>8.0</td>\n",
              "      <td>601.0</td>\n",
              "      <td>[\"Action\",\"Science Fiction\",\"Adventure\",\"Fanta...</td>\n",
              "      <td>film-poster/1/5/3/5/9/3/153593-avatar-4-0-230-...</td>\n",
              "      <td>tt3095356</td>\n",
              "      <td>http://www.imdb.com/title/tt3095356/maindetails</td>\n",
              "      <td>Avatar 4</td>\n",
              "      <td>en</td>\n",
              "      <td>NaN</td>\n",
              "      <td>27.320</td>\n",
              "      <td>[\"United States of America\"]</td>\n",
              "      <td>-1556.0</td>\n",
              "      <td>0.0</td>\n",
              "      <td>[\"English\"]</td>\n",
              "      <td>216527.0</td>\n",
              "      <td>https://www.themoviedb.org/movie/216527/</td>\n",
              "      <td>0.0</td>\n",
              "      <td>0.0</td>\n",
              "      <td>2026-01-01</td>\n",
              "    </tr>\n",
              "    <tr>\n",
              "      <th>8786338</th>\n",
              "      <td>the-little-mermaid-2023</td>\n",
              "      <td>1</td>\n",
              "      <td>miguelsmr</td>\n",
              "      <td>MiguelsMR</td>\n",
              "      <td>43.0</td>\n",
              "      <td>394.0</td>\n",
              "      <td>[\"Adventure\",\"Family\",\"Fantasy\",\"Romance\"]</td>\n",
              "      <td>film-poster/3/7/9/5/9/1/379591-the-little-merm...</td>\n",
              "      <td>tt5971474</td>\n",
              "      <td>http://www.imdb.com/title/tt5971474/maindetails</td>\n",
              "      <td>The Little Mermaid</td>\n",
              "      <td>en</td>\n",
              "      <td>A young mermaid makes a deal with a sea witch:...</td>\n",
              "      <td>9.875</td>\n",
              "      <td>[\"United States of America\"]</td>\n",
              "      <td>-256.0</td>\n",
              "      <td>0.0</td>\n",
              "      <td>[\"English\"]</td>\n",
              "      <td>447277.0</td>\n",
              "      <td>https://www.themoviedb.org/movie/447277/</td>\n",
              "      <td>0.0</td>\n",
              "      <td>0.0</td>\n",
              "      <td>2023-01-01</td>\n",
              "    </tr>\n",
              "    <tr>\n",
              "      <th>8986323</th>\n",
              "      <td>guardians-of-the-galaxy-vol-3</td>\n",
              "      <td>6</td>\n",
              "      <td>jsonbourne</td>\n",
              "      <td>jsonbourne</td>\n",
              "      <td>43.0</td>\n",
              "      <td>688.0</td>\n",
              "      <td>[\"Action\",\"Adventure\",\"Science Fiction\",\"Comedy\"]</td>\n",
              "      <td>film-poster/3/7/9/7/1/1/379711-guardians-of-th...</td>\n",
              "      <td>tt6791350</td>\n",
              "      <td>http://www.imdb.com/title/tt6791350/maindetails</td>\n",
              "      <td>Guardians of the Galaxy Vol. 3</td>\n",
              "      <td>en</td>\n",
              "      <td>The third film based on Marvel's Guardians of ...</td>\n",
              "      <td>26.469</td>\n",
              "      <td>[\"United States of America\"]</td>\n",
              "      <td>-233.0</td>\n",
              "      <td>0.0</td>\n",
              "      <td>[\"English\"]</td>\n",
              "      <td>447365.0</td>\n",
              "      <td>https://www.themoviedb.org/movie/447365/</td>\n",
              "      <td>0.0</td>\n",
              "      <td>0.0</td>\n",
              "      <td>2023-01-01</td>\n",
              "    </tr>\n",
              "    <tr>\n",
              "      <th>9166212</th>\n",
              "      <td>the-little-mermaid-2023</td>\n",
              "      <td>1</td>\n",
              "      <td>salavax88</td>\n",
              "      <td>salavax88</td>\n",
              "      <td>43.0</td>\n",
              "      <td>484.0</td>\n",
              "      <td>[\"Adventure\",\"Family\",\"Fantasy\",\"Romance\"]</td>\n",
              "      <td>film-poster/3/7/9/5/9/1/379591-the-little-merm...</td>\n",
              "      <td>tt5971474</td>\n",
              "      <td>http://www.imdb.com/title/tt5971474/maindetails</td>\n",
              "      <td>The Little Mermaid</td>\n",
              "      <td>en</td>\n",
              "      <td>A young mermaid makes a deal with a sea witch:...</td>\n",
              "      <td>9.875</td>\n",
              "      <td>[\"United States of America\"]</td>\n",
              "      <td>-256.0</td>\n",
              "      <td>0.0</td>\n",
              "      <td>[\"English\"]</td>\n",
              "      <td>447277.0</td>\n",
              "      <td>https://www.themoviedb.org/movie/447277/</td>\n",
              "      <td>0.0</td>\n",
              "      <td>0.0</td>\n",
              "      <td>2023-01-01</td>\n",
              "    </tr>\n",
              "    <tr>\n",
              "      <th>9351309</th>\n",
              "      <td>dune-part-two</td>\n",
              "      <td>10</td>\n",
              "      <td>donnydon</td>\n",
              "      <td>Brandon Bzduch</td>\n",
              "      <td>33.0</td>\n",
              "      <td>1081.0</td>\n",
              "      <td>[\"Adventure\",\"Science Fiction\"]</td>\n",
              "      <td>film-poster/6/1/7/4/4/3/617443-dune-part-two-0...</td>\n",
              "      <td>tt15239678</td>\n",
              "      <td>http://www.imdb.com/title/tt15239678/maindetails</td>\n",
              "      <td>Dune: Part Two</td>\n",
              "      <td>en</td>\n",
              "      <td>The second and final chapter of ‘Dune’ (2021).</td>\n",
              "      <td>11.463</td>\n",
              "      <td>[\"United States of America\"]</td>\n",
              "      <td>-402.0</td>\n",
              "      <td>0.0</td>\n",
              "      <td>[\"English\"]</td>\n",
              "      <td>693134.0</td>\n",
              "      <td>https://www.themoviedb.org/movie/693134/</td>\n",
              "      <td>0.0</td>\n",
              "      <td>0.0</td>\n",
              "      <td>2023-01-01</td>\n",
              "    </tr>\n",
              "    <tr>\n",
              "      <th>9450655</th>\n",
              "      <td>indiana-jones-5</td>\n",
              "      <td>7</td>\n",
              "      <td>kutulhu</td>\n",
              "      <td>Kutulhu</td>\n",
              "      <td>15.0</td>\n",
              "      <td>814.0</td>\n",
              "      <td>[\"Action\",\"Adventure\"]</td>\n",
              "      <td>film-poster/2/6/5/4/3/3/265433-indiana-jones-0...</td>\n",
              "      <td>tt1462764</td>\n",
              "      <td>http://www.imdb.com/title/tt1462764/maindetails</td>\n",
              "      <td>Indiana Jones 5</td>\n",
              "      <td>en</td>\n",
              "      <td>Fifth and final movie in the Indiana Jones fra...</td>\n",
              "      <td>7.818</td>\n",
              "      <td>[\"United States of America\"]</td>\n",
              "      <td>-290.0</td>\n",
              "      <td>0.0</td>\n",
              "      <td>[\"English\"]</td>\n",
              "      <td>335977.0</td>\n",
              "      <td>https://www.themoviedb.org/movie/335977/</td>\n",
              "      <td>0.0</td>\n",
              "      <td>0.0</td>\n",
              "      <td>2023-01-01</td>\n",
              "    </tr>\n",
              "    <tr>\n",
              "      <th>9509935</th>\n",
              "      <td>dune-part-two</td>\n",
              "      <td>10</td>\n",
              "      <td>miag0th</td>\n",
              "      <td>mya</td>\n",
              "      <td>12.0</td>\n",
              "      <td>975.0</td>\n",
              "      <td>[\"Adventure\",\"Science Fiction\"]</td>\n",
              "      <td>film-poster/6/1/7/4/4/3/617443-dune-part-two-0...</td>\n",
              "      <td>tt15239678</td>\n",
              "      <td>http://www.imdb.com/title/tt15239678/maindetails</td>\n",
              "      <td>Dune: Part Two</td>\n",
              "      <td>en</td>\n",
              "      <td>The second and final chapter of ‘Dune’ (2021).</td>\n",
              "      <td>11.463</td>\n",
              "      <td>[\"United States of America\"]</td>\n",
              "      <td>-402.0</td>\n",
              "      <td>0.0</td>\n",
              "      <td>[\"English\"]</td>\n",
              "      <td>693134.0</td>\n",
              "      <td>https://www.themoviedb.org/movie/693134/</td>\n",
              "      <td>0.0</td>\n",
              "      <td>0.0</td>\n",
              "      <td>2023-01-01</td>\n",
              "    </tr>\n",
              "    <tr>\n",
              "      <th>9538020</th>\n",
              "      <td>dune-part-two</td>\n",
              "      <td>10</td>\n",
              "      <td>repojack</td>\n",
              "      <td>RepoJack</td>\n",
              "      <td>8.0</td>\n",
              "      <td>753.0</td>\n",
              "      <td>[\"Adventure\",\"Science Fiction\"]</td>\n",
              "      <td>film-poster/6/1/7/4/4/3/617443-dune-part-two-0...</td>\n",
              "      <td>tt15239678</td>\n",
              "      <td>http://www.imdb.com/title/tt15239678/maindetails</td>\n",
              "      <td>Dune: Part Two</td>\n",
              "      <td>en</td>\n",
              "      <td>The second and final chapter of ‘Dune’ (2021).</td>\n",
              "      <td>11.463</td>\n",
              "      <td>[\"United States of America\"]</td>\n",
              "      <td>-402.0</td>\n",
              "      <td>0.0</td>\n",
              "      <td>[\"English\"]</td>\n",
              "      <td>693134.0</td>\n",
              "      <td>https://www.themoviedb.org/movie/693134/</td>\n",
              "      <td>0.0</td>\n",
              "      <td>0.0</td>\n",
              "      <td>2023-01-01</td>\n",
              "    </tr>\n",
              "    <tr>\n",
              "      <th>9539003</th>\n",
              "      <td>dune-part-two</td>\n",
              "      <td>10</td>\n",
              "      <td>darkcollector</td>\n",
              "      <td>The Salvador</td>\n",
              "      <td>29.0</td>\n",
              "      <td>863.0</td>\n",
              "      <td>[\"Adventure\",\"Science Fiction\"]</td>\n",
              "      <td>film-poster/6/1/7/4/4/3/617443-dune-part-two-0...</td>\n",
              "      <td>tt15239678</td>\n",
              "      <td>http://www.imdb.com/title/tt15239678/maindetails</td>\n",
              "      <td>Dune: Part Two</td>\n",
              "      <td>en</td>\n",
              "      <td>The second and final chapter of ‘Dune’ (2021).</td>\n",
              "      <td>11.463</td>\n",
              "      <td>[\"United States of America\"]</td>\n",
              "      <td>-402.0</td>\n",
              "      <td>0.0</td>\n",
              "      <td>[\"English\"]</td>\n",
              "      <td>693134.0</td>\n",
              "      <td>https://www.themoviedb.org/movie/693134/</td>\n",
              "      <td>0.0</td>\n",
              "      <td>0.0</td>\n",
              "      <td>2023-01-01</td>\n",
              "    </tr>\n",
              "    <tr>\n",
              "      <th>9542246</th>\n",
              "      <td>avatar-3</td>\n",
              "      <td>5</td>\n",
              "      <td>cxrlin</td>\n",
              "      <td>chelsea mackerel!</td>\n",
              "      <td>8.0</td>\n",
              "      <td>601.0</td>\n",
              "      <td>[\"Action\",\"Drama\",\"Science Fiction\",\"Adventure...</td>\n",
              "      <td>film-poster/7/0/0/0/7/70007-avatar-3-0-230-0-3...</td>\n",
              "      <td>tt1757678</td>\n",
              "      <td>http://www.imdb.com/title/tt1757678/maindetails</td>\n",
              "      <td>Avatar 3</td>\n",
              "      <td>en</td>\n",
              "      <td>NaN</td>\n",
              "      <td>23.550</td>\n",
              "      <td>[\"United States of America\"]</td>\n",
              "      <td>-828.0</td>\n",
              "      <td>0.0</td>\n",
              "      <td>[\"English\"]</td>\n",
              "      <td>83533.0</td>\n",
              "      <td>https://www.themoviedb.org/movie/83533/</td>\n",
              "      <td>0.0</td>\n",
              "      <td>0.0</td>\n",
              "      <td>2024-01-01</td>\n",
              "    </tr>\n",
              "    <tr>\n",
              "      <th>9598039</th>\n",
              "      <td>indiana-jones-5</td>\n",
              "      <td>3</td>\n",
              "      <td>yungdrilla</td>\n",
              "      <td>yungdrilla</td>\n",
              "      <td>43.0</td>\n",
              "      <td>640.0</td>\n",
              "      <td>[\"Action\",\"Adventure\"]</td>\n",
              "      <td>film-poster/2/6/5/4/3/3/265433-indiana-jones-0...</td>\n",
              "      <td>tt1462764</td>\n",
              "      <td>http://www.imdb.com/title/tt1462764/maindetails</td>\n",
              "      <td>Indiana Jones 5</td>\n",
              "      <td>en</td>\n",
              "      <td>Fifth and final movie in the Indiana Jones fra...</td>\n",
              "      <td>7.818</td>\n",
              "      <td>[\"United States of America\"]</td>\n",
              "      <td>-290.0</td>\n",
              "      <td>0.0</td>\n",
              "      <td>[\"English\"]</td>\n",
              "      <td>335977.0</td>\n",
              "      <td>https://www.themoviedb.org/movie/335977/</td>\n",
              "      <td>0.0</td>\n",
              "      <td>0.0</td>\n",
              "      <td>2023-01-01</td>\n",
              "    </tr>\n",
              "    <tr>\n",
              "      <th>10141959</th>\n",
              "      <td>the-last-train-to-new-york</td>\n",
              "      <td>1</td>\n",
              "      <td>hakeemp</td>\n",
              "      <td>HakeemP</td>\n",
              "      <td>26.0</td>\n",
              "      <td>703.0</td>\n",
              "      <td>[\"Action\",\"Horror\",\"Thriller\"]</td>\n",
              "      <td>film-poster/4/7/9/2/4/8/479248-last-train-to-n...</td>\n",
              "      <td>tt9256744</td>\n",
              "      <td>http://www.imdb.com/title/tt9256744/maindetails</td>\n",
              "      <td>The Last Train to New York</td>\n",
              "      <td>en</td>\n",
              "      <td>English-language remake of the South Korean zo...</td>\n",
              "      <td>2.479</td>\n",
              "      <td>[\"United States of America\"]</td>\n",
              "      <td>-221.0</td>\n",
              "      <td>0.0</td>\n",
              "      <td>[\"English\"]</td>\n",
              "      <td>550446.0</td>\n",
              "      <td>https://www.themoviedb.org/movie/550446/</td>\n",
              "      <td>0.0</td>\n",
              "      <td>0.0</td>\n",
              "      <td>2023-01-01</td>\n",
              "    </tr>\n",
              "    <tr>\n",
              "      <th>10153853</th>\n",
              "      <td>the-last-train-to-new-york</td>\n",
              "      <td>1</td>\n",
              "      <td>coleturner</td>\n",
              "      <td>Cole Turner</td>\n",
              "      <td>72.0</td>\n",
              "      <td>1351.0</td>\n",
              "      <td>[\"Action\",\"Horror\",\"Thriller\"]</td>\n",
              "      <td>film-poster/4/7/9/2/4/8/479248-last-train-to-n...</td>\n",
              "      <td>tt9256744</td>\n",
              "      <td>http://www.imdb.com/title/tt9256744/maindetails</td>\n",
              "      <td>The Last Train to New York</td>\n",
              "      <td>en</td>\n",
              "      <td>English-language remake of the South Korean zo...</td>\n",
              "      <td>2.479</td>\n",
              "      <td>[\"United States of America\"]</td>\n",
              "      <td>-221.0</td>\n",
              "      <td>0.0</td>\n",
              "      <td>[\"English\"]</td>\n",
              "      <td>550446.0</td>\n",
              "      <td>https://www.themoviedb.org/movie/550446/</td>\n",
              "      <td>0.0</td>\n",
              "      <td>0.0</td>\n",
              "      <td>2023-01-01</td>\n",
              "    </tr>\n",
              "    <tr>\n",
              "      <th>10258457</th>\n",
              "      <td>the-last-train-to-new-york</td>\n",
              "      <td>1</td>\n",
              "      <td>streetsahead55</td>\n",
              "      <td>StreetsAhead55</td>\n",
              "      <td>20.0</td>\n",
              "      <td>1757.0</td>\n",
              "      <td>[\"Action\",\"Horror\",\"Thriller\"]</td>\n",
              "      <td>film-poster/4/7/9/2/4/8/479248-last-train-to-n...</td>\n",
              "      <td>tt9256744</td>\n",
              "      <td>http://www.imdb.com/title/tt9256744/maindetails</td>\n",
              "      <td>The Last Train to New York</td>\n",
              "      <td>en</td>\n",
              "      <td>English-language remake of the South Korean zo...</td>\n",
              "      <td>2.479</td>\n",
              "      <td>[\"United States of America\"]</td>\n",
              "      <td>-221.0</td>\n",
              "      <td>0.0</td>\n",
              "      <td>[\"English\"]</td>\n",
              "      <td>550446.0</td>\n",
              "      <td>https://www.themoviedb.org/movie/550446/</td>\n",
              "      <td>0.0</td>\n",
              "      <td>0.0</td>\n",
              "      <td>2023-01-01</td>\n",
              "    </tr>\n",
              "    <tr>\n",
              "      <th>10263266</th>\n",
              "      <td>the-last-train-to-new-york</td>\n",
              "      <td>1</td>\n",
              "      <td>dianandonna</td>\n",
              "      <td>nico/knives</td>\n",
              "      <td>14.0</td>\n",
              "      <td>757.0</td>\n",
              "      <td>[\"Action\",\"Horror\",\"Thriller\"]</td>\n",
              "      <td>film-poster/4/7/9/2/4/8/479248-last-train-to-n...</td>\n",
              "      <td>tt9256744</td>\n",
              "      <td>http://www.imdb.com/title/tt9256744/maindetails</td>\n",
              "      <td>The Last Train to New York</td>\n",
              "      <td>en</td>\n",
              "      <td>English-language remake of the South Korean zo...</td>\n",
              "      <td>2.479</td>\n",
              "      <td>[\"United States of America\"]</td>\n",
              "      <td>-221.0</td>\n",
              "      <td>0.0</td>\n",
              "      <td>[\"English\"]</td>\n",
              "      <td>550446.0</td>\n",
              "      <td>https://www.themoviedb.org/movie/550446/</td>\n",
              "      <td>0.0</td>\n",
              "      <td>0.0</td>\n",
              "      <td>2023-01-01</td>\n",
              "    </tr>\n",
              "    <tr>\n",
              "      <th>10354837</th>\n",
              "      <td>indiana-jones-5</td>\n",
              "      <td>1</td>\n",
              "      <td>entity</td>\n",
              "      <td>Entity</td>\n",
              "      <td>43.0</td>\n",
              "      <td>4158.0</td>\n",
              "      <td>[\"Action\",\"Adventure\"]</td>\n",
              "      <td>film-poster/2/6/5/4/3/3/265433-indiana-jones-0...</td>\n",
              "      <td>tt1462764</td>\n",
              "      <td>http://www.imdb.com/title/tt1462764/maindetails</td>\n",
              "      <td>Indiana Jones 5</td>\n",
              "      <td>en</td>\n",
              "      <td>Fifth and final movie in the Indiana Jones fra...</td>\n",
              "      <td>7.818</td>\n",
              "      <td>[\"United States of America\"]</td>\n",
              "      <td>-290.0</td>\n",
              "      <td>0.0</td>\n",
              "      <td>[\"English\"]</td>\n",
              "      <td>335977.0</td>\n",
              "      <td>https://www.themoviedb.org/movie/335977/</td>\n",
              "      <td>0.0</td>\n",
              "      <td>0.0</td>\n",
              "      <td>2023-01-01</td>\n",
              "    </tr>\n",
              "    <tr>\n",
              "      <th>10592695</th>\n",
              "      <td>wonka</td>\n",
              "      <td>1</td>\n",
              "      <td>fabischfactor</td>\n",
              "      <td>Kurt Fabisch</td>\n",
              "      <td>33.0</td>\n",
              "      <td>1892.0</td>\n",
              "      <td>[\"Comedy\",\"Fantasy\",\"Family\"]</td>\n",
              "      <td>film-poster/7/0/6/0/8/3/706083-wonka-0-230-0-3...</td>\n",
              "      <td>tt6166392</td>\n",
              "      <td>http://www.imdb.com/title/tt6166392/maindetails</td>\n",
              "      <td>Wonka</td>\n",
              "      <td>en</td>\n",
              "      <td>A prequel film exploring the origin story of W...</td>\n",
              "      <td>13.761</td>\n",
              "      <td>[\"United States of America\"]</td>\n",
              "      <td>-459.0</td>\n",
              "      <td>0.0</td>\n",
              "      <td>[\"English\"]</td>\n",
              "      <td>787699.0</td>\n",
              "      <td>https://www.themoviedb.org/movie/787699/</td>\n",
              "      <td>0.0</td>\n",
              "      <td>0.0</td>\n",
              "      <td>2023-01-01</td>\n",
              "    </tr>\n",
              "    <tr>\n",
              "      <th>10592702</th>\n",
              "      <td>dune-part-two</td>\n",
              "      <td>1</td>\n",
              "      <td>fabischfactor</td>\n",
              "      <td>Kurt Fabisch</td>\n",
              "      <td>33.0</td>\n",
              "      <td>1892.0</td>\n",
              "      <td>[\"Adventure\",\"Science Fiction\"]</td>\n",
              "      <td>film-poster/6/1/7/4/4/3/617443-dune-part-two-0...</td>\n",
              "      <td>tt15239678</td>\n",
              "      <td>http://www.imdb.com/title/tt15239678/maindetails</td>\n",
              "      <td>Dune: Part Two</td>\n",
              "      <td>en</td>\n",
              "      <td>The second and final chapter of ‘Dune’ (2021).</td>\n",
              "      <td>11.463</td>\n",
              "      <td>[\"United States of America\"]</td>\n",
              "      <td>-402.0</td>\n",
              "      <td>0.0</td>\n",
              "      <td>[\"English\"]</td>\n",
              "      <td>693134.0</td>\n",
              "      <td>https://www.themoviedb.org/movie/693134/</td>\n",
              "      <td>0.0</td>\n",
              "      <td>0.0</td>\n",
              "      <td>2023-01-01</td>\n",
              "    </tr>\n",
              "  </tbody>\n",
              "</table>\n",
              "</div>\n",
              "      <button class=\"colab-df-convert\" onclick=\"convertToInteractive('df-fa013778-93ef-4ae7-b457-e5122294c698')\"\n",
              "              title=\"Convert this dataframe to an interactive table.\"\n",
              "              style=\"display:none;\">\n",
              "        \n",
              "  <svg xmlns=\"http://www.w3.org/2000/svg\" height=\"24px\"viewBox=\"0 0 24 24\"\n",
              "       width=\"24px\">\n",
              "    <path d=\"M0 0h24v24H0V0z\" fill=\"none\"/>\n",
              "    <path d=\"M18.56 5.44l.94 2.06.94-2.06 2.06-.94-2.06-.94-.94-2.06-.94 2.06-2.06.94zm-11 1L8.5 8.5l.94-2.06 2.06-.94-2.06-.94L8.5 2.5l-.94 2.06-2.06.94zm10 10l.94 2.06.94-2.06 2.06-.94-2.06-.94-.94-2.06-.94 2.06-2.06.94z\"/><path d=\"M17.41 7.96l-1.37-1.37c-.4-.4-.92-.59-1.43-.59-.52 0-1.04.2-1.43.59L10.3 9.45l-7.72 7.72c-.78.78-.78 2.05 0 2.83L4 21.41c.39.39.9.59 1.41.59.51 0 1.02-.2 1.41-.59l7.78-7.78 2.81-2.81c.8-.78.8-2.07 0-2.86zM5.41 20L4 18.59l7.72-7.72 1.47 1.35L5.41 20z\"/>\n",
              "  </svg>\n",
              "      </button>\n",
              "      \n",
              "  <style>\n",
              "    .colab-df-container {\n",
              "      display:flex;\n",
              "      flex-wrap:wrap;\n",
              "      gap: 12px;\n",
              "    }\n",
              "\n",
              "    .colab-df-convert {\n",
              "      background-color: #E8F0FE;\n",
              "      border: none;\n",
              "      border-radius: 50%;\n",
              "      cursor: pointer;\n",
              "      display: none;\n",
              "      fill: #1967D2;\n",
              "      height: 32px;\n",
              "      padding: 0 0 0 0;\n",
              "      width: 32px;\n",
              "    }\n",
              "\n",
              "    .colab-df-convert:hover {\n",
              "      background-color: #E2EBFA;\n",
              "      box-shadow: 0px 1px 2px rgba(60, 64, 67, 0.3), 0px 1px 3px 1px rgba(60, 64, 67, 0.15);\n",
              "      fill: #174EA6;\n",
              "    }\n",
              "\n",
              "    [theme=dark] .colab-df-convert {\n",
              "      background-color: #3B4455;\n",
              "      fill: #D2E3FC;\n",
              "    }\n",
              "\n",
              "    [theme=dark] .colab-df-convert:hover {\n",
              "      background-color: #434B5C;\n",
              "      box-shadow: 0px 1px 3px 1px rgba(0, 0, 0, 0.15);\n",
              "      filter: drop-shadow(0px 1px 2px rgba(0, 0, 0, 0.3));\n",
              "      fill: #FFFFFF;\n",
              "    }\n",
              "  </style>\n",
              "\n",
              "      <script>\n",
              "        const buttonEl =\n",
              "          document.querySelector('#df-fa013778-93ef-4ae7-b457-e5122294c698 button.colab-df-convert');\n",
              "        buttonEl.style.display =\n",
              "          google.colab.kernel.accessAllowed ? 'block' : 'none';\n",
              "\n",
              "        async function convertToInteractive(key) {\n",
              "          const element = document.querySelector('#df-fa013778-93ef-4ae7-b457-e5122294c698');\n",
              "          const dataTable =\n",
              "            await google.colab.kernel.invokeFunction('convertToInteractive',\n",
              "                                                     [key], {});\n",
              "          if (!dataTable) return;\n",
              "\n",
              "          const docLinkHtml = 'Like what you see? Visit the ' +\n",
              "            '<a target=\"_blank\" href=https://colab.research.google.com/notebooks/data_table.ipynb>data table notebook</a>'\n",
              "            + ' to learn more about interactive tables.';\n",
              "          element.innerHTML = '';\n",
              "          dataTable['output_type'] = 'display_data';\n",
              "          await google.colab.output.renderOutput(dataTable, element);\n",
              "          const docLink = document.createElement('div');\n",
              "          docLink.innerHTML = docLinkHtml;\n",
              "          element.appendChild(docLink);\n",
              "        }\n",
              "      </script>\n",
              "    </div>\n",
              "  </div>\n",
              "  "
            ]
          },
          "metadata": {},
          "execution_count": 46
        }
      ]
    },
    {
      "cell_type": "code",
      "source": [
        "df = df[df['year_released'] <= '2022']"
      ],
      "metadata": {
        "id": "0YstKeKLOwVJ"
      },
      "execution_count": 47,
      "outputs": []
    },
    {
      "cell_type": "markdown",
      "source": [
        "## Countries of Production"
      ],
      "metadata": {
        "id": "d-M9rH9CI8L0"
      }
    },
    {
      "cell_type": "code",
      "source": [
        "df_countries = pd.DataFrame().assign(production_countries = df['production_countries'], movie_id = df['movie_id'], movie_title = df['movie_title'], user_rating_for_movie = df['user_rating_for_movie'], movie_popularity = df['movie_popularity'], user_id = df['user_id'], u_num_reviews = df['u_num_reviews'])"
      ],
      "metadata": {
        "id": "kiB_sq-Q78UB"
      },
      "execution_count": 48,
      "outputs": []
    },
    {
      "cell_type": "code",
      "source": [
        "uniq_countries = df_countries.drop_duplicates(subset='movie_id')"
      ],
      "metadata": {
        "id": "Y-R-VSm87mFk"
      },
      "execution_count": 49,
      "outputs": []
    },
    {
      "cell_type": "code",
      "source": [
        "uniq_countries.head()"
      ],
      "metadata": {
        "colab": {
          "base_uri": "https://localhost:8080/",
          "height": 206
        },
        "id": "iRCba9XH9M1u",
        "outputId": "18e0ded3-b68f-4383-f0cf-26e125365f22"
      },
      "execution_count": 50,
      "outputs": [
        {
          "output_type": "execute_result",
          "data": {
            "text/plain": [
              "                                production_countries          movie_id  \\\n",
              "0                       [\"United States of America\"]        feast-2014   \n",
              "1      [\"United Kingdom\",\"United States of America\"]       loving-2016   \n",
              "2                       [\"United States of America\"]  scripted-content   \n",
              "3  [\"Germany\",\"United States of America\",\"France\"...        the-future   \n",
              "4                       [\"United States of America\"]              mank   \n",
              "\n",
              "        movie_title  user_rating_for_movie  movie_popularity     user_id  \\\n",
              "0             Feast                      7             9.260  deathproof   \n",
              "1            Loving                      7            18.024  deathproof   \n",
              "2  Scripted Content                      7             1.400  deathproof   \n",
              "3        The Future                      4             5.208  deathproof   \n",
              "4              Mank                      5            16.331  deathproof   \n",
              "\n",
              "   u_num_reviews  \n",
              "0         1650.0  \n",
              "1         1650.0  \n",
              "2         1650.0  \n",
              "3         1650.0  \n",
              "4         1650.0  "
            ],
            "text/html": [
              "\n",
              "  <div id=\"df-04f79967-494c-4309-ac1c-e7413a27448b\">\n",
              "    <div class=\"colab-df-container\">\n",
              "      <div>\n",
              "<style scoped>\n",
              "    .dataframe tbody tr th:only-of-type {\n",
              "        vertical-align: middle;\n",
              "    }\n",
              "\n",
              "    .dataframe tbody tr th {\n",
              "        vertical-align: top;\n",
              "    }\n",
              "\n",
              "    .dataframe thead th {\n",
              "        text-align: right;\n",
              "    }\n",
              "</style>\n",
              "<table border=\"1\" class=\"dataframe\">\n",
              "  <thead>\n",
              "    <tr style=\"text-align: right;\">\n",
              "      <th></th>\n",
              "      <th>production_countries</th>\n",
              "      <th>movie_id</th>\n",
              "      <th>movie_title</th>\n",
              "      <th>user_rating_for_movie</th>\n",
              "      <th>movie_popularity</th>\n",
              "      <th>user_id</th>\n",
              "      <th>u_num_reviews</th>\n",
              "    </tr>\n",
              "  </thead>\n",
              "  <tbody>\n",
              "    <tr>\n",
              "      <th>0</th>\n",
              "      <td>[\"United States of America\"]</td>\n",
              "      <td>feast-2014</td>\n",
              "      <td>Feast</td>\n",
              "      <td>7</td>\n",
              "      <td>9.260</td>\n",
              "      <td>deathproof</td>\n",
              "      <td>1650.0</td>\n",
              "    </tr>\n",
              "    <tr>\n",
              "      <th>1</th>\n",
              "      <td>[\"United Kingdom\",\"United States of America\"]</td>\n",
              "      <td>loving-2016</td>\n",
              "      <td>Loving</td>\n",
              "      <td>7</td>\n",
              "      <td>18.024</td>\n",
              "      <td>deathproof</td>\n",
              "      <td>1650.0</td>\n",
              "    </tr>\n",
              "    <tr>\n",
              "      <th>2</th>\n",
              "      <td>[\"United States of America\"]</td>\n",
              "      <td>scripted-content</td>\n",
              "      <td>Scripted Content</td>\n",
              "      <td>7</td>\n",
              "      <td>1.400</td>\n",
              "      <td>deathproof</td>\n",
              "      <td>1650.0</td>\n",
              "    </tr>\n",
              "    <tr>\n",
              "      <th>3</th>\n",
              "      <td>[\"Germany\",\"United States of America\",\"France\"...</td>\n",
              "      <td>the-future</td>\n",
              "      <td>The Future</td>\n",
              "      <td>4</td>\n",
              "      <td>5.208</td>\n",
              "      <td>deathproof</td>\n",
              "      <td>1650.0</td>\n",
              "    </tr>\n",
              "    <tr>\n",
              "      <th>4</th>\n",
              "      <td>[\"United States of America\"]</td>\n",
              "      <td>mank</td>\n",
              "      <td>Mank</td>\n",
              "      <td>5</td>\n",
              "      <td>16.331</td>\n",
              "      <td>deathproof</td>\n",
              "      <td>1650.0</td>\n",
              "    </tr>\n",
              "  </tbody>\n",
              "</table>\n",
              "</div>\n",
              "      <button class=\"colab-df-convert\" onclick=\"convertToInteractive('df-04f79967-494c-4309-ac1c-e7413a27448b')\"\n",
              "              title=\"Convert this dataframe to an interactive table.\"\n",
              "              style=\"display:none;\">\n",
              "        \n",
              "  <svg xmlns=\"http://www.w3.org/2000/svg\" height=\"24px\"viewBox=\"0 0 24 24\"\n",
              "       width=\"24px\">\n",
              "    <path d=\"M0 0h24v24H0V0z\" fill=\"none\"/>\n",
              "    <path d=\"M18.56 5.44l.94 2.06.94-2.06 2.06-.94-2.06-.94-.94-2.06-.94 2.06-2.06.94zm-11 1L8.5 8.5l.94-2.06 2.06-.94-2.06-.94L8.5 2.5l-.94 2.06-2.06.94zm10 10l.94 2.06.94-2.06 2.06-.94-2.06-.94-.94-2.06-.94 2.06-2.06.94z\"/><path d=\"M17.41 7.96l-1.37-1.37c-.4-.4-.92-.59-1.43-.59-.52 0-1.04.2-1.43.59L10.3 9.45l-7.72 7.72c-.78.78-.78 2.05 0 2.83L4 21.41c.39.39.9.59 1.41.59.51 0 1.02-.2 1.41-.59l7.78-7.78 2.81-2.81c.8-.78.8-2.07 0-2.86zM5.41 20L4 18.59l7.72-7.72 1.47 1.35L5.41 20z\"/>\n",
              "  </svg>\n",
              "      </button>\n",
              "      \n",
              "  <style>\n",
              "    .colab-df-container {\n",
              "      display:flex;\n",
              "      flex-wrap:wrap;\n",
              "      gap: 12px;\n",
              "    }\n",
              "\n",
              "    .colab-df-convert {\n",
              "      background-color: #E8F0FE;\n",
              "      border: none;\n",
              "      border-radius: 50%;\n",
              "      cursor: pointer;\n",
              "      display: none;\n",
              "      fill: #1967D2;\n",
              "      height: 32px;\n",
              "      padding: 0 0 0 0;\n",
              "      width: 32px;\n",
              "    }\n",
              "\n",
              "    .colab-df-convert:hover {\n",
              "      background-color: #E2EBFA;\n",
              "      box-shadow: 0px 1px 2px rgba(60, 64, 67, 0.3), 0px 1px 3px 1px rgba(60, 64, 67, 0.15);\n",
              "      fill: #174EA6;\n",
              "    }\n",
              "\n",
              "    [theme=dark] .colab-df-convert {\n",
              "      background-color: #3B4455;\n",
              "      fill: #D2E3FC;\n",
              "    }\n",
              "\n",
              "    [theme=dark] .colab-df-convert:hover {\n",
              "      background-color: #434B5C;\n",
              "      box-shadow: 0px 1px 3px 1px rgba(0, 0, 0, 0.15);\n",
              "      filter: drop-shadow(0px 1px 2px rgba(0, 0, 0, 0.3));\n",
              "      fill: #FFFFFF;\n",
              "    }\n",
              "  </style>\n",
              "\n",
              "      <script>\n",
              "        const buttonEl =\n",
              "          document.querySelector('#df-04f79967-494c-4309-ac1c-e7413a27448b button.colab-df-convert');\n",
              "        buttonEl.style.display =\n",
              "          google.colab.kernel.accessAllowed ? 'block' : 'none';\n",
              "\n",
              "        async function convertToInteractive(key) {\n",
              "          const element = document.querySelector('#df-04f79967-494c-4309-ac1c-e7413a27448b');\n",
              "          const dataTable =\n",
              "            await google.colab.kernel.invokeFunction('convertToInteractive',\n",
              "                                                     [key], {});\n",
              "          if (!dataTable) return;\n",
              "\n",
              "          const docLinkHtml = 'Like what you see? Visit the ' +\n",
              "            '<a target=\"_blank\" href=https://colab.research.google.com/notebooks/data_table.ipynb>data table notebook</a>'\n",
              "            + ' to learn more about interactive tables.';\n",
              "          element.innerHTML = '';\n",
              "          dataTable['output_type'] = 'display_data';\n",
              "          await google.colab.output.renderOutput(dataTable, element);\n",
              "          const docLink = document.createElement('div');\n",
              "          docLink.innerHTML = docLinkHtml;\n",
              "          element.appendChild(docLink);\n",
              "        }\n",
              "      </script>\n",
              "    </div>\n",
              "  </div>\n",
              "  "
            ]
          },
          "metadata": {},
          "execution_count": 50
        }
      ]
    },
    {
      "cell_type": "code",
      "source": [
        "from ast import literal_eval\n",
        "\n",
        "all_countries = [value for sublist in uniq_countries['production_countries'].apply(lambda row: literal_eval(row)) for value in sublist]\n",
        "\n",
        "from collections import Counter\n",
        "\n",
        "result_c = Counter(all_countries)\n",
        "result_c"
      ],
      "metadata": {
        "colab": {
          "base_uri": "https://localhost:8080/"
        },
        "id": "ddlIAm4jI93c",
        "outputId": "ced1fd45-d417-4587-b491-2f45dfad4c32"
      },
      "execution_count": 51,
      "outputs": [
        {
          "output_type": "execute_result",
          "data": {
            "text/plain": [
              "Counter({'United States of America': 68143,\n",
              "         'United Kingdom': 15455,\n",
              "         'Germany': 9560,\n",
              "         'France': 13920,\n",
              "         'Poland': 1313,\n",
              "         'India': 6014,\n",
              "         'Canada': 7632,\n",
              "         'Norway': 1159,\n",
              "         'Greece': 735,\n",
              "         'Hungary': 625,\n",
              "         'Australia': 2401,\n",
              "         'Japan': 8809,\n",
              "         'Hong Kong': 3392,\n",
              "         'Taiwan': 941,\n",
              "         'Mexico': 3529,\n",
              "         'Brazil': 4263,\n",
              "         'Ireland': 881,\n",
              "         'New Zealand': 490,\n",
              "         'Iceland': 276,\n",
              "         'Spain': 4307,\n",
              "         'Sweden': 2461,\n",
              "         'Lithuania': 170,\n",
              "         'Netherlands': 2364,\n",
              "         'Switzerland': 1163,\n",
              "         'Iran': 633,\n",
              "         'Bulgaria': 231,\n",
              "         'Czech Republic': 542,\n",
              "         'Austria': 1235,\n",
              "         'Italy': 7083,\n",
              "         'South Africa': 516,\n",
              "         'South Korea': 2125,\n",
              "         'Morocco': 141,\n",
              "         'Lebanon': 185,\n",
              "         'Denmark': 1884,\n",
              "         'Belgium': 1885,\n",
              "         'Jordan': 46,\n",
              "         'Qatar': 170,\n",
              "         'Ukraine': 323,\n",
              "         'Chile': 640,\n",
              "         'Turkey': 996,\n",
              "         'Portugal': 1170,\n",
              "         'Romania': 535,\n",
              "         'China': 1910,\n",
              "         'Senegal': 69,\n",
              "         'Macedonia': 189,\n",
              "         'Argentina': 2203,\n",
              "         'Colombia': 326,\n",
              "         'Uruguay': 166,\n",
              "         'Luxembourg': 248,\n",
              "         'Malaysia': 216,\n",
              "         'Georgia': 152,\n",
              "         'United Arab Emirates': 121,\n",
              "         'Russia': 2621,\n",
              "         'Soviet Union': 1248,\n",
              "         'Myanmar': 38,\n",
              "         'Armenia': 54,\n",
              "         'Czechoslovakia': 535,\n",
              "         'Guyana': 6,\n",
              "         'Puerto Rico': 127,\n",
              "         'Azerbaijan': 50,\n",
              "         'Slovenia': 325,\n",
              "         'Slovakia': 139,\n",
              "         'Cambodia': 66,\n",
              "         'Guatemala': 46,\n",
              "         'Syrian Arab Republic': 74,\n",
              "         'Saudi Arabia': 43,\n",
              "         'Indonesia': 1032,\n",
              "         'Cyprus': 45,\n",
              "         'Egypt': 635,\n",
              "         'Finland': 931,\n",
              "         'Latvia': 210,\n",
              "         'Cuba': 213,\n",
              "         'Malawi': 8,\n",
              "         'Belarus': 68,\n",
              "         'Dominican Republic': 93,\n",
              "         'Sri Lanka': 44,\n",
              "         'Israel': 647,\n",
              "         'Singapore': 264,\n",
              "         'Thailand': 650,\n",
              "         'Ghana': 57,\n",
              "         'Nigeria': 112,\n",
              "         'Nepal': 43,\n",
              "         'Peru': 200,\n",
              "         'Bahamas': 21,\n",
              "         'Monaco': 20,\n",
              "         'Serbia': 600,\n",
              "         'Greenland': 23,\n",
              "         'Afghanistan': 55,\n",
              "         'Estonia': 271,\n",
              "         'Bolivia': 70,\n",
              "         'Malta': 30,\n",
              "         'Venezuela': 153,\n",
              "         'North Korea': 36,\n",
              "         \"Lao People's Democratic Republic\": 20,\n",
              "         'Palestinian Territory': 112,\n",
              "         'Congo': 40,\n",
              "         'Albania': 109,\n",
              "         'Paraguay': 31,\n",
              "         'Croatia': 538,\n",
              "         'Philippines': 2007,\n",
              "         'Liechtenstein': 23,\n",
              "         'Cameroon': 38,\n",
              "         'Martinique': 5,\n",
              "         'Uganda': 18,\n",
              "         'Ethiopia': 34,\n",
              "         'Vietnam': 137,\n",
              "         'Yugoslavia': 1495,\n",
              "         'Niger': 28,\n",
              "         'Tunisia': 100,\n",
              "         'Kenya': 61,\n",
              "         'Botswana': 9,\n",
              "         'Algeria': 108,\n",
              "         'Aruba': 12,\n",
              "         'Bosnia and Herzegovina': 213,\n",
              "         'Namibia': 19,\n",
              "         'Kuwait': 14,\n",
              "         'Uzbekistan': 27,\n",
              "         'Rwanda': 26,\n",
              "         'Angola': 24,\n",
              "         'Serbia and Montenegro': 18,\n",
              "         'Ecuador': 93,\n",
              "         'Kazakhstan': 94,\n",
              "         \"Cote D'Ivoire\": 21,\n",
              "         'Zimbabwe': 20,\n",
              "         'Mauritania': 18,\n",
              "         'Honduras': 18,\n",
              "         'Antarctica': 6,\n",
              "         'Burkina Faso': 52,\n",
              "         'Panama': 31,\n",
              "         'Mali': 25,\n",
              "         'Grenada': 4,\n",
              "         'Bangladesh': 79,\n",
              "         'Mongolia': 34,\n",
              "         'Costa Rica': 62,\n",
              "         'Kyrgyz Republic': 28,\n",
              "         'Belize': 7,\n",
              "         'Pakistan': 104,\n",
              "         'Trinidad and Tobago': 21,\n",
              "         'Brunei Darussalam': 3,\n",
              "         'Bahrain': 9,\n",
              "         'Benin': 12,\n",
              "         'East Germany': 243,\n",
              "         'Yemen': 14,\n",
              "         'Mozambique': 25,\n",
              "         'Liberia': 11,\n",
              "         'Tanzania': 22,\n",
              "         'Togo': 5,\n",
              "         'El Salvador': 19,\n",
              "         'Gabon': 11,\n",
              "         'Sudan': 23,\n",
              "         'Nicaragua': 14,\n",
              "         'Macao': 27,\n",
              "         'Zambia': 10,\n",
              "         'Jamaica': 23,\n",
              "         'Holy See': 7,\n",
              "         'Somalia': 9,\n",
              "         'Montenegro': 52,\n",
              "         'Vanuatu': 8,\n",
              "         'Kosovo': 56,\n",
              "         'Chad': 14,\n",
              "         'Lesotho': 5,\n",
              "         'Iraq': 56,\n",
              "         'Guinea-Bissau': 13,\n",
              "         'Guadaloupe': 3,\n",
              "         'Christmas Island': 1,\n",
              "         'Bhutan': 11,\n",
              "         'Cayman Islands': 4,\n",
              "         'Turks and Caicos Islands': 3,\n",
              "         'Samoa': 7,\n",
              "         'Moldova': 23,\n",
              "         'Mauritius': 6,\n",
              "         'Swaziland': 6,\n",
              "         'Libyan Arab Jamahiriya': 14,\n",
              "         'Djibouti': 5,\n",
              "         'St. Pierre and Miquelon': 1,\n",
              "         'Madagascar': 15,\n",
              "         'Netherlands Antilles': 8,\n",
              "         'Timor-Leste': 5,\n",
              "         'Fiji': 9,\n",
              "         'Cape Verde': 11,\n",
              "         'Gambia': 5,\n",
              "         'San Marino': 3,\n",
              "         'Anguilla': 2,\n",
              "         'St. Vincent and the Grenadines': 4,\n",
              "         'US Virgin Islands': 2,\n",
              "         'New Caledonia': 3,\n",
              "         'Sao Tome and Principe': 2,\n",
              "         'British Virgin Islands': 2,\n",
              "         'Antigua and Barbuda': 5,\n",
              "         'Andorra': 7,\n",
              "         'Dominica': 6,\n",
              "         'Sierra Leone': 7,\n",
              "         'Eritrea': 5,\n",
              "         'Central African Republic': 6,\n",
              "         'South Sudan': 5,\n",
              "         'Svalbard & Jan Mayen Islands': 4,\n",
              "         'Oman': 9,\n",
              "         'Suriname': 7,\n",
              "         'Barbados': 7,\n",
              "         'Falkland Islands': 4,\n",
              "         'Solomon Islands': 5,\n",
              "         'Equatorial Guinea': 4,\n",
              "         'Faeroe Islands': 11,\n",
              "         'Haiti': 27,\n",
              "         'Western Sahara': 4,\n",
              "         'Tajikistan': 11,\n",
              "         'Papua New Guinea': 18,\n",
              "         'Reunion': 3,\n",
              "         'Tuvalu': 3,\n",
              "         'Burundi': 5,\n",
              "         'Tonga': 5,\n",
              "         'Nauru': 1,\n",
              "         'Cook Islands': 5,\n",
              "         'Niue': 2,\n",
              "         'Seychelles': 3,\n",
              "         'Guinea': 9,\n",
              "         'Marshall Islands': 6,\n",
              "         'Cocos  Islands': 1,\n",
              "         'French Guiana': 5,\n",
              "         'American Samoa': 2,\n",
              "         'Comoros': 2,\n",
              "         'St. Lucia': 4,\n",
              "         'St. Helena': 1,\n",
              "         'Pitcairn Island': 2,\n",
              "         'Gibraltar': 2,\n",
              "         'Kiribati': 3,\n",
              "         'Micronesia': 2,\n",
              "         'Bouvet Island': 1,\n",
              "         'French Polynesia': 5,\n",
              "         'Palau': 2,\n",
              "         'Bermuda': 6,\n",
              "         'Maldives': 3,\n",
              "         'Northern Mariana Islands': 2,\n",
              "         'Turkmenistan': 3,\n",
              "         'British Indian Ocean Territory': 1,\n",
              "         'Guam': 2,\n",
              "         'South Georgia and the South Sandwich Islands': 1,\n",
              "         'St. Kitts and Nevis': 1})"
            ]
          },
          "metadata": {},
          "execution_count": 51
        }
      ]
    },
    {
      "cell_type": "code",
      "source": [
        "#c = pd.DataFrame(result_c)\n",
        "c = pd.DataFrame.from_dict(result_c, orient='index').reset_index()"
      ],
      "metadata": {
        "id": "Z264rBncHU1B"
      },
      "execution_count": 60,
      "outputs": []
    },
    {
      "cell_type": "code",
      "source": [
        "c.head()"
      ],
      "metadata": {
        "colab": {
          "base_uri": "https://localhost:8080/",
          "height": 206
        },
        "id": "AhA7wu6GH97H",
        "outputId": "5b2ea7f3-db49-4ba1-f089-f38392e9f2f0"
      },
      "execution_count": 63,
      "outputs": [
        {
          "output_type": "execute_result",
          "data": {
            "text/plain": [
              "                      index      0\n",
              "0  United States of America  68143\n",
              "1            United Kingdom  15455\n",
              "2                   Germany   9560\n",
              "3                    France  13920\n",
              "4                    Poland   1313"
            ],
            "text/html": [
              "\n",
              "  <div id=\"df-8eb38acf-6988-4fde-81c8-c2d97c53e64e\">\n",
              "    <div class=\"colab-df-container\">\n",
              "      <div>\n",
              "<style scoped>\n",
              "    .dataframe tbody tr th:only-of-type {\n",
              "        vertical-align: middle;\n",
              "    }\n",
              "\n",
              "    .dataframe tbody tr th {\n",
              "        vertical-align: top;\n",
              "    }\n",
              "\n",
              "    .dataframe thead th {\n",
              "        text-align: right;\n",
              "    }\n",
              "</style>\n",
              "<table border=\"1\" class=\"dataframe\">\n",
              "  <thead>\n",
              "    <tr style=\"text-align: right;\">\n",
              "      <th></th>\n",
              "      <th>index</th>\n",
              "      <th>0</th>\n",
              "    </tr>\n",
              "  </thead>\n",
              "  <tbody>\n",
              "    <tr>\n",
              "      <th>0</th>\n",
              "      <td>United States of America</td>\n",
              "      <td>68143</td>\n",
              "    </tr>\n",
              "    <tr>\n",
              "      <th>1</th>\n",
              "      <td>United Kingdom</td>\n",
              "      <td>15455</td>\n",
              "    </tr>\n",
              "    <tr>\n",
              "      <th>2</th>\n",
              "      <td>Germany</td>\n",
              "      <td>9560</td>\n",
              "    </tr>\n",
              "    <tr>\n",
              "      <th>3</th>\n",
              "      <td>France</td>\n",
              "      <td>13920</td>\n",
              "    </tr>\n",
              "    <tr>\n",
              "      <th>4</th>\n",
              "      <td>Poland</td>\n",
              "      <td>1313</td>\n",
              "    </tr>\n",
              "  </tbody>\n",
              "</table>\n",
              "</div>\n",
              "      <button class=\"colab-df-convert\" onclick=\"convertToInteractive('df-8eb38acf-6988-4fde-81c8-c2d97c53e64e')\"\n",
              "              title=\"Convert this dataframe to an interactive table.\"\n",
              "              style=\"display:none;\">\n",
              "        \n",
              "  <svg xmlns=\"http://www.w3.org/2000/svg\" height=\"24px\"viewBox=\"0 0 24 24\"\n",
              "       width=\"24px\">\n",
              "    <path d=\"M0 0h24v24H0V0z\" fill=\"none\"/>\n",
              "    <path d=\"M18.56 5.44l.94 2.06.94-2.06 2.06-.94-2.06-.94-.94-2.06-.94 2.06-2.06.94zm-11 1L8.5 8.5l.94-2.06 2.06-.94-2.06-.94L8.5 2.5l-.94 2.06-2.06.94zm10 10l.94 2.06.94-2.06 2.06-.94-2.06-.94-.94-2.06-.94 2.06-2.06.94z\"/><path d=\"M17.41 7.96l-1.37-1.37c-.4-.4-.92-.59-1.43-.59-.52 0-1.04.2-1.43.59L10.3 9.45l-7.72 7.72c-.78.78-.78 2.05 0 2.83L4 21.41c.39.39.9.59 1.41.59.51 0 1.02-.2 1.41-.59l7.78-7.78 2.81-2.81c.8-.78.8-2.07 0-2.86zM5.41 20L4 18.59l7.72-7.72 1.47 1.35L5.41 20z\"/>\n",
              "  </svg>\n",
              "      </button>\n",
              "      \n",
              "  <style>\n",
              "    .colab-df-container {\n",
              "      display:flex;\n",
              "      flex-wrap:wrap;\n",
              "      gap: 12px;\n",
              "    }\n",
              "\n",
              "    .colab-df-convert {\n",
              "      background-color: #E8F0FE;\n",
              "      border: none;\n",
              "      border-radius: 50%;\n",
              "      cursor: pointer;\n",
              "      display: none;\n",
              "      fill: #1967D2;\n",
              "      height: 32px;\n",
              "      padding: 0 0 0 0;\n",
              "      width: 32px;\n",
              "    }\n",
              "\n",
              "    .colab-df-convert:hover {\n",
              "      background-color: #E2EBFA;\n",
              "      box-shadow: 0px 1px 2px rgba(60, 64, 67, 0.3), 0px 1px 3px 1px rgba(60, 64, 67, 0.15);\n",
              "      fill: #174EA6;\n",
              "    }\n",
              "\n",
              "    [theme=dark] .colab-df-convert {\n",
              "      background-color: #3B4455;\n",
              "      fill: #D2E3FC;\n",
              "    }\n",
              "\n",
              "    [theme=dark] .colab-df-convert:hover {\n",
              "      background-color: #434B5C;\n",
              "      box-shadow: 0px 1px 3px 1px rgba(0, 0, 0, 0.15);\n",
              "      filter: drop-shadow(0px 1px 2px rgba(0, 0, 0, 0.3));\n",
              "      fill: #FFFFFF;\n",
              "    }\n",
              "  </style>\n",
              "\n",
              "      <script>\n",
              "        const buttonEl =\n",
              "          document.querySelector('#df-8eb38acf-6988-4fde-81c8-c2d97c53e64e button.colab-df-convert');\n",
              "        buttonEl.style.display =\n",
              "          google.colab.kernel.accessAllowed ? 'block' : 'none';\n",
              "\n",
              "        async function convertToInteractive(key) {\n",
              "          const element = document.querySelector('#df-8eb38acf-6988-4fde-81c8-c2d97c53e64e');\n",
              "          const dataTable =\n",
              "            await google.colab.kernel.invokeFunction('convertToInteractive',\n",
              "                                                     [key], {});\n",
              "          if (!dataTable) return;\n",
              "\n",
              "          const docLinkHtml = 'Like what you see? Visit the ' +\n",
              "            '<a target=\"_blank\" href=https://colab.research.google.com/notebooks/data_table.ipynb>data table notebook</a>'\n",
              "            + ' to learn more about interactive tables.';\n",
              "          element.innerHTML = '';\n",
              "          dataTable['output_type'] = 'display_data';\n",
              "          await google.colab.output.renderOutput(dataTable, element);\n",
              "          const docLink = document.createElement('div');\n",
              "          docLink.innerHTML = docLinkHtml;\n",
              "          element.appendChild(docLink);\n",
              "        }\n",
              "      </script>\n",
              "    </div>\n",
              "  </div>\n",
              "  "
            ]
          },
          "metadata": {},
          "execution_count": 63
        }
      ]
    },
    {
      "cell_type": "markdown",
      "source": [
        "We can plot the countries of production."
      ],
      "metadata": {
        "id": "2KMZEE7eLF1_"
      }
    },
    {
      "cell_type": "code",
      "source": [
        "#graph c as a bar graph\n",
        "plt.figure(figsize=(30,20))\n",
        "sns.barplot(data=c, x=c['index'], y=c[0], color='blue')\n",
        "plt.title('Number of Movies Produced in Various Countries')\n",
        "plt.xticks(rotation=90)\n",
        "plt.show()"
      ],
      "metadata": {
        "colab": {
          "base_uri": "https://localhost:8080/",
          "height": 1000
        },
        "id": "_PSj42KY-PPt",
        "outputId": "a96bf214-1ffa-440d-d017-a47a1e8adcee"
      },
      "execution_count": 74,
      "outputs": [
        {
          "output_type": "display_data",
          "data": {
            "text/plain": [
              "<Figure size 2160x1440 with 1 Axes>"
            ],
            "image/png": "[encoded data removed]"
          },
          "metadata": {
            "needs_background": "light"
          }
        }
      ]
    },
    {
      "cell_type": "code",
      "source": [
        "c.shape"
      ],
      "metadata": {
        "colab": {
          "base_uri": "https://localhost:8080/"
        },
        "id": "ATrQf_TGK-Lo",
        "outputId": "fcca6059-43ec-497a-8ede-ee1cd21b87ab"
      },
      "execution_count": 76,
      "outputs": [
        {
          "output_type": "execute_result",
          "data": {
            "text/plain": [
              "(238, 2)"
            ]
          },
          "metadata": {},
          "execution_count": 76
        }
      ]
    },
    {
      "cell_type": "markdown",
      "source": [
        "There are 238 countries listed in total. \n"
      ],
      "metadata": {
        "id": "X45SeOyzLjEA"
      }
    },
    {
      "cell_type": "markdown",
      "source": [
        "# Most Populars"
      ],
      "metadata": {
        "id": "4Bdqgr9mRpz9"
      }
    },
    {
      "cell_type": "code",
      "source": [
        "plt.figure(figsize=(10,6))\n",
        "popular_movie = uniq_movies.sort_values('movie_popularity', ascending=False)\n",
        "plt.barh(popular_movie['movie_title'].head(10), popular_movie['movie_popularity'].head(10), color='blue')\n",
        "plt.gca().invert_yaxis()\n",
        "plt.title('Most Popular Movies Based on TMDB')\n",
        "plt.xlabel('Movie Title')\n",
        "plt.ylabel('Movie Popularity (TMDB)')\n",
        "plt.show()"
      ],
      "metadata": {
        "colab": {
          "base_uri": "https://localhost:8080/",
          "height": 404
        },
        "id": "UAQNpYKJRr_o",
        "outputId": "0c9cf43c-88df-4147-8485-0cabfb6c90f6"
      },
      "execution_count": 55,
      "outputs": [
        {
          "output_type": "display_data",
          "data": {
            "text/plain": [
              "<Figure size 720x432 with 1 Axes>"
            ],
            "image/png": "[encoded data removed]"
          },
          "metadata": {
            "needs_background": "light"
          }
        }
      ]
    },
    {
      "cell_type": "markdown",
      "source": [
        "# Saving DataFrame"
      ],
      "metadata": {
        "id": "PRI7INTGWaBq"
      }
    },
    {
      "cell_type": "markdown",
      "source": [
        "Save the dataframe."
      ],
      "metadata": {
        "id": "e4tmfjkcVLrY"
      }
    },
    {
      "cell_type": "code",
      "source": [
        "df.shape"
      ],
      "metadata": {
        "id": "YMYe-ihJMw81",
        "colab": {
          "base_uri": "https://localhost:8080/"
        },
        "outputId": "9356b69f-dcf7-4a72-f34f-d846418e4c28"
      },
      "execution_count": 56,
      "outputs": [
        {
          "output_type": "execute_result",
          "data": {
            "text/plain": [
              "(10664887, 23)"
            ]
          },
          "metadata": {},
          "execution_count": 56
        }
      ]
    },
    {
      "cell_type": "code",
      "source": [
        "#saving dataset\n",
        "from google.colab import drive\n",
        "\n",
        "drive.mount('/content/drive')\n",
        "path = '/content/drive/My Drive/df_eda.csv'\n",
        "\n",
        "with open(path, 'w') as f:\n",
        "  df.to_csv(f)"
      ],
      "metadata": {
        "id": "t_fg1LHrVNaV",
        "colab": {
          "base_uri": "https://localhost:8080/"
        },
        "outputId": "e7f07a64-4a39-44c0-b276-986673e2ee06"
      },
      "execution_count": 57,
      "outputs": [
        {
          "output_type": "stream",
          "name": "stdout",
          "text": [
            "Drive already mounted at /content/drive; to attempt to forcibly remount, call drive.mount(\"/content/drive\", force_remount=True).\n"
          ]
        }
      ]
    }
  ]
}